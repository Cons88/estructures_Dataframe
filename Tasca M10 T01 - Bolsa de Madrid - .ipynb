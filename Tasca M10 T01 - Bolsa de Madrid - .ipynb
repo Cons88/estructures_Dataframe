{
 "cells": [
  {
   "cell_type": "markdown",
   "id": "178576c6",
   "metadata": {},
   "source": [
    "- Web Scraping with Beautiful Soup"
   ]
  },
  {
   "cell_type": "markdown",
   "id": "0b9d7c13",
   "metadata": {},
   "source": [
    "Tasca M10 T01\n",
    "\n",
    "Descripció\n",
    "\n",
    "Exercicis de Web Scraping\n",
    "\n",
    "Exercici 1\n",
    "Realitza web scraping de dues de les tres pàgines web proposades utilitzant BeautifulSoup primer i Selenium després.\n",
    "\n",
    "https://www.bolsamadrid.es"
   ]
  },
  {
   "cell_type": "code",
   "execution_count": 5,
   "id": "966d6e79",
   "metadata": {},
   "outputs": [],
   "source": [
    "from bs4 import BeautifulSoup\n",
    "import pandas as pd\n",
    "import requests\n",
    "from selenium.webdriver import Chrome\n",
    "from selenium.webdriver.common.by import By\n",
    "import scrapy\n",
    "from scrapy.crawler import CrawlerProcess"
   ]
  },
  {
   "cell_type": "code",
   "execution_count": 6,
   "id": "2382afdf",
   "metadata": {},
   "outputs": [],
   "source": [
    "# Bolsa madrid link\n",
    "url = 'https://www.bolsamadrid.es'"
   ]
  },
  {
   "cell_type": "code",
   "execution_count": 7,
   "id": "53f9e5dc",
   "metadata": {},
   "outputs": [],
   "source": [
    "# Download the HTML\n",
    "html = requests.get(url)"
   ]
  },
  {
   "cell_type": "code",
   "execution_count": 8,
   "id": "e8cb68aa",
   "metadata": {},
   "outputs": [],
   "source": [
    "# Parse the HTML\n",
    "soup = BeautifulSoup(html.content, 'html.parser')"
   ]
  },
  {
   "cell_type": "code",
   "execution_count": 9,
   "id": "5d30f52d",
   "metadata": {},
   "outputs": [],
   "source": [
    "# Get the Acciones links\n",
    "links = [link.get('href') for link in soup.find_all('a', string='Acciones')]"
   ]
  },
  {
   "cell_type": "code",
   "execution_count": 10,
   "id": "e51482c4",
   "metadata": {},
   "outputs": [],
   "source": [
    "# Accciones link\n",
    "url_acciones = url + links[0]"
   ]
  },
  {
   "cell_type": "code",
   "execution_count": 11,
   "id": "a5a6e336",
   "metadata": {},
   "outputs": [],
   "source": [
    "# Download the HTML\n",
    "html_acciones = requests.get(url_acciones)"
   ]
  },
  {
   "cell_type": "code",
   "execution_count": 12,
   "id": "2cd9a5ec",
   "metadata": {},
   "outputs": [],
   "source": [
    "# Parse the HTML\n",
    "soup_acciones = BeautifulSoup(html_acciones.content, 'html.parser')"
   ]
  },
  {
   "cell_type": "code",
   "execution_count": 13,
   "id": "27909b69",
   "metadata": {},
   "outputs": [],
   "source": [
    "# Get the table of Acciones\n",
    "table_acciones = soup_acciones.find(id='ctl00_Contenido_tblAcciones')"
   ]
  },
  {
   "cell_type": "code",
   "execution_count": 15,
   "id": "0b4e0bb1",
   "metadata": {},
   "outputs": [
    {
     "name": "stdout",
     "output_type": "stream",
     "text": [
      "None\n"
     ]
    }
   ],
   "source": [
    "# Check table code\n",
    "print(table_acciones)"
   ]
  },
  {
   "cell_type": "code",
   "execution_count": 16,
   "id": "920f143c",
   "metadata": {},
   "outputs": [
    {
     "ename": "AttributeError",
     "evalue": "'NoneType' object has no attribute 'find_all'",
     "output_type": "error",
     "traceback": [
      "\u001b[1;31m---------------------------------------------------------------------------\u001b[0m",
      "\u001b[1;31mAttributeError\u001b[0m                            Traceback (most recent call last)",
      "Input \u001b[1;32mIn [16]\u001b[0m, in \u001b[0;36m<cell line: 3>\u001b[1;34m()\u001b[0m\n\u001b[0;32m      1\u001b[0m \u001b[38;5;66;03m# Parse columns and row values\u001b[39;00m\n\u001b[0;32m      2\u001b[0m values \u001b[38;5;241m=\u001b[39m []\n\u001b[1;32m----> 3\u001b[0m \u001b[38;5;28;01mfor\u001b[39;00m row \u001b[38;5;129;01min\u001b[39;00m \u001b[43mtable_acciones\u001b[49m\u001b[38;5;241;43m.\u001b[39;49m\u001b[43mfind_all\u001b[49m(\u001b[38;5;124m'\u001b[39m\u001b[38;5;124mtr\u001b[39m\u001b[38;5;124m'\u001b[39m):\n\u001b[0;32m      4\u001b[0m     \u001b[38;5;28;01mif\u001b[39;00m row\u001b[38;5;241m.\u001b[39mfind_all(\u001b[38;5;124m'\u001b[39m\u001b[38;5;124mth\u001b[39m\u001b[38;5;124m'\u001b[39m):\n\u001b[0;32m      5\u001b[0m         columns \u001b[38;5;241m=\u001b[39m [element\u001b[38;5;241m.\u001b[39mget_text() \u001b[38;5;28;01mfor\u001b[39;00m element \u001b[38;5;129;01min\u001b[39;00m row\u001b[38;5;241m.\u001b[39mfind_all(\u001b[38;5;124m'\u001b[39m\u001b[38;5;124mth\u001b[39m\u001b[38;5;124m'\u001b[39m)]\n",
      "\u001b[1;31mAttributeError\u001b[0m: 'NoneType' object has no attribute 'find_all'"
     ]
    }
   ],
   "source": [
    "# Parse columns and row values\n",
    "values = []\n",
    "for row in table_acciones.find_all('tr'):\n",
    "    if row.find_all('th'):\n",
    "        columns = [element.get_text() for element in row.find_all('th')]\n",
    "    elif row.find_all('td'):\n",
    "        values.append([element.get_text() for element in row.find_all('td')])"
   ]
  },
  {
   "cell_type": "code",
   "execution_count": 17,
   "id": "18c59d2b",
   "metadata": {},
   "outputs": [
    {
     "ename": "NameError",
     "evalue": "name 'columns' is not defined",
     "output_type": "error",
     "traceback": [
      "\u001b[1;31m---------------------------------------------------------------------------\u001b[0m",
      "\u001b[1;31mNameError\u001b[0m                                 Traceback (most recent call last)",
      "Input \u001b[1;32mIn [17]\u001b[0m, in \u001b[0;36m<cell line: 2>\u001b[1;34m()\u001b[0m\n\u001b[0;32m      1\u001b[0m \u001b[38;5;66;03m# Save values into a dataframe\u001b[39;00m\n\u001b[1;32m----> 2\u001b[0m acciones \u001b[38;5;241m=\u001b[39m pd\u001b[38;5;241m.\u001b[39mDataFrame(values, columns\u001b[38;5;241m=\u001b[39m\u001b[43mcolumns\u001b[49m)\n",
      "\u001b[1;31mNameError\u001b[0m: name 'columns' is not defined"
     ]
    }
   ],
   "source": [
    "# Save values into a dataframe\n",
    "acciones = pd.DataFrame(values, columns=columns)"
   ]
  },
  {
   "cell_type": "code",
   "execution_count": null,
   "id": "22c38820",
   "metadata": {},
   "outputs": [],
   "source": []
  },
  {
   "cell_type": "markdown",
   "id": "5dcbd954",
   "metadata": {},
   "source": [
    "- Selenium"
   ]
  },
  {
   "cell_type": "code",
   "execution_count": 18,
   "id": "7d39e7d3",
   "metadata": {},
   "outputs": [],
   "source": [
    "# Open browser\n",
    "browser = Chrome()"
   ]
  },
  {
   "cell_type": "code",
   "execution_count": 19,
   "id": "d90dd0e3",
   "metadata": {},
   "outputs": [],
   "source": [
    "# Get the page\n",
    "browser.get(url)"
   ]
  },
  {
   "cell_type": "code",
   "execution_count": 20,
   "id": "6278f4fd",
   "metadata": {},
   "outputs": [],
   "source": [
    "# Get the links\n",
    "links = browser.find_elements(By.LINK_TEXT, 'Acciones')"
   ]
  },
  {
   "cell_type": "code",
   "execution_count": 21,
   "id": "b64d4902",
   "metadata": {},
   "outputs": [
    {
     "ename": "IndexError",
     "evalue": "list index out of range",
     "output_type": "error",
     "traceback": [
      "\u001b[1;31m---------------------------------------------------------------------------\u001b[0m",
      "\u001b[1;31mIndexError\u001b[0m                                Traceback (most recent call last)",
      "Input \u001b[1;32mIn [21]\u001b[0m, in \u001b[0;36m<cell line: 2>\u001b[1;34m()\u001b[0m\n\u001b[0;32m      1\u001b[0m \u001b[38;5;66;03m# Open the acciones webpage\u001b[39;00m\n\u001b[1;32m----> 2\u001b[0m \u001b[43mlinks\u001b[49m\u001b[43m[\u001b[49m\u001b[38;5;241;43m0\u001b[39;49m\u001b[43m]\u001b[49m\u001b[38;5;241m.\u001b[39mclick()\n",
      "\u001b[1;31mIndexError\u001b[0m: list index out of range"
     ]
    }
   ],
   "source": [
    "# Open the acciones webpage\n",
    "links[0].click()"
   ]
  },
  {
   "cell_type": "code",
   "execution_count": 22,
   "id": "990a7b1b",
   "metadata": {},
   "outputs": [
    {
     "ename": "NoSuchElementException",
     "evalue": "Message: no such element: Unable to locate element: {\"method\":\"css selector\",\"selector\":\"[id=\"ctl00_Contenido_tblAcciones\"]\"}\n  (Session info: chrome=112.0.5615.138)\nStacktrace:\nBacktrace:\n\tGetHandleVerifier [0x00D0DCE3+50899]\n\t(No symbol) [0x00C9E111]\n\t(No symbol) [0x00BA5588]\n\t(No symbol) [0x00BD08F9]\n\t(No symbol) [0x00BD0AFB]\n\t(No symbol) [0x00BFF902]\n\t(No symbol) [0x00BEB944]\n\t(No symbol) [0x00BFE01C]\n\t(No symbol) [0x00BEB6F6]\n\t(No symbol) [0x00BC7708]\n\t(No symbol) [0x00BC886D]\n\tGetHandleVerifier [0x00F73EAE+2566302]\n\tGetHandleVerifier [0x00FA92B1+2784417]\n\tGetHandleVerifier [0x00FA327C+2759788]\n\tGetHandleVerifier [0x00DA5740+672048]\n\t(No symbol) [0x00CA8872]\n\t(No symbol) [0x00CA41C8]\n\t(No symbol) [0x00CA42AB]\n\t(No symbol) [0x00C971B7]\n\tBaseThreadInitThunk [0x75B76BD9+25]\n\tRtlGetFullPathName_UEx [0x773F8FD2+1218]\n\tRtlGetFullPathName_UEx [0x773F8F9D+1165]\n",
     "output_type": "error",
     "traceback": [
      "\u001b[1;31m---------------------------------------------------------------------------\u001b[0m",
      "\u001b[1;31mNoSuchElementException\u001b[0m                    Traceback (most recent call last)",
      "Input \u001b[1;32mIn [22]\u001b[0m, in \u001b[0;36m<cell line: 2>\u001b[1;34m()\u001b[0m\n\u001b[0;32m      1\u001b[0m \u001b[38;5;66;03m# Get the table of Acciones\u001b[39;00m\n\u001b[1;32m----> 2\u001b[0m table_acciones \u001b[38;5;241m=\u001b[39m \u001b[43mbrowser\u001b[49m\u001b[38;5;241;43m.\u001b[39;49m\u001b[43mfind_element\u001b[49m\u001b[43m(\u001b[49m\u001b[43mBy\u001b[49m\u001b[38;5;241;43m.\u001b[39;49m\u001b[43mID\u001b[49m\u001b[43m,\u001b[49m\u001b[43m \u001b[49m\u001b[38;5;124;43m'\u001b[39;49m\u001b[38;5;124;43mctl00_Contenido_tblAcciones\u001b[39;49m\u001b[38;5;124;43m'\u001b[39;49m\u001b[43m)\u001b[49m\n",
      "File \u001b[1;32m~\\anaconda3\\lib\\site-packages\\selenium\\webdriver\\remote\\webdriver.py:831\u001b[0m, in \u001b[0;36mWebDriver.find_element\u001b[1;34m(self, by, value)\u001b[0m\n\u001b[0;32m    828\u001b[0m     by \u001b[38;5;241m=\u001b[39m By\u001b[38;5;241m.\u001b[39mCSS_SELECTOR\n\u001b[0;32m    829\u001b[0m     value \u001b[38;5;241m=\u001b[39m \u001b[38;5;124mf\u001b[39m\u001b[38;5;124m'\u001b[39m\u001b[38;5;124m[name=\u001b[39m\u001b[38;5;124m\"\u001b[39m\u001b[38;5;132;01m{\u001b[39;00mvalue\u001b[38;5;132;01m}\u001b[39;00m\u001b[38;5;124m\"\u001b[39m\u001b[38;5;124m]\u001b[39m\u001b[38;5;124m'\u001b[39m\n\u001b[1;32m--> 831\u001b[0m \u001b[38;5;28;01mreturn\u001b[39;00m \u001b[38;5;28;43mself\u001b[39;49m\u001b[38;5;241;43m.\u001b[39;49m\u001b[43mexecute\u001b[49m\u001b[43m(\u001b[49m\u001b[43mCommand\u001b[49m\u001b[38;5;241;43m.\u001b[39;49m\u001b[43mFIND_ELEMENT\u001b[49m\u001b[43m,\u001b[49m\u001b[43m \u001b[49m\u001b[43m{\u001b[49m\u001b[38;5;124;43m\"\u001b[39;49m\u001b[38;5;124;43musing\u001b[39;49m\u001b[38;5;124;43m\"\u001b[39;49m\u001b[43m:\u001b[49m\u001b[43m \u001b[49m\u001b[43mby\u001b[49m\u001b[43m,\u001b[49m\u001b[43m \u001b[49m\u001b[38;5;124;43m\"\u001b[39;49m\u001b[38;5;124;43mvalue\u001b[39;49m\u001b[38;5;124;43m\"\u001b[39;49m\u001b[43m:\u001b[49m\u001b[43m \u001b[49m\u001b[43mvalue\u001b[49m\u001b[43m}\u001b[49m\u001b[43m)\u001b[49m[\u001b[38;5;124m\"\u001b[39m\u001b[38;5;124mvalue\u001b[39m\u001b[38;5;124m\"\u001b[39m]\n",
      "File \u001b[1;32m~\\anaconda3\\lib\\site-packages\\selenium\\webdriver\\remote\\webdriver.py:440\u001b[0m, in \u001b[0;36mWebDriver.execute\u001b[1;34m(self, driver_command, params)\u001b[0m\n\u001b[0;32m    438\u001b[0m response \u001b[38;5;241m=\u001b[39m \u001b[38;5;28mself\u001b[39m\u001b[38;5;241m.\u001b[39mcommand_executor\u001b[38;5;241m.\u001b[39mexecute(driver_command, params)\n\u001b[0;32m    439\u001b[0m \u001b[38;5;28;01mif\u001b[39;00m response:\n\u001b[1;32m--> 440\u001b[0m     \u001b[38;5;28;43mself\u001b[39;49m\u001b[38;5;241;43m.\u001b[39;49m\u001b[43merror_handler\u001b[49m\u001b[38;5;241;43m.\u001b[39;49m\u001b[43mcheck_response\u001b[49m\u001b[43m(\u001b[49m\u001b[43mresponse\u001b[49m\u001b[43m)\u001b[49m\n\u001b[0;32m    441\u001b[0m     response[\u001b[38;5;124m\"\u001b[39m\u001b[38;5;124mvalue\u001b[39m\u001b[38;5;124m\"\u001b[39m] \u001b[38;5;241m=\u001b[39m \u001b[38;5;28mself\u001b[39m\u001b[38;5;241m.\u001b[39m_unwrap_value(response\u001b[38;5;241m.\u001b[39mget(\u001b[38;5;124m\"\u001b[39m\u001b[38;5;124mvalue\u001b[39m\u001b[38;5;124m\"\u001b[39m, \u001b[38;5;28;01mNone\u001b[39;00m))\n\u001b[0;32m    442\u001b[0m     \u001b[38;5;28;01mreturn\u001b[39;00m response\n",
      "File \u001b[1;32m~\\anaconda3\\lib\\site-packages\\selenium\\webdriver\\remote\\errorhandler.py:245\u001b[0m, in \u001b[0;36mErrorHandler.check_response\u001b[1;34m(self, response)\u001b[0m\n\u001b[0;32m    243\u001b[0m         alert_text \u001b[38;5;241m=\u001b[39m value[\u001b[38;5;124m\"\u001b[39m\u001b[38;5;124malert\u001b[39m\u001b[38;5;124m\"\u001b[39m]\u001b[38;5;241m.\u001b[39mget(\u001b[38;5;124m\"\u001b[39m\u001b[38;5;124mtext\u001b[39m\u001b[38;5;124m\"\u001b[39m)\n\u001b[0;32m    244\u001b[0m     \u001b[38;5;28;01mraise\u001b[39;00m exception_class(message, screen, stacktrace, alert_text)  \u001b[38;5;66;03m# type: ignore[call-arg]  # mypy is not smart enough here\u001b[39;00m\n\u001b[1;32m--> 245\u001b[0m \u001b[38;5;28;01mraise\u001b[39;00m exception_class(message, screen, stacktrace)\n",
      "\u001b[1;31mNoSuchElementException\u001b[0m: Message: no such element: Unable to locate element: {\"method\":\"css selector\",\"selector\":\"[id=\"ctl00_Contenido_tblAcciones\"]\"}\n  (Session info: chrome=112.0.5615.138)\nStacktrace:\nBacktrace:\n\tGetHandleVerifier [0x00D0DCE3+50899]\n\t(No symbol) [0x00C9E111]\n\t(No symbol) [0x00BA5588]\n\t(No symbol) [0x00BD08F9]\n\t(No symbol) [0x00BD0AFB]\n\t(No symbol) [0x00BFF902]\n\t(No symbol) [0x00BEB944]\n\t(No symbol) [0x00BFE01C]\n\t(No symbol) [0x00BEB6F6]\n\t(No symbol) [0x00BC7708]\n\t(No symbol) [0x00BC886D]\n\tGetHandleVerifier [0x00F73EAE+2566302]\n\tGetHandleVerifier [0x00FA92B1+2784417]\n\tGetHandleVerifier [0x00FA327C+2759788]\n\tGetHandleVerifier [0x00DA5740+672048]\n\t(No symbol) [0x00CA8872]\n\t(No symbol) [0x00CA41C8]\n\t(No symbol) [0x00CA42AB]\n\t(No symbol) [0x00C971B7]\n\tBaseThreadInitThunk [0x75B76BD9+25]\n\tRtlGetFullPathName_UEx [0x773F8FD2+1218]\n\tRtlGetFullPathName_UEx [0x773F8F9D+1165]\n"
     ]
    }
   ],
   "source": [
    "# Get the table of Acciones\n",
    "table_acciones = browser.find_element(By.ID, 'ctl00_Contenido_tblAcciones')"
   ]
  },
  {
   "cell_type": "code",
   "execution_count": 23,
   "id": "339c3db5",
   "metadata": {},
   "outputs": [
    {
     "ename": "AttributeError",
     "evalue": "'NoneType' object has no attribute 'find_elements'",
     "output_type": "error",
     "traceback": [
      "\u001b[1;31m---------------------------------------------------------------------------\u001b[0m",
      "\u001b[1;31mAttributeError\u001b[0m                            Traceback (most recent call last)",
      "Input \u001b[1;32mIn [23]\u001b[0m, in \u001b[0;36m<cell line: 3>\u001b[1;34m()\u001b[0m\n\u001b[0;32m      1\u001b[0m \u001b[38;5;66;03m# Parse columns and row values\u001b[39;00m\n\u001b[0;32m      2\u001b[0m values \u001b[38;5;241m=\u001b[39m []\n\u001b[1;32m----> 3\u001b[0m \u001b[38;5;28;01mfor\u001b[39;00m row \u001b[38;5;129;01min\u001b[39;00m \u001b[43mtable_acciones\u001b[49m\u001b[38;5;241;43m.\u001b[39;49m\u001b[43mfind_elements\u001b[49m(By\u001b[38;5;241m.\u001b[39mTAG_NAME, \u001b[38;5;124m'\u001b[39m\u001b[38;5;124mtr\u001b[39m\u001b[38;5;124m'\u001b[39m):\n\u001b[0;32m      4\u001b[0m     \u001b[38;5;28;01mif\u001b[39;00m row\u001b[38;5;241m.\u001b[39mfind_elements(By\u001b[38;5;241m.\u001b[39mTAG_NAME, \u001b[38;5;124m'\u001b[39m\u001b[38;5;124mth\u001b[39m\u001b[38;5;124m'\u001b[39m):\n\u001b[0;32m      5\u001b[0m         columns \u001b[38;5;241m=\u001b[39m [element\u001b[38;5;241m.\u001b[39mtext \u001b[38;5;28;01mfor\u001b[39;00m element \u001b[38;5;129;01min\u001b[39;00m row\u001b[38;5;241m.\u001b[39mfind_elements(By\u001b[38;5;241m.\u001b[39mTAG_NAME, \u001b[38;5;124m'\u001b[39m\u001b[38;5;124mth\u001b[39m\u001b[38;5;124m'\u001b[39m)]\n",
      "\u001b[1;31mAttributeError\u001b[0m: 'NoneType' object has no attribute 'find_elements'"
     ]
    }
   ],
   "source": [
    "# Parse columns and row values\n",
    "values = []\n",
    "for row in table_acciones.find_elements(By.TAG_NAME, 'tr'):\n",
    "    if row.find_elements(By.TAG_NAME, 'th'):\n",
    "        columns = [element.text for element in row.find_elements(By.TAG_NAME, 'th')]\n",
    "    elif row.find_elements(By.TAG_NAME, 'td'):\n",
    "        values.append([element.text for element in row.find_elements(By.TAG_NAME, 'td')])"
   ]
  },
  {
   "cell_type": "code",
   "execution_count": 24,
   "id": "040fe729",
   "metadata": {},
   "outputs": [
    {
     "ename": "NameError",
     "evalue": "name 'columns' is not defined",
     "output_type": "error",
     "traceback": [
      "\u001b[1;31m---------------------------------------------------------------------------\u001b[0m",
      "\u001b[1;31mNameError\u001b[0m                                 Traceback (most recent call last)",
      "Input \u001b[1;32mIn [24]\u001b[0m, in \u001b[0;36m<cell line: 2>\u001b[1;34m()\u001b[0m\n\u001b[0;32m      1\u001b[0m \u001b[38;5;66;03m# Save values into a dataframe\u001b[39;00m\n\u001b[1;32m----> 2\u001b[0m acciones \u001b[38;5;241m=\u001b[39m pd\u001b[38;5;241m.\u001b[39mDataFrame(values, columns\u001b[38;5;241m=\u001b[39m\u001b[43mcolumns\u001b[49m)\n",
      "\u001b[1;31mNameError\u001b[0m: name 'columns' is not defined"
     ]
    }
   ],
   "source": [
    "# Save values into a dataframe\n",
    "acciones = pd.DataFrame(values, columns=columns)"
   ]
  },
  {
   "cell_type": "code",
   "execution_count": 25,
   "id": "ec2bea2d",
   "metadata": {},
   "outputs": [
    {
     "ename": "NameError",
     "evalue": "name 'acciones' is not defined",
     "output_type": "error",
     "traceback": [
      "\u001b[1;31m---------------------------------------------------------------------------\u001b[0m",
      "\u001b[1;31mNameError\u001b[0m                                 Traceback (most recent call last)",
      "Input \u001b[1;32mIn [25]\u001b[0m, in \u001b[0;36m<cell line: 2>\u001b[1;34m()\u001b[0m\n\u001b[0;32m      1\u001b[0m \u001b[38;5;66;03m# View the dataframe\u001b[39;00m\n\u001b[1;32m----> 2\u001b[0m \u001b[43macciones\u001b[49m\n",
      "\u001b[1;31mNameError\u001b[0m: name 'acciones' is not defined"
     ]
    }
   ],
   "source": [
    "# View the dataframe\n",
    "acciones"
   ]
  },
  {
   "cell_type": "code",
   "execution_count": null,
   "id": "326315dc",
   "metadata": {},
   "outputs": [],
   "source": []
  }
 ],
 "metadata": {
  "kernelspec": {
   "display_name": "Python 3 (ipykernel)",
   "language": "python",
   "name": "python3"
  },
  "language_info": {
   "codemirror_mode": {
    "name": "ipython",
    "version": 3
   },
   "file_extension": ".py",
   "mimetype": "text/x-python",
   "name": "python",
   "nbconvert_exporter": "python",
   "pygments_lexer": "ipython3",
   "version": "3.9.12"
  }
 },
 "nbformat": 4,
 "nbformat_minor": 5
}
