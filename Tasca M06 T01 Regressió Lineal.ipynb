{
 "cells": [
  {
   "cell_type": "markdown",
   "id": "98d7a580",
   "metadata": {},
   "source": [
    "Exercicis per practicar amb regressions.\n",
    "- Exercici 1\n",
    "Crea almenys dos models de regressió diferents per intentar predir el millor possible el preu de les vivendes (MEDV) de l'arxiu adjunt.\n"
   ]
  },
  {
   "cell_type": "markdown",
   "id": "dae66e12",
   "metadata": {},
   "source": [
    "- Regressió Lineal "
   ]
  },
  {
   "cell_type": "code",
   "execution_count": 2,
   "id": "9d870c91",
   "metadata": {},
   "outputs": [],
   "source": [
    "import pandas as pd\n",
    "import numpy as np\n",
    "import matplotlib.pyplot as plt\n",
    "import seaborn as sns\n",
    "import scipy as scipy\n",
    "from scipy import stats\n",
    "from scipy.stats import ttest_ind\n",
    "%matplotlib inline"
   ]
  },
  {
   "cell_type": "code",
   "execution_count": 3,
   "id": "fbd4b3db",
   "metadata": {},
   "outputs": [
    {
     "data": {
      "text/html": [
       "<div>\n",
       "<style scoped>\n",
       "    .dataframe tbody tr th:only-of-type {\n",
       "        vertical-align: middle;\n",
       "    }\n",
       "\n",
       "    .dataframe tbody tr th {\n",
       "        vertical-align: top;\n",
       "    }\n",
       "\n",
       "    .dataframe thead th {\n",
       "        text-align: right;\n",
       "    }\n",
       "</style>\n",
       "<table border=\"1\" class=\"dataframe\">\n",
       "  <thead>\n",
       "    <tr style=\"text-align: right;\">\n",
       "      <th></th>\n",
       "      <th>CRIM</th>\n",
       "      <th>ZN</th>\n",
       "      <th>INDUS</th>\n",
       "      <th>CHAS</th>\n",
       "      <th>NOX</th>\n",
       "      <th>RM</th>\n",
       "      <th>AGE</th>\n",
       "      <th>DIS</th>\n",
       "      <th>RAD</th>\n",
       "      <th>TAX</th>\n",
       "      <th>PTRATIO</th>\n",
       "      <th>B</th>\n",
       "      <th>LSTAT</th>\n",
       "      <th>MEDV</th>\n",
       "    </tr>\n",
       "  </thead>\n",
       "  <tbody>\n",
       "    <tr>\n",
       "      <th>0</th>\n",
       "      <td>632</td>\n",
       "      <td>1800</td>\n",
       "      <td>2310</td>\n",
       "      <td>0</td>\n",
       "      <td>5380</td>\n",
       "      <td>65750</td>\n",
       "      <td>6520</td>\n",
       "      <td>40900</td>\n",
       "      <td>1</td>\n",
       "      <td>2960</td>\n",
       "      <td>1530</td>\n",
       "      <td>39690</td>\n",
       "      <td>498</td>\n",
       "      <td>2400</td>\n",
       "    </tr>\n",
       "    <tr>\n",
       "      <th>1</th>\n",
       "      <td>2731</td>\n",
       "      <td>0</td>\n",
       "      <td>7070</td>\n",
       "      <td>0</td>\n",
       "      <td>4690</td>\n",
       "      <td>64210</td>\n",
       "      <td>7890</td>\n",
       "      <td>49671</td>\n",
       "      <td>2</td>\n",
       "      <td>2420</td>\n",
       "      <td>1780</td>\n",
       "      <td>39690</td>\n",
       "      <td>914</td>\n",
       "      <td>2160</td>\n",
       "    </tr>\n",
       "    <tr>\n",
       "      <th>2</th>\n",
       "      <td>2729</td>\n",
       "      <td>0</td>\n",
       "      <td>7070</td>\n",
       "      <td>0</td>\n",
       "      <td>4690</td>\n",
       "      <td>71850</td>\n",
       "      <td>6110</td>\n",
       "      <td>49671</td>\n",
       "      <td>2</td>\n",
       "      <td>2420</td>\n",
       "      <td>1780</td>\n",
       "      <td>39283</td>\n",
       "      <td>403</td>\n",
       "      <td>3470</td>\n",
       "    </tr>\n",
       "    <tr>\n",
       "      <th>3</th>\n",
       "      <td>3237</td>\n",
       "      <td>0</td>\n",
       "      <td>2180</td>\n",
       "      <td>0</td>\n",
       "      <td>4580</td>\n",
       "      <td>69980</td>\n",
       "      <td>4580</td>\n",
       "      <td>60622</td>\n",
       "      <td>3</td>\n",
       "      <td>2220</td>\n",
       "      <td>1870</td>\n",
       "      <td>39463</td>\n",
       "      <td>294</td>\n",
       "      <td>3340</td>\n",
       "    </tr>\n",
       "    <tr>\n",
       "      <th>4</th>\n",
       "      <td>6905</td>\n",
       "      <td>0</td>\n",
       "      <td>2180</td>\n",
       "      <td>0</td>\n",
       "      <td>4580</td>\n",
       "      <td>71470</td>\n",
       "      <td>5420</td>\n",
       "      <td>60622</td>\n",
       "      <td>3</td>\n",
       "      <td>2220</td>\n",
       "      <td>1870</td>\n",
       "      <td>39690</td>\n",
       "      <td>533</td>\n",
       "      <td>3620</td>\n",
       "    </tr>\n",
       "    <tr>\n",
       "      <th>...</th>\n",
       "      <td>...</td>\n",
       "      <td>...</td>\n",
       "      <td>...</td>\n",
       "      <td>...</td>\n",
       "      <td>...</td>\n",
       "      <td>...</td>\n",
       "      <td>...</td>\n",
       "      <td>...</td>\n",
       "      <td>...</td>\n",
       "      <td>...</td>\n",
       "      <td>...</td>\n",
       "      <td>...</td>\n",
       "      <td>...</td>\n",
       "      <td>...</td>\n",
       "    </tr>\n",
       "    <tr>\n",
       "      <th>501</th>\n",
       "      <td>6263</td>\n",
       "      <td>0</td>\n",
       "      <td>11930</td>\n",
       "      <td>0</td>\n",
       "      <td>5730</td>\n",
       "      <td>65930</td>\n",
       "      <td>6910</td>\n",
       "      <td>24786</td>\n",
       "      <td>1</td>\n",
       "      <td>2730</td>\n",
       "      <td>2100</td>\n",
       "      <td>39199</td>\n",
       "      <td>967</td>\n",
       "      <td>2240</td>\n",
       "    </tr>\n",
       "    <tr>\n",
       "      <th>502</th>\n",
       "      <td>4527</td>\n",
       "      <td>0</td>\n",
       "      <td>11930</td>\n",
       "      <td>0</td>\n",
       "      <td>5730</td>\n",
       "      <td>61200</td>\n",
       "      <td>7670</td>\n",
       "      <td>22875</td>\n",
       "      <td>1</td>\n",
       "      <td>2730</td>\n",
       "      <td>2100</td>\n",
       "      <td>39690</td>\n",
       "      <td>908</td>\n",
       "      <td>2060</td>\n",
       "    </tr>\n",
       "    <tr>\n",
       "      <th>503</th>\n",
       "      <td>6076</td>\n",
       "      <td>0</td>\n",
       "      <td>11930</td>\n",
       "      <td>0</td>\n",
       "      <td>5730</td>\n",
       "      <td>69760</td>\n",
       "      <td>9100</td>\n",
       "      <td>21675</td>\n",
       "      <td>1</td>\n",
       "      <td>2730</td>\n",
       "      <td>2100</td>\n",
       "      <td>39690</td>\n",
       "      <td>564</td>\n",
       "      <td>2390</td>\n",
       "    </tr>\n",
       "    <tr>\n",
       "      <th>504</th>\n",
       "      <td>10959</td>\n",
       "      <td>0</td>\n",
       "      <td>11930</td>\n",
       "      <td>0</td>\n",
       "      <td>5730</td>\n",
       "      <td>67940</td>\n",
       "      <td>8930</td>\n",
       "      <td>23889</td>\n",
       "      <td>1</td>\n",
       "      <td>2730</td>\n",
       "      <td>2100</td>\n",
       "      <td>39345</td>\n",
       "      <td>648</td>\n",
       "      <td>2200</td>\n",
       "    </tr>\n",
       "    <tr>\n",
       "      <th>505</th>\n",
       "      <td>4741</td>\n",
       "      <td>0</td>\n",
       "      <td>11930</td>\n",
       "      <td>0</td>\n",
       "      <td>5730</td>\n",
       "      <td>60300</td>\n",
       "      <td>8080</td>\n",
       "      <td>25050</td>\n",
       "      <td>1</td>\n",
       "      <td>2730</td>\n",
       "      <td>2100</td>\n",
       "      <td>39690</td>\n",
       "      <td>788</td>\n",
       "      <td>1190</td>\n",
       "    </tr>\n",
       "  </tbody>\n",
       "</table>\n",
       "<p>506 rows × 14 columns</p>\n",
       "</div>"
      ],
      "text/plain": [
       "      CRIM    ZN  INDUS  CHAS   NOX     RM   AGE    DIS  RAD   TAX  PTRATIO  \\\n",
       "0      632  1800   2310     0  5380  65750  6520  40900    1  2960     1530   \n",
       "1     2731     0   7070     0  4690  64210  7890  49671    2  2420     1780   \n",
       "2     2729     0   7070     0  4690  71850  6110  49671    2  2420     1780   \n",
       "3     3237     0   2180     0  4580  69980  4580  60622    3  2220     1870   \n",
       "4     6905     0   2180     0  4580  71470  5420  60622    3  2220     1870   \n",
       "..     ...   ...    ...   ...   ...    ...   ...    ...  ...   ...      ...   \n",
       "501   6263     0  11930     0  5730  65930  6910  24786    1  2730     2100   \n",
       "502   4527     0  11930     0  5730  61200  7670  22875    1  2730     2100   \n",
       "503   6076     0  11930     0  5730  69760  9100  21675    1  2730     2100   \n",
       "504  10959     0  11930     0  5730  67940  8930  23889    1  2730     2100   \n",
       "505   4741     0  11930     0  5730  60300  8080  25050    1  2730     2100   \n",
       "\n",
       "         B  LSTAT  MEDV  \n",
       "0    39690    498  2400  \n",
       "1    39690    914  2160  \n",
       "2    39283    403  3470  \n",
       "3    39463    294  3340  \n",
       "4    39690    533  3620  \n",
       "..     ...    ...   ...  \n",
       "501  39199    967  2240  \n",
       "502  39690    908  2060  \n",
       "503  39690    564  2390  \n",
       "504  39345    648  2200  \n",
       "505  39690    788  1190  \n",
       "\n",
       "[506 rows x 14 columns]"
      ]
     },
     "execution_count": 3,
     "metadata": {},
     "output_type": "execute_result"
    }
   ],
   "source": [
    "df = pd.read_excel('Housing data.xslx.xlsx')\n",
    "df"
   ]
  },
  {
   "cell_type": "code",
   "execution_count": 4,
   "id": "13af4118",
   "metadata": {},
   "outputs": [
    {
     "data": {
      "text/plain": [
       "Index(['CRIM', 'ZN', 'INDUS', 'CHAS', 'NOX', 'RM', 'AGE', 'DIS', 'RAD', 'TAX',\n",
       "       'PTRATIO', 'B', 'LSTAT', 'MEDV'],\n",
       "      dtype='object')"
      ]
     },
     "execution_count": 4,
     "metadata": {},
     "output_type": "execute_result"
    }
   ],
   "source": [
    "df.columns"
   ]
  },
  {
   "cell_type": "code",
   "execution_count": 5,
   "id": "ef3d2fdd",
   "metadata": {},
   "outputs": [
    {
     "data": {
      "text/plain": [
       "Index(['Crime Rate', 'Residential Zone', 'Non Retail bsn', 'Dummy Var',\n",
       "       'Nitric Ox Concetration', 'Room Average', 'Owners', 'Dist Boston Jobs',\n",
       "       'Index Highways Distance', 'Tax rate', 'School Ratio', 'Blacks Average',\n",
       "       'Perc Status Popul', 'Median Value Homes'],\n",
       "      dtype='object')"
      ]
     },
     "execution_count": 5,
     "metadata": {},
     "output_type": "execute_result"
    }
   ],
   "source": [
    "df.columns = ['Crime Rate', 'Residential Zone', 'Non Retail bsn', 'Dummy Var', 'Nitric Ox Concetration', 'Room Average', 'Owners', 'Dist Boston Jobs', 'Index Highways Distance', 'Tax rate', 'School Ratio', 'Blacks Average', 'Perc Status Popul', 'Median Value Homes']\n",
    "df.columns"
   ]
  },
  {
   "cell_type": "code",
   "execution_count": 6,
   "id": "4cfb6b9d",
   "metadata": {},
   "outputs": [
    {
     "data": {
      "text/html": [
       "<div>\n",
       "<style scoped>\n",
       "    .dataframe tbody tr th:only-of-type {\n",
       "        vertical-align: middle;\n",
       "    }\n",
       "\n",
       "    .dataframe tbody tr th {\n",
       "        vertical-align: top;\n",
       "    }\n",
       "\n",
       "    .dataframe thead th {\n",
       "        text-align: right;\n",
       "    }\n",
       "</style>\n",
       "<table border=\"1\" class=\"dataframe\">\n",
       "  <thead>\n",
       "    <tr style=\"text-align: right;\">\n",
       "      <th></th>\n",
       "      <th>Crime Rate</th>\n",
       "      <th>Residential Zone</th>\n",
       "      <th>Non Retail bsn</th>\n",
       "      <th>Dummy Var</th>\n",
       "      <th>Nitric Ox Concetration</th>\n",
       "      <th>Room Average</th>\n",
       "      <th>Owners</th>\n",
       "      <th>Dist Boston Jobs</th>\n",
       "      <th>Index Highways Distance</th>\n",
       "      <th>Tax rate</th>\n",
       "      <th>School Ratio</th>\n",
       "      <th>Blacks Average</th>\n",
       "      <th>Perc Status Popul</th>\n",
       "      <th>Median Value Homes</th>\n",
       "    </tr>\n",
       "  </thead>\n",
       "  <tbody>\n",
       "    <tr>\n",
       "      <th>0</th>\n",
       "      <td>632</td>\n",
       "      <td>1800</td>\n",
       "      <td>2310</td>\n",
       "      <td>0</td>\n",
       "      <td>5380</td>\n",
       "      <td>65750</td>\n",
       "      <td>6520</td>\n",
       "      <td>40900</td>\n",
       "      <td>1</td>\n",
       "      <td>2960</td>\n",
       "      <td>1530</td>\n",
       "      <td>39690</td>\n",
       "      <td>498</td>\n",
       "      <td>2400</td>\n",
       "    </tr>\n",
       "    <tr>\n",
       "      <th>1</th>\n",
       "      <td>2731</td>\n",
       "      <td>0</td>\n",
       "      <td>7070</td>\n",
       "      <td>0</td>\n",
       "      <td>4690</td>\n",
       "      <td>64210</td>\n",
       "      <td>7890</td>\n",
       "      <td>49671</td>\n",
       "      <td>2</td>\n",
       "      <td>2420</td>\n",
       "      <td>1780</td>\n",
       "      <td>39690</td>\n",
       "      <td>914</td>\n",
       "      <td>2160</td>\n",
       "    </tr>\n",
       "    <tr>\n",
       "      <th>2</th>\n",
       "      <td>2729</td>\n",
       "      <td>0</td>\n",
       "      <td>7070</td>\n",
       "      <td>0</td>\n",
       "      <td>4690</td>\n",
       "      <td>71850</td>\n",
       "      <td>6110</td>\n",
       "      <td>49671</td>\n",
       "      <td>2</td>\n",
       "      <td>2420</td>\n",
       "      <td>1780</td>\n",
       "      <td>39283</td>\n",
       "      <td>403</td>\n",
       "      <td>3470</td>\n",
       "    </tr>\n",
       "    <tr>\n",
       "      <th>3</th>\n",
       "      <td>3237</td>\n",
       "      <td>0</td>\n",
       "      <td>2180</td>\n",
       "      <td>0</td>\n",
       "      <td>4580</td>\n",
       "      <td>69980</td>\n",
       "      <td>4580</td>\n",
       "      <td>60622</td>\n",
       "      <td>3</td>\n",
       "      <td>2220</td>\n",
       "      <td>1870</td>\n",
       "      <td>39463</td>\n",
       "      <td>294</td>\n",
       "      <td>3340</td>\n",
       "    </tr>\n",
       "    <tr>\n",
       "      <th>4</th>\n",
       "      <td>6905</td>\n",
       "      <td>0</td>\n",
       "      <td>2180</td>\n",
       "      <td>0</td>\n",
       "      <td>4580</td>\n",
       "      <td>71470</td>\n",
       "      <td>5420</td>\n",
       "      <td>60622</td>\n",
       "      <td>3</td>\n",
       "      <td>2220</td>\n",
       "      <td>1870</td>\n",
       "      <td>39690</td>\n",
       "      <td>533</td>\n",
       "      <td>3620</td>\n",
       "    </tr>\n",
       "    <tr>\n",
       "      <th>...</th>\n",
       "      <td>...</td>\n",
       "      <td>...</td>\n",
       "      <td>...</td>\n",
       "      <td>...</td>\n",
       "      <td>...</td>\n",
       "      <td>...</td>\n",
       "      <td>...</td>\n",
       "      <td>...</td>\n",
       "      <td>...</td>\n",
       "      <td>...</td>\n",
       "      <td>...</td>\n",
       "      <td>...</td>\n",
       "      <td>...</td>\n",
       "      <td>...</td>\n",
       "    </tr>\n",
       "    <tr>\n",
       "      <th>501</th>\n",
       "      <td>6263</td>\n",
       "      <td>0</td>\n",
       "      <td>11930</td>\n",
       "      <td>0</td>\n",
       "      <td>5730</td>\n",
       "      <td>65930</td>\n",
       "      <td>6910</td>\n",
       "      <td>24786</td>\n",
       "      <td>1</td>\n",
       "      <td>2730</td>\n",
       "      <td>2100</td>\n",
       "      <td>39199</td>\n",
       "      <td>967</td>\n",
       "      <td>2240</td>\n",
       "    </tr>\n",
       "    <tr>\n",
       "      <th>502</th>\n",
       "      <td>4527</td>\n",
       "      <td>0</td>\n",
       "      <td>11930</td>\n",
       "      <td>0</td>\n",
       "      <td>5730</td>\n",
       "      <td>61200</td>\n",
       "      <td>7670</td>\n",
       "      <td>22875</td>\n",
       "      <td>1</td>\n",
       "      <td>2730</td>\n",
       "      <td>2100</td>\n",
       "      <td>39690</td>\n",
       "      <td>908</td>\n",
       "      <td>2060</td>\n",
       "    </tr>\n",
       "    <tr>\n",
       "      <th>503</th>\n",
       "      <td>6076</td>\n",
       "      <td>0</td>\n",
       "      <td>11930</td>\n",
       "      <td>0</td>\n",
       "      <td>5730</td>\n",
       "      <td>69760</td>\n",
       "      <td>9100</td>\n",
       "      <td>21675</td>\n",
       "      <td>1</td>\n",
       "      <td>2730</td>\n",
       "      <td>2100</td>\n",
       "      <td>39690</td>\n",
       "      <td>564</td>\n",
       "      <td>2390</td>\n",
       "    </tr>\n",
       "    <tr>\n",
       "      <th>504</th>\n",
       "      <td>10959</td>\n",
       "      <td>0</td>\n",
       "      <td>11930</td>\n",
       "      <td>0</td>\n",
       "      <td>5730</td>\n",
       "      <td>67940</td>\n",
       "      <td>8930</td>\n",
       "      <td>23889</td>\n",
       "      <td>1</td>\n",
       "      <td>2730</td>\n",
       "      <td>2100</td>\n",
       "      <td>39345</td>\n",
       "      <td>648</td>\n",
       "      <td>2200</td>\n",
       "    </tr>\n",
       "    <tr>\n",
       "      <th>505</th>\n",
       "      <td>4741</td>\n",
       "      <td>0</td>\n",
       "      <td>11930</td>\n",
       "      <td>0</td>\n",
       "      <td>5730</td>\n",
       "      <td>60300</td>\n",
       "      <td>8080</td>\n",
       "      <td>25050</td>\n",
       "      <td>1</td>\n",
       "      <td>2730</td>\n",
       "      <td>2100</td>\n",
       "      <td>39690</td>\n",
       "      <td>788</td>\n",
       "      <td>1190</td>\n",
       "    </tr>\n",
       "  </tbody>\n",
       "</table>\n",
       "<p>506 rows × 14 columns</p>\n",
       "</div>"
      ],
      "text/plain": [
       "     Crime Rate  Residential Zone  Non Retail bsn  Dummy Var  \\\n",
       "0           632              1800            2310          0   \n",
       "1          2731                 0            7070          0   \n",
       "2          2729                 0            7070          0   \n",
       "3          3237                 0            2180          0   \n",
       "4          6905                 0            2180          0   \n",
       "..          ...               ...             ...        ...   \n",
       "501        6263                 0           11930          0   \n",
       "502        4527                 0           11930          0   \n",
       "503        6076                 0           11930          0   \n",
       "504       10959                 0           11930          0   \n",
       "505        4741                 0           11930          0   \n",
       "\n",
       "     Nitric Ox Concetration  Room Average  Owners  Dist Boston Jobs  \\\n",
       "0                      5380         65750    6520             40900   \n",
       "1                      4690         64210    7890             49671   \n",
       "2                      4690         71850    6110             49671   \n",
       "3                      4580         69980    4580             60622   \n",
       "4                      4580         71470    5420             60622   \n",
       "..                      ...           ...     ...               ...   \n",
       "501                    5730         65930    6910             24786   \n",
       "502                    5730         61200    7670             22875   \n",
       "503                    5730         69760    9100             21675   \n",
       "504                    5730         67940    8930             23889   \n",
       "505                    5730         60300    8080             25050   \n",
       "\n",
       "     Index Highways Distance  Tax rate  School Ratio  Blacks Average  \\\n",
       "0                          1      2960          1530           39690   \n",
       "1                          2      2420          1780           39690   \n",
       "2                          2      2420          1780           39283   \n",
       "3                          3      2220          1870           39463   \n",
       "4                          3      2220          1870           39690   \n",
       "..                       ...       ...           ...             ...   \n",
       "501                        1      2730          2100           39199   \n",
       "502                        1      2730          2100           39690   \n",
       "503                        1      2730          2100           39690   \n",
       "504                        1      2730          2100           39345   \n",
       "505                        1      2730          2100           39690   \n",
       "\n",
       "     Perc Status Popul  Median Value Homes  \n",
       "0                  498                2400  \n",
       "1                  914                2160  \n",
       "2                  403                3470  \n",
       "3                  294                3340  \n",
       "4                  533                3620  \n",
       "..                 ...                 ...  \n",
       "501                967                2240  \n",
       "502                908                2060  \n",
       "503                564                2390  \n",
       "504                648                2200  \n",
       "505                788                1190  \n",
       "\n",
       "[506 rows x 14 columns]"
      ]
     },
     "execution_count": 6,
     "metadata": {},
     "output_type": "execute_result"
    }
   ],
   "source": [
    "df"
   ]
  },
  {
   "cell_type": "markdown",
   "id": "9f29c70d",
   "metadata": {},
   "source": [
    "Selección del Modelo "
   ]
  },
  {
   "cell_type": "markdown",
   "id": "806009b9",
   "metadata": {},
   "source": [
    "Es Aprendizaje Supervisado ya que tanto el Input como el Output están definidos y el Output será numérico, por lo tanto, utilizaremos Regresiones en lugar de Clasificaciones\n",
    "Tomaré la variable de \"Crime Rate \" y observar cómo incide en el valor de \"Median Value Homes\""
   ]
  },
  {
   "cell_type": "code",
   "execution_count": 7,
   "id": "857fecd6",
   "metadata": {},
   "outputs": [
    {
     "data": {
      "text/html": [
       "<div>\n",
       "<style scoped>\n",
       "    .dataframe tbody tr th:only-of-type {\n",
       "        vertical-align: middle;\n",
       "    }\n",
       "\n",
       "    .dataframe tbody tr th {\n",
       "        vertical-align: top;\n",
       "    }\n",
       "\n",
       "    .dataframe thead th {\n",
       "        text-align: right;\n",
       "    }\n",
       "</style>\n",
       "<table border=\"1\" class=\"dataframe\">\n",
       "  <thead>\n",
       "    <tr style=\"text-align: right;\">\n",
       "      <th></th>\n",
       "      <th>Crime Rate</th>\n",
       "      <th>Residential Zone</th>\n",
       "      <th>Non Retail bsn</th>\n",
       "      <th>Dummy Var</th>\n",
       "      <th>Nitric Ox Concetration</th>\n",
       "      <th>Room Average</th>\n",
       "      <th>Owners</th>\n",
       "      <th>Dist Boston Jobs</th>\n",
       "      <th>Index Highways Distance</th>\n",
       "      <th>Tax rate</th>\n",
       "      <th>School Ratio</th>\n",
       "      <th>Blacks Average</th>\n",
       "      <th>Perc Status Popul</th>\n",
       "      <th>Median Value Homes</th>\n",
       "    </tr>\n",
       "  </thead>\n",
       "  <tbody>\n",
       "    <tr>\n",
       "      <th>0</th>\n",
       "      <td>632</td>\n",
       "      <td>1800</td>\n",
       "      <td>2310</td>\n",
       "      <td>0</td>\n",
       "      <td>5380</td>\n",
       "      <td>65750</td>\n",
       "      <td>6520</td>\n",
       "      <td>40900</td>\n",
       "      <td>1</td>\n",
       "      <td>2960</td>\n",
       "      <td>1530</td>\n",
       "      <td>39690</td>\n",
       "      <td>498</td>\n",
       "      <td>2400</td>\n",
       "    </tr>\n",
       "    <tr>\n",
       "      <th>1</th>\n",
       "      <td>2731</td>\n",
       "      <td>0</td>\n",
       "      <td>7070</td>\n",
       "      <td>0</td>\n",
       "      <td>4690</td>\n",
       "      <td>64210</td>\n",
       "      <td>7890</td>\n",
       "      <td>49671</td>\n",
       "      <td>2</td>\n",
       "      <td>2420</td>\n",
       "      <td>1780</td>\n",
       "      <td>39690</td>\n",
       "      <td>914</td>\n",
       "      <td>2160</td>\n",
       "    </tr>\n",
       "    <tr>\n",
       "      <th>2</th>\n",
       "      <td>2729</td>\n",
       "      <td>0</td>\n",
       "      <td>7070</td>\n",
       "      <td>0</td>\n",
       "      <td>4690</td>\n",
       "      <td>71850</td>\n",
       "      <td>6110</td>\n",
       "      <td>49671</td>\n",
       "      <td>2</td>\n",
       "      <td>2420</td>\n",
       "      <td>1780</td>\n",
       "      <td>39283</td>\n",
       "      <td>403</td>\n",
       "      <td>3470</td>\n",
       "    </tr>\n",
       "    <tr>\n",
       "      <th>3</th>\n",
       "      <td>3237</td>\n",
       "      <td>0</td>\n",
       "      <td>2180</td>\n",
       "      <td>0</td>\n",
       "      <td>4580</td>\n",
       "      <td>69980</td>\n",
       "      <td>4580</td>\n",
       "      <td>60622</td>\n",
       "      <td>3</td>\n",
       "      <td>2220</td>\n",
       "      <td>1870</td>\n",
       "      <td>39463</td>\n",
       "      <td>294</td>\n",
       "      <td>3340</td>\n",
       "    </tr>\n",
       "    <tr>\n",
       "      <th>4</th>\n",
       "      <td>6905</td>\n",
       "      <td>0</td>\n",
       "      <td>2180</td>\n",
       "      <td>0</td>\n",
       "      <td>4580</td>\n",
       "      <td>71470</td>\n",
       "      <td>5420</td>\n",
       "      <td>60622</td>\n",
       "      <td>3</td>\n",
       "      <td>2220</td>\n",
       "      <td>1870</td>\n",
       "      <td>39690</td>\n",
       "      <td>533</td>\n",
       "      <td>3620</td>\n",
       "    </tr>\n",
       "  </tbody>\n",
       "</table>\n",
       "</div>"
      ],
      "text/plain": [
       "   Crime Rate  Residential Zone  Non Retail bsn  Dummy Var  \\\n",
       "0         632              1800            2310          0   \n",
       "1        2731                 0            7070          0   \n",
       "2        2729                 0            7070          0   \n",
       "3        3237                 0            2180          0   \n",
       "4        6905                 0            2180          0   \n",
       "\n",
       "   Nitric Ox Concetration  Room Average  Owners  Dist Boston Jobs  \\\n",
       "0                    5380         65750    6520             40900   \n",
       "1                    4690         64210    7890             49671   \n",
       "2                    4690         71850    6110             49671   \n",
       "3                    4580         69980    4580             60622   \n",
       "4                    4580         71470    5420             60622   \n",
       "\n",
       "   Index Highways Distance  Tax rate  School Ratio  Blacks Average  \\\n",
       "0                        1      2960          1530           39690   \n",
       "1                        2      2420          1780           39690   \n",
       "2                        2      2420          1780           39283   \n",
       "3                        3      2220          1870           39463   \n",
       "4                        3      2220          1870           39690   \n",
       "\n",
       "   Perc Status Popul  Median Value Homes  \n",
       "0                498                2400  \n",
       "1                914                2160  \n",
       "2                403                3470  \n",
       "3                294                3340  \n",
       "4                533                3620  "
      ]
     },
     "execution_count": 7,
     "metadata": {},
     "output_type": "execute_result"
    }
   ],
   "source": [
    "X = df.iloc[:, 0]\n",
    "Y = df.iloc[:, 13]\n",
    "df.head()"
   ]
  },
  {
   "cell_type": "code",
   "execution_count": 8,
   "id": "f1cbdb92",
   "metadata": {},
   "outputs": [
    {
     "name": "stdout",
     "output_type": "stream",
     "text": [
      "0        632\n",
      "1       2731\n",
      "2       2729\n",
      "3       3237\n",
      "4       6905\n",
      "       ...  \n",
      "501     6263\n",
      "502     4527\n",
      "503     6076\n",
      "504    10959\n",
      "505     4741\n",
      "Name: Crime Rate, Length: 506, dtype: int64 0      2400\n",
      "1      2160\n",
      "2      3470\n",
      "3      3340\n",
      "4      3620\n",
      "       ... \n",
      "501    2240\n",
      "502    2060\n",
      "503    2390\n",
      "504    2200\n",
      "505    1190\n",
      "Name: Median Value Homes, Length: 506, dtype: int64\n"
     ]
    }
   ],
   "source": [
    "print(X, Y)"
   ]
  },
  {
   "cell_type": "code",
   "execution_count": 9,
   "id": "4be4b652",
   "metadata": {},
   "outputs": [
    {
     "data": {
      "text/plain": [
       "<AxesSubplot:>"
      ]
     },
     "execution_count": 9,
     "metadata": {},
     "output_type": "execute_result"
    },
    {
     "data": {
      "image/png": "[encoded data removed]",
      "text/plain": [
       "<Figure size 432x288 with 2 Axes>"
      ]
     },
     "metadata": {
      "needs_background": "light"
     },
     "output_type": "display_data"
    }
   ],
   "source": [
    "sns.heatmap(df.corr())"
   ]
  },
  {
   "cell_type": "code",
   "execution_count": 10,
   "id": "011f8d63",
   "metadata": {},
   "outputs": [
    {
     "name": "stdout",
     "output_type": "stream",
     "text": [
      "     Crime Rate  Median Value Homes\n",
      "0           632                2400\n",
      "1          2731                2160\n",
      "2          2729                3470\n",
      "3          3237                3340\n",
      "4          6905                3620\n",
      "..          ...                 ...\n",
      "501        6263                2240\n",
      "502        4527                2060\n",
      "503        6076                2390\n",
      "504       10959                2200\n",
      "505        4741                1190\n",
      "\n",
      "[506 rows x 2 columns]\n"
     ]
    }
   ],
   "source": [
    "print(df[['Crime Rate','Median Value Homes']])"
   ]
  },
  {
   "cell_type": "code",
   "execution_count": 11,
   "id": "a915baca",
   "metadata": {},
   "outputs": [
    {
     "data": {
      "text/html": [
       "<div>\n",
       "<style scoped>\n",
       "    .dataframe tbody tr th:only-of-type {\n",
       "        vertical-align: middle;\n",
       "    }\n",
       "\n",
       "    .dataframe tbody tr th {\n",
       "        vertical-align: top;\n",
       "    }\n",
       "\n",
       "    .dataframe thead th {\n",
       "        text-align: right;\n",
       "    }\n",
       "</style>\n",
       "<table border=\"1\" class=\"dataframe\">\n",
       "  <thead>\n",
       "    <tr style=\"text-align: right;\">\n",
       "      <th></th>\n",
       "      <th>Crime Rate</th>\n",
       "      <th>Median Value Homes</th>\n",
       "    </tr>\n",
       "  </thead>\n",
       "  <tbody>\n",
       "    <tr>\n",
       "      <th>0</th>\n",
       "      <td>632</td>\n",
       "      <td>2400</td>\n",
       "    </tr>\n",
       "    <tr>\n",
       "      <th>1</th>\n",
       "      <td>2731</td>\n",
       "      <td>2160</td>\n",
       "    </tr>\n",
       "    <tr>\n",
       "      <th>2</th>\n",
       "      <td>2729</td>\n",
       "      <td>3470</td>\n",
       "    </tr>\n",
       "    <tr>\n",
       "      <th>3</th>\n",
       "      <td>3237</td>\n",
       "      <td>3340</td>\n",
       "    </tr>\n",
       "    <tr>\n",
       "      <th>4</th>\n",
       "      <td>6905</td>\n",
       "      <td>3620</td>\n",
       "    </tr>\n",
       "    <tr>\n",
       "      <th>...</th>\n",
       "      <td>...</td>\n",
       "      <td>...</td>\n",
       "    </tr>\n",
       "    <tr>\n",
       "      <th>501</th>\n",
       "      <td>6263</td>\n",
       "      <td>2240</td>\n",
       "    </tr>\n",
       "    <tr>\n",
       "      <th>502</th>\n",
       "      <td>4527</td>\n",
       "      <td>2060</td>\n",
       "    </tr>\n",
       "    <tr>\n",
       "      <th>503</th>\n",
       "      <td>6076</td>\n",
       "      <td>2390</td>\n",
       "    </tr>\n",
       "    <tr>\n",
       "      <th>504</th>\n",
       "      <td>10959</td>\n",
       "      <td>2200</td>\n",
       "    </tr>\n",
       "    <tr>\n",
       "      <th>505</th>\n",
       "      <td>4741</td>\n",
       "      <td>1190</td>\n",
       "    </tr>\n",
       "  </tbody>\n",
       "</table>\n",
       "<p>506 rows × 2 columns</p>\n",
       "</div>"
      ],
      "text/plain": [
       "     Crime Rate  Median Value Homes\n",
       "0           632                2400\n",
       "1          2731                2160\n",
       "2          2729                3470\n",
       "3          3237                3340\n",
       "4          6905                3620\n",
       "..          ...                 ...\n",
       "501        6263                2240\n",
       "502        4527                2060\n",
       "503        6076                2390\n",
       "504       10959                2200\n",
       "505        4741                1190\n",
       "\n",
       "[506 rows x 2 columns]"
      ]
     },
     "execution_count": 11,
     "metadata": {},
     "output_type": "execute_result"
    }
   ],
   "source": [
    "\n",
    "data1 = df[['Crime Rate', 'Median Value Homes']]\n",
    "data1"
   ]
  },
  {
   "cell_type": "code",
   "execution_count": 12,
   "id": "9239e906",
   "metadata": {},
   "outputs": [
    {
     "data": {
      "text/plain": [
       "<AxesSubplot:>"
      ]
     },
     "execution_count": 12,
     "metadata": {},
     "output_type": "execute_result"
    },
    {
     "data": {
      "image/png": "[encoded data removed]",
      "text/plain": [
       "<Figure size 432x288 with 2 Axes>"
      ]
     },
     "metadata": {
      "needs_background": "light"
     },
     "output_type": "display_data"
    }
   ],
   "source": [
    "sns.heatmap(data1.corr())"
   ]
  },
  {
   "cell_type": "code",
   "execution_count": 13,
   "id": "a8769858",
   "metadata": {},
   "outputs": [
    {
     "data": {
      "text/html": [
       "<div>\n",
       "<style scoped>\n",
       "    .dataframe tbody tr th:only-of-type {\n",
       "        vertical-align: middle;\n",
       "    }\n",
       "\n",
       "    .dataframe tbody tr th {\n",
       "        vertical-align: top;\n",
       "    }\n",
       "\n",
       "    .dataframe thead th {\n",
       "        text-align: right;\n",
       "    }\n",
       "</style>\n",
       "<table border=\"1\" class=\"dataframe\">\n",
       "  <thead>\n",
       "    <tr style=\"text-align: right;\">\n",
       "      <th></th>\n",
       "      <th>Crime Rate</th>\n",
       "      <th>Median Value Homes</th>\n",
       "    </tr>\n",
       "  </thead>\n",
       "  <tbody>\n",
       "    <tr>\n",
       "      <th>0</th>\n",
       "      <td>632</td>\n",
       "      <td>2400</td>\n",
       "    </tr>\n",
       "    <tr>\n",
       "      <th>1</th>\n",
       "      <td>2731</td>\n",
       "      <td>2160</td>\n",
       "    </tr>\n",
       "    <tr>\n",
       "      <th>2</th>\n",
       "      <td>2729</td>\n",
       "      <td>3470</td>\n",
       "    </tr>\n",
       "    <tr>\n",
       "      <th>3</th>\n",
       "      <td>3237</td>\n",
       "      <td>3340</td>\n",
       "    </tr>\n",
       "    <tr>\n",
       "      <th>4</th>\n",
       "      <td>6905</td>\n",
       "      <td>3620</td>\n",
       "    </tr>\n",
       "    <tr>\n",
       "      <th>...</th>\n",
       "      <td>...</td>\n",
       "      <td>...</td>\n",
       "    </tr>\n",
       "    <tr>\n",
       "      <th>501</th>\n",
       "      <td>6263</td>\n",
       "      <td>2240</td>\n",
       "    </tr>\n",
       "    <tr>\n",
       "      <th>502</th>\n",
       "      <td>4527</td>\n",
       "      <td>2060</td>\n",
       "    </tr>\n",
       "    <tr>\n",
       "      <th>503</th>\n",
       "      <td>6076</td>\n",
       "      <td>2390</td>\n",
       "    </tr>\n",
       "    <tr>\n",
       "      <th>504</th>\n",
       "      <td>10959</td>\n",
       "      <td>2200</td>\n",
       "    </tr>\n",
       "    <tr>\n",
       "      <th>505</th>\n",
       "      <td>4741</td>\n",
       "      <td>1190</td>\n",
       "    </tr>\n",
       "  </tbody>\n",
       "</table>\n",
       "<p>506 rows × 2 columns</p>\n",
       "</div>"
      ],
      "text/plain": [
       "     Crime Rate  Median Value Homes\n",
       "0           632                2400\n",
       "1          2731                2160\n",
       "2          2729                3470\n",
       "3          3237                3340\n",
       "4          6905                3620\n",
       "..          ...                 ...\n",
       "501        6263                2240\n",
       "502        4527                2060\n",
       "503        6076                2390\n",
       "504       10959                2200\n",
       "505        4741                1190\n",
       "\n",
       "[506 rows x 2 columns]"
      ]
     },
     "execution_count": 13,
     "metadata": {},
     "output_type": "execute_result"
    }
   ],
   "source": [
    "data1"
   ]
  },
  {
   "cell_type": "code",
   "execution_count": 14,
   "id": "5c1ea432",
   "metadata": {},
   "outputs": [
    {
     "data": {
      "image/png": "[encoded data removed]",
      "text/plain": [
       "<Figure size 432x288 with 1 Axes>"
      ]
     },
     "metadata": {
      "needs_background": "light"
     },
     "output_type": "display_data"
    }
   ],
   "source": [
    "data1.plot(kind='scatter', x= 'Crime Rate', y ='Median Value Homes')\n",
    "plt.show()"
   ]
  },
  {
   "cell_type": "markdown",
   "id": "1d1939b5",
   "metadata": {},
   "source": [
    "No se ve una línea clara que confirme que las variables \"Crime Rate\" y \"Median Value Homes\" estén relacionadas"
   ]
  },
  {
   "cell_type": "code",
   "execution_count": 15,
   "id": "a01cd6f1",
   "metadata": {},
   "outputs": [
    {
     "data": {
      "text/html": [
       "<div>\n",
       "<style scoped>\n",
       "    .dataframe tbody tr th:only-of-type {\n",
       "        vertical-align: middle;\n",
       "    }\n",
       "\n",
       "    .dataframe tbody tr th {\n",
       "        vertical-align: top;\n",
       "    }\n",
       "\n",
       "    .dataframe thead th {\n",
       "        text-align: right;\n",
       "    }\n",
       "</style>\n",
       "<table border=\"1\" class=\"dataframe\">\n",
       "  <thead>\n",
       "    <tr style=\"text-align: right;\">\n",
       "      <th></th>\n",
       "      <th>Dist Boston Jobs</th>\n",
       "      <th>Median Value Homes</th>\n",
       "    </tr>\n",
       "  </thead>\n",
       "  <tbody>\n",
       "    <tr>\n",
       "      <th>0</th>\n",
       "      <td>40900</td>\n",
       "      <td>2400</td>\n",
       "    </tr>\n",
       "    <tr>\n",
       "      <th>1</th>\n",
       "      <td>49671</td>\n",
       "      <td>2160</td>\n",
       "    </tr>\n",
       "    <tr>\n",
       "      <th>2</th>\n",
       "      <td>49671</td>\n",
       "      <td>3470</td>\n",
       "    </tr>\n",
       "    <tr>\n",
       "      <th>3</th>\n",
       "      <td>60622</td>\n",
       "      <td>3340</td>\n",
       "    </tr>\n",
       "    <tr>\n",
       "      <th>4</th>\n",
       "      <td>60622</td>\n",
       "      <td>3620</td>\n",
       "    </tr>\n",
       "    <tr>\n",
       "      <th>...</th>\n",
       "      <td>...</td>\n",
       "      <td>...</td>\n",
       "    </tr>\n",
       "    <tr>\n",
       "      <th>501</th>\n",
       "      <td>24786</td>\n",
       "      <td>2240</td>\n",
       "    </tr>\n",
       "    <tr>\n",
       "      <th>502</th>\n",
       "      <td>22875</td>\n",
       "      <td>2060</td>\n",
       "    </tr>\n",
       "    <tr>\n",
       "      <th>503</th>\n",
       "      <td>21675</td>\n",
       "      <td>2390</td>\n",
       "    </tr>\n",
       "    <tr>\n",
       "      <th>504</th>\n",
       "      <td>23889</td>\n",
       "      <td>2200</td>\n",
       "    </tr>\n",
       "    <tr>\n",
       "      <th>505</th>\n",
       "      <td>25050</td>\n",
       "      <td>1190</td>\n",
       "    </tr>\n",
       "  </tbody>\n",
       "</table>\n",
       "<p>506 rows × 2 columns</p>\n",
       "</div>"
      ],
      "text/plain": [
       "     Dist Boston Jobs  Median Value Homes\n",
       "0               40900                2400\n",
       "1               49671                2160\n",
       "2               49671                3470\n",
       "3               60622                3340\n",
       "4               60622                3620\n",
       "..                ...                 ...\n",
       "501             24786                2240\n",
       "502             22875                2060\n",
       "503             21675                2390\n",
       "504             23889                2200\n",
       "505             25050                1190\n",
       "\n",
       "[506 rows x 2 columns]"
      ]
     },
     "execution_count": 15,
     "metadata": {},
     "output_type": "execute_result"
    }
   ],
   "source": [
    "data2 = df[['Dist Boston Jobs', 'Median Value Homes']]\n",
    "data2"
   ]
  },
  {
   "cell_type": "code",
   "execution_count": 16,
   "id": "2653ed5d",
   "metadata": {},
   "outputs": [
    {
     "data": {
      "image/png": "[encoded data removed]",
      "text/plain": [
       "<Figure size 432x288 with 1 Axes>"
      ]
     },
     "metadata": {
      "needs_background": "light"
     },
     "output_type": "display_data"
    }
   ],
   "source": [
    "data2.plot(kind='scatter', x= 'Dist Boston Jobs', y ='Median Value Homes')\n",
    "plt.show()"
   ]
  },
  {
   "cell_type": "code",
   "execution_count": 17,
   "id": "1b0a909f",
   "metadata": {},
   "outputs": [
    {
     "name": "stdout",
     "output_type": "stream",
     "text": [
      "0      40900\n",
      "1      49671\n",
      "2      49671\n",
      "3      60622\n",
      "4      60622\n",
      "       ...  \n",
      "501    24786\n",
      "502    22875\n",
      "503    21675\n",
      "504    23889\n",
      "505    25050\n",
      "Name: Dist Boston Jobs, Length: 506, dtype: int64\n",
      "0      2400\n",
      "1      2160\n",
      "2      3470\n",
      "3      3340\n",
      "4      3620\n",
      "       ... \n",
      "501    2240\n",
      "502    2060\n",
      "503    2390\n",
      "504    2200\n",
      "505    1190\n",
      "Name: Median Value Homes, Length: 506, dtype: int64\n"
     ]
    }
   ],
   "source": [
    "X = data2['Dist Boston Jobs']\n",
    "Y = data2['Median Value Homes']\n",
    "print(X)\n",
    "print(Y)"
   ]
  },
  {
   "cell_type": "code",
   "execution_count": 18,
   "id": "47ea4d26",
   "metadata": {},
   "outputs": [],
   "source": [
    "from sklearn.model_selection import train_test_split "
   ]
  },
  {
   "cell_type": "code",
   "execution_count": 19,
   "id": "2fe5d440",
   "metadata": {},
   "outputs": [
    {
     "name": "stdout",
     "output_type": "stream",
     "text": [
      "Ejemplos usados para entrenar:  354\n",
      "Ejemplos usados para test:  152\n"
     ]
    }
   ],
   "source": [
    "train, test = train_test_split(data2, test_size = 0.30)\n",
    "\n",
    "print(\"Ejemplos usados para entrenar: \", len(train))\n",
    "print(\"Ejemplos usados para test: \", len(test))"
   ]
  },
  {
   "cell_type": "code",
   "execution_count": 20,
   "id": "b0bccd49",
   "metadata": {},
   "outputs": [],
   "source": [
    " # Test train split for supervised training\n",
    "                                                  \n",
    "from sklearn.model_selection import train_test_split\n",
    "X_train, X_test, y_train, y_test = train_test_split(X, Y,random_state=0)"
   ]
  },
  {
   "cell_type": "code",
   "execution_count": 21,
   "id": "ece60fb1",
   "metadata": {},
   "outputs": [
    {
     "data": {
      "text/plain": [
       "<function matplotlib.pyplot.show(close=None, block=None)>"
      ]
     },
     "execution_count": 21,
     "metadata": {},
     "output_type": "execute_result"
    },
    {
     "data": {
      "image/png": "[encoded data removed]",
      "text/plain": [
       "<Figure size 432x288 with 1 Axes>"
      ]
     },
     "metadata": {
      "needs_background": "light"
     },
     "output_type": "display_data"
    }
   ],
   "source": [
    "#Test train split for visualization\n",
    "plt.scatter(X_train, y_train, label = 'Training Data', color ='r', alpha=.7)\n",
    "plt.scatter(X_test, y_test, label = 'Testing Data', color = 'g', alpha = .7)\n",
    "plt.legend()\n",
    "plt.title('Test Train Split')\n",
    "plt.show"
   ]
  },
  {
   "cell_type": "code",
   "execution_count": 22,
   "id": "7417e1d0",
   "metadata": {},
   "outputs": [],
   "source": [
    "from sklearn.linear_model import LinearRegression\n",
    "lr = LinearRegression(normalize=True)"
   ]
  },
  {
   "cell_type": "code",
   "execution_count": 23,
   "id": "1d965a53",
   "metadata": {},
   "outputs": [
    {
     "name": "stderr",
     "output_type": "stream",
     "text": [
      "C:\\Users\\flore\\anaconda3\\lib\\site-packages\\sklearn\\linear_model\\_base.py:141: FutureWarning: 'normalize' was deprecated in version 1.0 and will be removed in 1.2.\n",
      "If you wish to scale the data, use Pipeline with a StandardScaler in a preprocessing stage. To reproduce the previous behavior:\n",
      "\n",
      "from sklearn.pipeline import make_pipeline\n",
      "\n",
      "model = make_pipeline(StandardScaler(with_mean=False), LinearRegression())\n",
      "\n",
      "If you wish to pass a sample_weight parameter, you need to pass it as a fit parameter to each step of the pipeline as follows:\n",
      "\n",
      "kwargs = {s[0] + '__sample_weight': sample_weight for s in model.steps}\n",
      "model.fit(X, y, **kwargs)\n",
      "\n",
      "\n",
      "  warnings.warn(\n"
     ]
    },
    {
     "data": {
      "text/plain": [
       "LinearRegression(normalize=True)"
      ]
     },
     "execution_count": 23,
     "metadata": {},
     "output_type": "execute_result"
    }
   ],
   "source": [
    "# Create Linear Model and train it \n",
    "lr.fit(X_train.values.reshape(-1,1), y_train.values)"
   ]
  },
  {
   "cell_type": "code",
   "execution_count": 24,
   "id": "bbc92004",
   "metadata": {},
   "outputs": [
    {
     "data": {
      "image/png": "[encoded data removed]",
      "text/plain": [
       "<Figure size 432x288 with 1 Axes>"
      ]
     },
     "metadata": {
      "needs_background": "light"
     },
     "output_type": "display_data"
    }
   ],
   "source": [
    "#Usaremos el modelo para predecir con la TEst Data: x test y test \n",
    "prediction = lr.predict(X_test.values.reshape(-1,1))\n",
    "\n",
    "#Compararemos en un gráfico la línea de predicción con la Data Real\n",
    "plt.plot(X_test, prediction, label = 'Linear Regression', color ='b')\n",
    "plt.scatter(X_test, y_test, label = 'Actual Test Data', color = 'g', alpha =.7)\n",
    "plt.legend()\n",
    "plt.show()"
   ]
  },
  {
   "cell_type": "code",
   "execution_count": 25,
   "id": "6e5617bd",
   "metadata": {},
   "outputs": [
    {
     "data": {
      "text/plain": [
       "2835.025819370583"
      ]
     },
     "execution_count": 25,
     "metadata": {},
     "output_type": "execute_result"
    }
   ],
   "source": [
    "lr.predict(np.array([[85000]]))[0]"
   ]
  },
  {
   "cell_type": "code",
   "execution_count": 26,
   "id": "77669504",
   "metadata": {},
   "outputs": [
    {
     "data": {
      "text/plain": [
       "0.015745008999929033"
      ]
     },
     "execution_count": 26,
     "metadata": {},
     "output_type": "execute_result"
    }
   ],
   "source": [
    "lr.score(X_test.values.reshape(-1, 1), y_test.values)"
   ]
  },
  {
   "cell_type": "markdown",
   "id": "1d275e20",
   "metadata": {},
   "source": [
    "- Exercici 2\n",
    "Compara’ls en base al MSE i al R2.\n"
   ]
  },
  {
   "cell_type": "code",
   "execution_count": 34,
   "id": "ed08084e",
   "metadata": {},
   "outputs": [
    {
     "data": {
      "text/plain": [
       "36111.149606299216"
      ]
     },
     "execution_count": 34,
     "metadata": {},
     "output_type": "execute_result"
    }
   ],
   "source": [
    "from sklearn.metrics import mean_absolute_error\n",
    "y_true = [3, -0.5, 2]\n",
    "mean_absolute_error(X_test, y_test)"
   ]
  },
  {
   "cell_type": "code",
   "execution_count": 28,
   "id": "a5134af3",
   "metadata": {},
   "outputs": [
    {
     "name": "stdout",
     "output_type": "stream",
     "text": [
      "0      40900\n",
      "1      49671\n",
      "2      49671\n",
      "3      60622\n",
      "4      60622\n",
      "       ...  \n",
      "501    24786\n",
      "502    22875\n",
      "503    21675\n",
      "504    23889\n",
      "505    25050\n",
      "Name: Dist Boston Jobs, Length: 506, dtype: int64\n",
      "0      2400\n",
      "1      2160\n",
      "2      3470\n",
      "3      3340\n",
      "4      3620\n",
      "       ... \n",
      "501    2240\n",
      "502    2060\n",
      "503    2390\n",
      "504    2200\n",
      "505    1190\n",
      "Name: Median Value Homes, Length: 506, dtype: int64\n"
     ]
    }
   ],
   "source": [
    "X = data2['Dist Boston Jobs']\n",
    "Y = data2['Median Value Homes']\n",
    "print(X)\n",
    "print(Y)"
   ]
  },
  {
   "cell_type": "markdown",
   "id": "121a2e2a",
   "metadata": {},
   "source": [
    "R-Squared Value"
   ]
  },
  {
   "cell_type": "code",
   "execution_count": 29,
   "id": "0b2f4906",
   "metadata": {},
   "outputs": [
    {
     "name": "stdout",
     "output_type": "stream",
     "text": [
      "0.10502427275633663\n"
     ]
    }
   ],
   "source": [
    "import numpy\n",
    "from sklearn.metrics import r2_score\n",
    "\n",
    "mymodel = numpy.poly1d(numpy.polyfit(X, Y, 3))\n",
    "\n",
    "print(r2_score(Y, mymodel(X))) "
   ]
  },
  {
   "cell_type": "code",
   "execution_count": 35,
   "id": "5b12bb10",
   "metadata": {},
   "outputs": [
    {
     "data": {
      "image/png": "[encoded data removed]",
      "text/plain": [
       "<Figure size 432x288 with 1 Axes>"
      ]
     },
     "metadata": {
      "needs_background": "light"
     },
     "output_type": "display_data"
    }
   ],
   "source": [
    "mymodel = numpy.poly1d(numpy.polyfit(X, Y, 3))\n",
    "plt.scatter(X, Y)\n",
    "myline = numpy.linspace(4, 10, 10)\n",
    "plt.plot(myline, mymodel(myline))\n",
    "plt.show()"
   ]
  },
  {
   "cell_type": "code",
   "execution_count": 31,
   "id": "32180e96",
   "metadata": {},
   "outputs": [
    {
     "name": "stdout",
     "output_type": "stream",
     "text": [
      "0.10502427275633663\n"
     ]
    }
   ],
   "source": [
    "import numpy\n",
    "from sklearn.metrics import r2_score\n",
    "\n",
    "mymodel = numpy.poly1d(numpy.polyfit(X, Y, 3))\n",
    "\n",
    "print(r2_score(Y, mymodel(X)))"
   ]
  },
  {
   "cell_type": "code",
   "execution_count": null,
   "id": "e7c09687",
   "metadata": {},
   "outputs": [],
   "source": []
  }
 ],
 "metadata": {
  "kernelspec": {
   "display_name": "Python 3 (ipykernel)",
   "language": "python",
   "name": "python3"
  },
  "language_info": {
   "codemirror_mode": {
    "name": "ipython",
    "version": 3
   },
   "file_extension": ".py",
   "mimetype": "text/x-python",
   "name": "python",
   "nbconvert_exporter": "python",
   "pygments_lexer": "ipython3",
   "version": "3.9.12"
  }
 },
 "nbformat": 4,
 "nbformat_minor": 5
}
