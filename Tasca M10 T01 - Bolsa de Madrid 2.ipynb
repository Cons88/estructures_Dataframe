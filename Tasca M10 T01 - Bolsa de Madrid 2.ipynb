{
 "cells": [
  {
   "cell_type": "markdown",
   "id": "178576c6",
   "metadata": {},
   "source": [
    "- Web Scraping with Beautiful Soup"
   ]
  },
  {
   "cell_type": "markdown",
   "id": "0b9d7c13",
   "metadata": {},
   "source": [
    "Tasca M10 T01\n",
    "\n",
    "Descripció\n",
    "\n",
    "Exercicis de Web Scraping\n",
    "\n",
    "Exercici 1\n",
    "Realitza web scraping de dues de les tres pàgines web proposades utilitzant BeautifulSoup primer i Selenium després.\n",
    "\n",
    "https://www.bolsamadrid.es"
   ]
  },
  {
   "cell_type": "code",
   "execution_count": 1,
   "id": "966d6e79",
   "metadata": {},
   "outputs": [],
   "source": [
    "import numpy as np\n",
    "import pandas as pd"
   ]
  },
  {
   "cell_type": "code",
   "execution_count": 2,
   "id": "b12a2217",
   "metadata": {},
   "outputs": [
    {
     "ename": "ModuleNotFoundError",
     "evalue": "No module named 'pyforest'",
     "output_type": "error",
     "traceback": [
      "\u001b[1;31m---------------------------------------------------------------------------\u001b[0m",
      "\u001b[1;31mModuleNotFoundError\u001b[0m                       Traceback (most recent call last)",
      "Input \u001b[1;32mIn [2]\u001b[0m, in \u001b[0;36m<cell line: 6>\u001b[1;34m()\u001b[0m\n\u001b[0;32m      1\u001b[0m \u001b[38;5;66;03m#%pip install selenium\u001b[39;00m\n\u001b[0;32m      2\u001b[0m \u001b[38;5;66;03m#%pip install webdriver_manager\u001b[39;00m\n\u001b[0;32m      3\u001b[0m \u001b[38;5;66;03m#import sys\u001b[39;00m\n\u001b[0;32m      4\u001b[0m \u001b[38;5;66;03m#!{sys.executable} -m pip install -U selenium\u001b[39;00m\n\u001b[1;32m----> 6\u001b[0m \u001b[38;5;28;01mimport\u001b[39;00m \u001b[38;5;21;01mpyforest\u001b[39;00m\n",
      "\u001b[1;31mModuleNotFoundError\u001b[0m: No module named 'pyforest'"
     ]
    }
   ],
   "source": [
    "#%pip install selenium\n",
    "#%pip install webdriver_manager\n",
    "#import sys\n",
    "#!{sys.executable} -m pip install -U selenium\n",
    "\n",
    "import pyforest"
   ]
  },
  {
   "cell_type": "code",
   "execution_count": 3,
   "id": "49a47587",
   "metadata": {},
   "outputs": [
    {
     "ename": "ModuleNotFoundError",
     "evalue": "No module named 'webdriver_manager'",
     "output_type": "error",
     "traceback": [
      "\u001b[1;31m---------------------------------------------------------------------------\u001b[0m",
      "\u001b[1;31mModuleNotFoundError\u001b[0m                       Traceback (most recent call last)",
      "Input \u001b[1;32mIn [3]\u001b[0m, in \u001b[0;36m<cell line: 21>\u001b[1;34m()\u001b[0m\n\u001b[0;32m     18\u001b[0m \u001b[38;5;66;03m# Sellenium\u001b[39;00m\n\u001b[0;32m     19\u001b[0m \u001b[38;5;66;03m# ==============================================================================\u001b[39;00m\n\u001b[0;32m     20\u001b[0m \u001b[38;5;28;01mfrom\u001b[39;00m \u001b[38;5;21;01mselenium\u001b[39;00m \u001b[38;5;28;01mimport\u001b[39;00m webdriver\n\u001b[1;32m---> 21\u001b[0m \u001b[38;5;28;01mfrom\u001b[39;00m \u001b[38;5;21;01mwebdriver_manager\u001b[39;00m\u001b[38;5;21;01m.\u001b[39;00m\u001b[38;5;21;01mchrome\u001b[39;00m \u001b[38;5;28;01mimport\u001b[39;00m ChromeDriverManager\n\u001b[0;32m     22\u001b[0m \u001b[38;5;28;01mfrom\u001b[39;00m \u001b[38;5;21;01mselenium\u001b[39;00m\u001b[38;5;21;01m.\u001b[39;00m\u001b[38;5;21;01mwebdriver\u001b[39;00m\u001b[38;5;21;01m.\u001b[39;00m\u001b[38;5;21;01mcommon\u001b[39;00m\u001b[38;5;21;01m.\u001b[39;00m\u001b[38;5;21;01mkeys\u001b[39;00m \u001b[38;5;28;01mimport\u001b[39;00m Keys\n\u001b[0;32m     23\u001b[0m \u001b[38;5;28;01mfrom\u001b[39;00m \u001b[38;5;21;01mselenium\u001b[39;00m\u001b[38;5;21;01m.\u001b[39;00m\u001b[38;5;21;01mwebdriver\u001b[39;00m\u001b[38;5;21;01m.\u001b[39;00m\u001b[38;5;21;01mcommon\u001b[39;00m\u001b[38;5;21;01m.\u001b[39;00m\u001b[38;5;21;01mby\u001b[39;00m \u001b[38;5;28;01mimport\u001b[39;00m By\n",
      "\u001b[1;31mModuleNotFoundError\u001b[0m: No module named 'webdriver_manager'"
     ]
    }
   ],
   "source": [
    "# Dependencies not Included in Auto Import*\n",
    "# ==============================================================================\n",
    "\n",
    "import csv\n",
    "import requests\n",
    "from time import sleep\n",
    "\n",
    "# urllib\n",
    "# ==============================================================================\n",
    "from urllib.request import urlopen\n",
    "from urllib.error import HTTPError\n",
    "from urllib.error import URLError\n",
    "\n",
    "# BeautifulSoup\n",
    "# ==============================================================================\n",
    "from bs4 import BeautifulSoup\n",
    "\n",
    "# Sellenium\n",
    "# ==============================================================================\n",
    "from selenium import webdriver\n",
    "from webdriver_manager.chrome import ChromeDriverManager\n",
    "from selenium.webdriver.common.keys import Keys\n",
    "from selenium.webdriver.common.by import By\n",
    "from selenium.webdriver.chrome.options import Options"
   ]
  },
  {
   "cell_type": "code",
   "execution_count": 4,
   "id": "897b8e84",
   "metadata": {},
   "outputs": [],
   "source": [
    "url = 'https://www.bolsamadrid.es'"
   ]
  },
  {
   "cell_type": "code",
   "execution_count": 5,
   "id": "7d1db933",
   "metadata": {},
   "outputs": [],
   "source": [
    "## Scraping page Handling HTTP exceptions\n",
    "\n",
    "def scrap_page(url):\n",
    "    try:\n",
    "    \n",
    "        html = requests.get(url)\n",
    "\n",
    "    except HTTPError as e:\n",
    "\n",
    "        print(e)\n",
    "\n",
    "    except URLError:\n",
    "\n",
    "        print(\"Server down or incorrect domain\")\n",
    "    \n",
    "    else:\n",
    "        soup = BeautifulSoup(html.content, 'html.parser')\n",
    "    \n",
    "        return soup "
   ]
  },
  {
   "cell_type": "markdown",
   "id": "652d1b29",
   "metadata": {},
   "source": [
    "Scrap Principal Page"
   ]
  },
  {
   "cell_type": "code",
   "execution_count": 6,
   "id": "9e0d1eaa",
   "metadata": {},
   "outputs": [],
   "source": [
    "soup = scrap_page(url)"
   ]
  },
  {
   "cell_type": "markdown",
   "id": "e47072d0",
   "metadata": {},
   "source": [
    "Explore HTML"
   ]
  },
  {
   "cell_type": "code",
   "execution_count": 7,
   "id": "ee3ead0a",
   "metadata": {},
   "outputs": [
    {
     "data": {
      "text/plain": [
       "<head data-app-path=\"/bme-exchange\" data-hora-act=\"Sat, 06 May 2023 16:36:34 GMT\" data-idioma=\"es\"><meta charset=\"utf-8\"/><meta content=\"IE=edge\" http-equiv=\"X-UA-Compatible\"/><meta content=\"width=device-width, initial-scale=1\" name=\"viewport\"/><meta content=\"text/html; charset=utf-8\" http-equiv=\"Content-Type\"/><meta content=\"La Bolsa de Madrid es una institución que canaliza el ahorro hacía la inversión productiva y facilita la movilidad de la riqueza en el desarrollo de España.\" id=\"Description\" name=\"description\"/><meta content=\"Copyright © BME 2023\" id=\"copyright\" name=\"copyright\"/><meta content=\"BME Exchange\" property=\"og:site_name\"/><meta content=\"es\" property=\"og:locale\"/><meta content=\"website\" property=\"og:type\"/><meta content=\"summary_large_image\" property=\"twitter:card\"/><meta content=\"@GrupoBME\" property=\"twitter:site\"/><meta content=\"Bolsa de Madrid | BME Exchange\" property=\"og:title\"/><meta content=\"Bolsa de Madrid | BME Exchange\" property=\"twitter:title\"/><meta content=\"La Bolsa de Madrid es una institución que canaliza el ahorro hacía la inversión productiva y facilita la movilidad de la riqueza en el desarrollo de España.\" property=\"og:description\"/><meta content=\"La Bolsa de Madrid es una institución que canaliza el ahorro hacía la inversión productiva y facilita la movilidad de la riqueza en el desarrollo de España.\" property=\"twitter:description\"/><meta content=\"https://www.bolsasymercados.es/bme-exchange/es/Bolsa-Madrid\" property=\"og:url\"/><meta content=\"https://www.bolsasymercados.es/bme-exchange/es/Bolsa-Madrid\" property=\"twitter:url\"/><meta content=\"https://www.bolsasymercados.es/bme-exchange/images/imgsSubidas/Webs_Bolsas/Bolsa-de-Madrid-BME.gif\" property=\"og:image\"/><meta content=\"https://www.bolsasymercados.es/bme-exchange/images/imgsSubidas/Webs_Bolsas/Bolsa-de-Madrid-BME.gif\" property=\"twitter:image\"/><link href=\"https://www.bolsasymercados.es/bme-exchange/es/Bolsa-Madrid\" id=\"CanonicalLink\" rel=\"canonical\"/><link href=\"https://www.bolsasymercados.es/bme-exchange/es/Bolsa-Madrid\" hreflang=\"es\" rel=\"alternate\"/><link href=\"/bme-exchange/en/Madrid-Stock-Exchange\" hreflang=\"en\" rel=\"alternate\"/><link href=\"//use.typekit.net/fag2lie.css\" rel=\"stylesheet\"/><script defer=\"\" src=\"/bme-exchange/js/Master?v=X6xj-2AlmMQtfRPQnNdB9dd66gbf1t3iVmzg-Ty14g01\"></script>\n",
       "<link href=\"/bme-exchange/css/css?v=SemdazjV3SvQk8aAWz95nsG1XFDt_x1jK3Hvk9UF7YE1\" rel=\"stylesheet\"/>\n",
       "<!-- OneTrust -->\n",
       "<script charset=\"UTF-8\" data-document-language=\"true\" data-domain-script=\"848a4ce2-ee9d-424b-8508-fbc5b12c4591\" src=\"https://cdn.cookielaw.org/scripttemplates/otSDKStub.js\" type=\"text/javascript\"></script>\n",
       "<!-- End OneTrust -->\n",
       "<!-- Google Tag Manager -->\n",
       "<script id=\"GTM\">(function(w,d,s,l,i){w[l]=[{'pageLanguage':'es','service':'bme-exchange','pagePurpose':'brand-recognition','target':'market-members,media,stake-holders,general-public-others','bussinessTopic':'listing,trading,market-prices,indices,education'}];const g=document.cookie.match(/_ga=(.+?);/);g&&w[l].push({gaClientId:g[1].split('.').slice(-2).join('.')});w[l].push({'gtm.start':new Date().getTime(),event:'gtm.js'});var f=d.getElementsByTagName(s)[0],j=d.createElement(s),dl=l!='dataLayer'?'&l='+l:'';j.async=true;j.src='https://www.googletagmanager.com/gtm.js?id='+i+dl+'';f.parentNode.insertBefore(j,f);})(window,document,'script','dataLayer','GTM-TJNWXNT');</script>\n",
       "<!-- End Google Tag Manager -->\n",
       "<title>\n",
       "\tBolsa de Madrid | BME Exchange\n",
       "</title></head>"
      ]
     },
     "execution_count": 7,
     "metadata": {},
     "output_type": "execute_result"
    }
   ],
   "source": [
    "soup.head"
   ]
  },
  {
   "cell_type": "code",
   "execution_count": 8,
   "id": "ff9ac56f",
   "metadata": {},
   "outputs": [
    {
     "name": "stdout",
     "output_type": "stream",
     "text": [
      "<head data-app-path=\"/bme-exchange\" data-hora-act=\"Sat, 06 May 2023 16:36:34 GMT\" data-idioma=\"es\">\n",
      " <meta charset=\"utf-8\"/>\n",
      " <meta content=\"IE=edge\" http-equiv=\"X-UA-Compatible\"/>\n",
      " <meta content=\"width=device-width, initial-scale=1\" name=\"viewport\"/>\n",
      " <meta content=\"text/html; charset=utf-8\" http-equiv=\"Content-Type\"/>\n",
      " <meta content=\"La Bolsa de Madrid es una institución que canaliza el ahorro hacía la inversión productiva y facilita la movilidad de la riqueza en el desarrollo de España.\" id=\"Description\" name=\"description\"/>\n",
      " <meta content=\"Copyright © BME 2023\" id=\"copyright\" name=\"copyright\"/>\n",
      " <meta content=\"BME Exchange\" property=\"og:site_name\"/>\n",
      " <meta content=\"es\" property=\"og:locale\"/>\n",
      " <meta content=\"website\" property=\"og:type\"/>\n",
      " <meta content=\"summary_large_image\" property=\"twitter:card\"/>\n",
      " <meta content=\"@GrupoBME\" property=\"twitter:site\"/>\n",
      " <meta content=\"Bolsa de Madrid | BME Exchange\" property=\"og:title\"/>\n",
      " <meta content=\"Bolsa de Madrid | BME Exchange\" property=\"twitter:title\"/>\n",
      " <meta content=\"La Bolsa de Madrid es una institución que canaliza el ahorro hacía la inversión productiva y facilita la movilidad de la riqueza en el desarrollo de España.\" property=\"og:description\"/>\n",
      " <meta content=\"La Bolsa de Madrid es una institución que canaliza el ahorro hacía la inversión productiva y facilita la movilidad de la riqueza en el desarrollo de España.\" property=\"twitter:description\"/>\n",
      " <meta content=\"https://www.bolsasymercados.es/bme-exchange/es/Bolsa-Madrid\" property=\"og:url\"/>\n",
      " <meta content=\"https://www.bolsasymercados.es/bme-exchange/es/Bolsa-Madrid\" property=\"twitter:url\"/>\n",
      " <meta content=\"https://www.bolsasymercados.es/bme-exchange/images/imgsSubidas/Webs_Bolsas/Bolsa-de-Madrid-BME.gif\" property=\"og:image\"/>\n",
      " <meta content=\"https://www.bolsasymercados.es/bme-exchange/images/imgsSubidas/Webs_Bolsas/Bolsa-de-Madrid-BME.gif\" property=\"twitter:image\"/>\n",
      " <link href=\"https://www.bolsasymercados.es/bme-exchange/es/Bolsa-Madrid\" id=\"CanonicalLink\" rel=\"canonical\"/>\n",
      " <link href=\"https://www.bolsasymercados.es/bme-exchange/es/Bolsa-Madrid\" hreflang=\"es\" rel=\"alternate\"/>\n",
      " <link href=\"/bme-exchange/en/Madrid-Stock-Exchange\" hreflang=\"en\" rel=\"alternate\"/>\n",
      " <link href=\"//use.typekit.net/fag2lie.css\" rel=\"stylesheet\"/>\n",
      " <script defer=\"\" src=\"/bme-exchange/js/Master?v=X6xj-2AlmMQtfRPQnNdB9dd66gbf1t3iVmzg-Ty14g01\">\n",
      " </script>\n",
      " <link href=\"/bme-exchange/css/css?v=SemdazjV3SvQk8aAWz95nsG1XFDt_x1jK3Hvk9UF7YE1\" rel=\"stylesheet\"/>\n",
      " <!-- OneTrust -->\n",
      " <script charset=\"UTF-8\" data-document-language=\"true\" data-domain-script=\"848a4ce2-ee9d-424b-8508-fbc5b12c4591\" src=\"https://cdn.cookielaw.org/scripttemplates/otSDKStub.js\" type=\"text/javascript\">\n",
      " </script>\n",
      " <!-- End OneTrust -->\n",
      " <!-- Google Tag Manager -->\n",
      " <script id=\"GTM\">\n",
      "  (function(w,d,s,l,i){w[l]=[{'pageLanguage':'es','service':'bme-exchange','pagePurpose':'brand-recognition','target':'market-members,media,stake-holders,general-public-others','bussinessTopic':'listing,trading,market-prices,indices,education'}];const g=document.cookie.match(/_ga=(.+?);/);g&&w[l].push({gaClientId:g[1].split('.').slice(-2).join('.')});w[l].push({'gtm.start':new Date().getTime(),event:'gtm.js'});var f=d.getElementsByTagName(s)[0],j=d.createElement(s),dl=l!='dataLayer'?'&l='+l:'';j.async=true;j.src='https://www.googletagmanager.com/gtm.js?id='+i+dl+'';f.parentNode.insertBefore(j,f);})(window,document,'script','dataLayer','GTM-TJNWXNT');\n",
      " </script>\n",
      " <!-- End Google Tag Manager -->\n",
      " <title>\n",
      "  Bolsa de Madrid | BME Exchange\n",
      " </title>\n",
      "</head>\n",
      "\n"
     ]
    }
   ],
   "source": [
    "print(soup.head.prettify())"
   ]
  },
  {
   "cell_type": "code",
   "execution_count": 9,
   "id": "998f509e",
   "metadata": {},
   "outputs": [
    {
     "data": {
      "text/plain": [
       "<head data-app-path=\"/bme-exchange\" data-hora-act=\"Sat, 06 May 2023 16:36:34 GMT\" data-idioma=\"es\"><meta charset=\"utf-8\"/><meta content=\"IE=edge\" http-equiv=\"X-UA-Compatible\"/><meta content=\"width=device-width, initial-scale=1\" name=\"viewport\"/><meta content=\"text/html; charset=utf-8\" http-equiv=\"Content-Type\"/><meta content=\"La Bolsa de Madrid es una institución que canaliza el ahorro hacía la inversión productiva y facilita la movilidad de la riqueza en el desarrollo de España.\" id=\"Description\" name=\"description\"/><meta content=\"Copyright © BME 2023\" id=\"copyright\" name=\"copyright\"/><meta content=\"BME Exchange\" property=\"og:site_name\"/><meta content=\"es\" property=\"og:locale\"/><meta content=\"website\" property=\"og:type\"/><meta content=\"summary_large_image\" property=\"twitter:card\"/><meta content=\"@GrupoBME\" property=\"twitter:site\"/><meta content=\"Bolsa de Madrid | BME Exchange\" property=\"og:title\"/><meta content=\"Bolsa de Madrid | BME Exchange\" property=\"twitter:title\"/><meta content=\"La Bolsa de Madrid es una institución que canaliza el ahorro hacía la inversión productiva y facilita la movilidad de la riqueza en el desarrollo de España.\" property=\"og:description\"/><meta content=\"La Bolsa de Madrid es una institución que canaliza el ahorro hacía la inversión productiva y facilita la movilidad de la riqueza en el desarrollo de España.\" property=\"twitter:description\"/><meta content=\"https://www.bolsasymercados.es/bme-exchange/es/Bolsa-Madrid\" property=\"og:url\"/><meta content=\"https://www.bolsasymercados.es/bme-exchange/es/Bolsa-Madrid\" property=\"twitter:url\"/><meta content=\"https://www.bolsasymercados.es/bme-exchange/images/imgsSubidas/Webs_Bolsas/Bolsa-de-Madrid-BME.gif\" property=\"og:image\"/><meta content=\"https://www.bolsasymercados.es/bme-exchange/images/imgsSubidas/Webs_Bolsas/Bolsa-de-Madrid-BME.gif\" property=\"twitter:image\"/><link href=\"https://www.bolsasymercados.es/bme-exchange/es/Bolsa-Madrid\" id=\"CanonicalLink\" rel=\"canonical\"/><link href=\"https://www.bolsasymercados.es/bme-exchange/es/Bolsa-Madrid\" hreflang=\"es\" rel=\"alternate\"/><link href=\"/bme-exchange/en/Madrid-Stock-Exchange\" hreflang=\"en\" rel=\"alternate\"/><link href=\"//use.typekit.net/fag2lie.css\" rel=\"stylesheet\"/><script defer=\"\" src=\"/bme-exchange/js/Master?v=X6xj-2AlmMQtfRPQnNdB9dd66gbf1t3iVmzg-Ty14g01\"></script>\n",
       "<link href=\"/bme-exchange/css/css?v=SemdazjV3SvQk8aAWz95nsG1XFDt_x1jK3Hvk9UF7YE1\" rel=\"stylesheet\"/>\n",
       "<!-- OneTrust -->\n",
       "<script charset=\"UTF-8\" data-document-language=\"true\" data-domain-script=\"848a4ce2-ee9d-424b-8508-fbc5b12c4591\" src=\"https://cdn.cookielaw.org/scripttemplates/otSDKStub.js\" type=\"text/javascript\"></script>\n",
       "<!-- End OneTrust -->\n",
       "<!-- Google Tag Manager -->\n",
       "<script id=\"GTM\">(function(w,d,s,l,i){w[l]=[{'pageLanguage':'es','service':'bme-exchange','pagePurpose':'brand-recognition','target':'market-members,media,stake-holders,general-public-others','bussinessTopic':'listing,trading,market-prices,indices,education'}];const g=document.cookie.match(/_ga=(.+?);/);g&&w[l].push({gaClientId:g[1].split('.').slice(-2).join('.')});w[l].push({'gtm.start':new Date().getTime(),event:'gtm.js'});var f=d.getElementsByTagName(s)[0],j=d.createElement(s),dl=l!='dataLayer'?'&l='+l:'';j.async=true;j.src='https://www.googletagmanager.com/gtm.js?id='+i+dl+'';f.parentNode.insertBefore(j,f);})(window,document,'script','dataLayer','GTM-TJNWXNT');</script>\n",
       "<!-- End Google Tag Manager -->\n",
       "<title>\n",
       "\tBolsa de Madrid | BME Exchange\n",
       "</title></head>"
      ]
     },
     "execution_count": 9,
     "metadata": {},
     "output_type": "execute_result"
    }
   ],
   "source": [
    "soup.title.parent"
   ]
  },
  {
   "cell_type": "code",
   "execution_count": 10,
   "id": "9e13125a",
   "metadata": {},
   "outputs": [
    {
     "data": {
      "text/plain": [
       "<title>\n",
       "\tBolsa de Madrid | BME Exchange\n",
       "</title>"
      ]
     },
     "execution_count": 10,
     "metadata": {},
     "output_type": "execute_result"
    }
   ],
   "source": [
    "soup.title"
   ]
  },
  {
   "cell_type": "code",
   "execution_count": 11,
   "id": "b1b564ab",
   "metadata": {},
   "outputs": [
    {
     "name": "stdout",
     "output_type": "stream",
     "text": [
      "\r\n",
      "\tBolsa de Madrid | BME Exchange\r\n",
      "\n"
     ]
    }
   ],
   "source": [
    "for child in soup.title.children:\n",
    "    print(child)"
   ]
  },
  {
   "cell_type": "markdown",
   "id": "7b76e71f",
   "metadata": {},
   "source": [
    "Search data of interest"
   ]
  },
  {
   "cell_type": "code",
   "execution_count": 12,
   "id": "c9c24599",
   "metadata": {},
   "outputs": [
    {
     "data": {
      "text/plain": [
       "[<a href=\"#main-content\" id=\"skip-nav-link\" tabindex=\"1\">Saltar Navegación</a>,\n",
       " <a class=\"bme-brand\" href=\"/esp/Home\" tabindex=\"8\" target=\"_blank\" title=\"Web Corporativa BME\">\n",
       " <img alt=\"Logo BME\" aria-hidden=\"true\" src=\"/bme-exchange/images/base/Logo.svg\"/>\n",
       " <span class=\"corporate-web-btn\">Web Corporativa<span class=\"glyphicon glyphicon-menu-right\"></span></span>\n",
       " </a>,\n",
       " <a href=\"/esp/Sobre-BME\" tabindex=\"9\" target=\"_blank\">Sobre<br/>BME</a>,\n",
       " <a href=\"/esp/Informacion-Corporativa\" tabindex=\"10\" target=\"_blank\">Información<br/>Corporativa</a>,\n",
       " <a href=\"/esp/Sala-Comunicacion\" tabindex=\"11\" target=\"_blank\">Sala de<br/>Comunicación</a>,\n",
       " <a href=\"/esp/Estudios-Publicaciones\" tabindex=\"12\" target=\"_blank\">Publicaciones y<br/>Estadísticas</a>,\n",
       " <a href=\"/esp/Sostenibilidad\" tabindex=\"13\" target=\"_blank\">Sostenibilidad</a>,\n",
       " <a href=\"/esp/Formacion\" tabindex=\"14\" target=\"_blank\">Formación<br/>Instituto BME</a>,\n",
       " <a class=\"bme-close\" data-toggle=\"collapse\" href=\"#corporate-web-menu\" role=\"button\">\n",
       " <svg height=\"40\" viewbox=\"0 0 40 40\" width=\"40\"><use href=\"#cross-icon\" xlink:href=\"cross-icon\"></use></svg>\n",
       " <span class=\"sr-only\">Cerrar</span>\n",
       " </a>,\n",
       " <a class=\"navbar-brand\" href=\"/bme-exchange/es/Home\" tabindex=\"2\" target=\"_self\" title=\"BME Exchange\">\n",
       " <img alt=\"BME Logo\" aria-hidden=\"true\" src=\"/bme-exchange/images/base/Logo.svg\"/>\n",
       " </a>,\n",
       " <a data-toggle=\"dropdown\" href=\"#\" role=\"button\" tabindex=\"3\">\n",
       " <svg height=\"28\" viewbox=\"0 0 18.2 28\" width=\"18.2\"><use href=\"#search-icon\" xlink:href=\"search-icon\"></use></svg>\n",
       " <span class=\"sr-only\">Buscador</span>\n",
       " </a>,\n",
       " <a data-toggle=\"dropdown\" href=\"#\" role=\"button\" tabindex=\"4\">\n",
       " <svg height=\"28\" viewbox=\"0 0 15.3 28\" width=\"15.3\"><use href=\"#private-icon\" xlink:href=\"private-icon\"></use></svg>\n",
       " <span class=\"sr-only\">Áreas Privadas</span>\n",
       " </a>,\n",
       " <a class=\"header-popover-btn\" href=\"https://privada.bmerv.es/\" target=\"_blank\">Login<span class=\"glyphicon glyphicon-menu-right\"></span></a>,\n",
       " <a class=\"header-popover-btn\" href=\"https://www.bmegrowth.es/Privado/LogIn.aspx\" target=\"_blank\">Login<span class=\"glyphicon glyphicon-menu-right\"></span></a>,\n",
       " <a class=\"header-popover-btn\" href=\"https://ww2.aiaf.es/\" target=\"_blank\">Login<span class=\"glyphicon glyphicon-menu-right\"></span></a>,\n",
       " <a href=\"/bme-exchange/es/Contacto#Informacion-General\" tabindex=\"5\">\n",
       " <svg height=\"28\" viewbox=\"0 0 21 28\" width=\"21\"><use href=\"#mail-icon\" xlink:href=\"mail-icon\"></use></svg>\n",
       " <span class=\"sr-only\">Contacto</span>\n",
       " </a>,\n",
       " <a class=\"language-anchor\" href=\"/bme-exchange/en/Madrid-Stock-Exchange\" hreflang=\"en\" tabindex=\"6\"><span aria-hidden=\"true\"><strong> EN </strong></span><span class=\"sr-only\">English</span></a>,\n",
       " <a class=\"collapsed\" data-toggle=\"collapse\" href=\"#corporate-web-menu\" role=\"button\" tabindex=\"8\">\n",
       " <span><img alt=\"Logo BME\" aria-hidden=\"true\" src=\"/bme-exchange/images/base/FlechaBME.svg\"/></span>\n",
       " <span>BME<br/>CORPORATE</span>\n",
       " </a>,\n",
       " <a aria-expanded=\"false\" aria-haspopup=\"true\" class=\"dropdown-toggle\" data-toggle=\"dropdown\" href=\"/bme-exchange/es/Como-Cotizar\" role=\"button\">Cotizar</a>,\n",
       " <a class=\"col-sm-12 dropdown-overview\" href=\"/bme-exchange/es/Como-Cotizar\" target=\"_self\"><span class=\"menu-overview-title\">Cotizar</span><span class=\"menu-overview-btn\">Descubre más<span class=\"glyphicon glyphicon-menu-right\"></span></span><span class=\"menu-overview-claim\">Financia tus ambiciones de crecimiento</span></a>,\n",
       " <a aria-expanded=\"false\" class=\"visible-xs-block collapsed\" data-toggle=\"collapse\" href=\"#menu24\">Acciones</a>,\n",
       " <a class=\"\" href=\"/bme-exchange/es/Como-Cotizar/Cotizar-en-Bolsa\" target=\"_self\">Acciones</a>,\n",
       " <a class=\"\" href=\"/bme-exchange/es/Como-Cotizar/Bolsa/Como-salir-a-Bolsa\" target=\"_self\">Cotizar en Bolsa</a>,\n",
       " <a class=\"\" href=\"/bme-exchange/es/Como-Cotizar/Bolsa/BME-Growth\" target=\"_self\">Cotizar en BME Growth</a>,\n",
       " <a class=\"\" href=\"/bme-exchange/es/Como-Cotizar/Bolsa/Latibex\" target=\"_self\">Cotizar en Latibex</a>,\n",
       " <a aria-expanded=\"false\" class=\"visible-xs-block collapsed\" data-toggle=\"collapse\" href=\"#menu28\">Renta Fija</a>,\n",
       " <a class=\"\" href=\"/bme-exchange/es/Como-Cotizar/Renta-Fija\" target=\"_self\">Renta Fija</a>,\n",
       " <a class=\"\" href=\"/bme-exchange/es/Como-Cotizar/Renta-Fija/AIAF\" target=\"_self\">Mercados Regulados - AIAF</a>,\n",
       " <a class=\"\" href=\"/bme-exchange/es/Como-Cotizar/Renta-Fija/MARF\" target=\"_self\">Mercado Alternativo - MARF</a>,\n",
       " <a class=\"\" href=\"/bme-exchange/es/Como-Cotizar/ETFs\" target=\"_self\">ETFs</a>,\n",
       " <a class=\"\" href=\"/bme-exchange/es/Como-Cotizar/Warrants\" target=\"_self\">Warrants</a>,\n",
       " <a class=\"\" href=\"https://www.meff.es/esp/Sobre-Nosotros/Empresa-MEFF\" target=\"_blank\">Derivados</a>,\n",
       " <a class=\"\" href=\"https://www.bolsasymercados.es/BME_4Companies/esp/Home\" target=\"_blank\">Servicios para Emisores</a>,\n",
       " <a aria-expanded=\"false\" aria-haspopup=\"true\" class=\"dropdown-toggle\" data-toggle=\"dropdown\" href=\"/bme-exchange/es/Negociar\" role=\"button\">Negociar</a>,\n",
       " <a class=\"col-sm-12 dropdown-overview\" href=\"/bme-exchange/es/Negociar\" target=\"_self\"><span class=\"menu-overview-title\">Negociar</span><span class=\"menu-overview-btn\">Descubre más<span class=\"glyphicon glyphicon-menu-right\"></span></span><span class=\"menu-overview-claim\">Calidad de mercado en la que confiar</span></a>,\n",
       " <a aria-expanded=\"false\" class=\"visible-xs-block collapsed\" data-toggle=\"collapse\" href=\"#menu42\">Mercados</a>,\n",
       " <a class=\"\" href=\"/bme-exchange/es/Negociar/Mercados\" target=\"_self\">Mercados</a>,\n",
       " <a class=\"\" href=\"/bme-exchange/es/Negociar/Mercados/Renta-Variable\" target=\"_self\">Acciones</a>,\n",
       " <a class=\"\" href=\"/bme-exchange/es/Negociar/Mercados/Renta-Fija\" target=\"_self\">Renta Fija</a>,\n",
       " <a class=\"\" href=\"/bme-exchange/es/Negociar/Mercados/ETFs\" target=\"_self\">ETFs</a>,\n",
       " <a class=\"\" href=\"/bme-exchange/es/Negociar/Mercados/Warrants\" target=\"_self\">Warrants</a>,\n",
       " <a class=\"\" href=\"/bme-exchange/es/Negociar/Mercados/Derivados\" target=\"_self\">Derivados</a>,\n",
       " <a aria-expanded=\"false\" class=\"visible-xs-block collapsed\" data-toggle=\"collapse\" href=\"#menu63\">Participantes de Mercado</a>,\n",
       " <a class=\"\" href=\"/bme-exchange/es/Negociar/Participantes-y-Miembros-de-Mercado\" target=\"_self\">Participantes de Mercado</a>,\n",
       " <a class=\"\" href=\"/bme-exchange/es/Negociar/Participantes/Listado-de-Participantes-y-Miembros-de-Mercado\" target=\"_self\">Miembros</a>,\n",
       " <a class=\"\" href=\"/bme-exchange/es/Negociar/Participantes/Servicios-para-Participantes\" target=\"_self\">Servicios para Participantes</a>,\n",
       " <a aria-expanded=\"false\" class=\"visible-xs-block collapsed\" data-toggle=\"collapse\" href=\"#menu75\">Plataforma de Negociación</a>,\n",
       " <a class=\"\" href=\"/bme-exchange/es/Negociar/Plataforma-de-Negociacion\" target=\"_self\">Plataforma de Negociación</a>,\n",
       " <a class=\"\" href=\"/bme-exchange/es/Negociar/Plataforma-de-Negociacion/SIBE-SMART-Acciones\" target=\"_self\">SIBE SMART (Acciones - Warrants - ETFs)</a>,\n",
       " <a class=\"\" href=\"/bme-exchange/es/Negociar/Plataforma-de-Negociacion/SEND-SENAF\" target=\"_self\">SEND - SENAF (Renta Fija)</a>,\n",
       " <a class=\"\" href=\"https://www.meff.es/esp/Tecnologia/Formas-Conexion\" target=\"_blank\">MEFF-SMART (Derivados)</a>,\n",
       " <a aria-expanded=\"false\" aria-haspopup=\"true\" class=\"dropdown-toggle\" data-toggle=\"dropdown\" href=\"/bme-exchange/es/Indices\" role=\"button\">Índices</a>,\n",
       " <a class=\"col-sm-12 dropdown-overview\" href=\"/bme-exchange/es/Indices\" target=\"_self\"><span class=\"menu-overview-title\">Índices</span><span class=\"menu-overview-btn\">Descubre más<span class=\"glyphicon glyphicon-menu-right\"></span></span><span class=\"menu-overview-claim\">Índices de BME. Las principales referencias de los mercados españoles</span></a>,\n",
       " <a class=\"\" href=\"/bme-exchange/es/Indices/Resumen\" target=\"_self\">Resumen de Índices</a>,\n",
       " <a class=\"\" href=\"/bme-exchange/es/Indices/Avisos\" target=\"_self\">Avisos</a>,\n",
       " <a class=\"\" href=\"/bme-exchange/es/Indices/Regulacion\" target=\"_self\">Regulación Índices</a>,\n",
       " <a class=\"\" href=\"/bme-exchange/es/Indices/Comite-Asesor-Tecnico/Comite-Asesor-Tecnico\" target=\"_self\">Comité Asesor Técnico</a>,\n",
       " <a class=\"\" href=\"/bme-exchange/es/Indices/Ibex\" target=\"_self\">Índices IBEX</a>,\n",
       " <a class=\"\" href=\"/bme-exchange/es/indices/ESG\" target=\"_self\">Índices ESG</a>,\n",
       " <a class=\"\" href=\"/bme-exchange/es/Indices/Bolsas\" target=\"_self\">Índices Bolsas</a>,\n",
       " <a class=\"\" href=\"/bme-exchange/es/Indices/Latibex\" target=\"_self\">Índices Latibex</a>,\n",
       " <a class=\"\" href=\"/bme-exchange/es/Indices/Renta-Fija\" target=\"_self\">Índices Renta Fija</a>,\n",
       " <a aria-expanded=\"false\" aria-haspopup=\"true\" class=\"dropdown-toggle\" data-toggle=\"dropdown\" href=\"/bme-exchange/es/Mercados-y-Cotizaciones\" role=\"button\">Mercados y Cotizaciones</a>,\n",
       " <a class=\"col-sm-12 dropdown-overview\" href=\"/bme-exchange/es/Mercados-y-Cotizaciones\" target=\"_self\"><span class=\"menu-overview-title\">Mercados y Cotizaciones</span><span class=\"menu-overview-btn\">Descubre más<span class=\"glyphicon glyphicon-menu-right\"></span></span><span class=\"menu-overview-claim\">La clave para el éxito de cualquier decisión de inversión</span></a>,\n",
       " <a aria-expanded=\"false\" class=\"visible-xs-block collapsed\" data-toggle=\"collapse\" href=\"#menu135\">Acciones</a>,\n",
       " <a class=\"\" href=\"/bme-exchange/es/Mercados-y-Cotizaciones/Acciones/Mercado-Continuo/Precios/ibex-35-ES0SI0000005\" target=\"_self\">Acciones</a>,\n",
       " <a class=\"\" href=\"/bme-exchange/es/Mercados-y-Cotizaciones/Acciones/Mercado-Continuo/Precios/ibex-35-ES0SI0000005\" target=\"_self\">Precios</a>,\n",
       " <a class=\"\" href=\"/bme-exchange/es/Mercados-y-Cotizaciones/Acciones/Mercado-Continuo/Empresas-Cotizadas\" target=\"_self\">Empresas Cotizadas</a>,\n",
       " <a class=\"\" href=\"/bme-exchange/es/Mercados-y-Cotizaciones/Acciones/Mercado-Continuo/Ultima-Informacion-Privilegiada\" target=\"_self\">Información Privilegiada/Otra información relevante</a>,\n",
       " <a class=\"\" href=\"/bme-exchange/es/Mercados-y-Cotizaciones/Acciones/Mercado-Continuo/Operaciones-Financieras/Dividendos\" target=\"_self\">Operaciones Financieras</a>,\n",
       " <a class=\"\" href=\"https://www.latibex.com/esp/Cotizaciones/Acciones\" target=\"_blank\">Latibex</a>,\n",
       " <a class=\"\" href=\"https://www.bmegrowth.es/esp/Precios.aspx\" target=\"_blank\">BME Growth</a>,\n",
       " <a class=\"\" href=\"https://www.bolsasymercados.es/MTF_Equity/esp/SICAV/Precios.aspx?mercado=ValorLiquidativo\" target=\"_blank\">BME MTF Equity</a>,\n",
       " <a class=\"\" href=\"/bme-exchange/es/Mercados-y-Cotizaciones/Acciones/Analisis-y-Herramientas/Analisis-de-empresas/Lighthouse\" target=\"_self\">Análisis Lighthouse Acciones</a>,\n",
       " <a class=\"\" href=\"/bme-exchange/es/Mercados-y-Cotizaciones/Acciones/Analisis-y-Herramientas/Analisis-de-empresas/Morningstar/ibex-Medium\" target=\"_self\">Analisis Morningstar Acciones</a>,\n",
       " <a class=\"\" href=\"/bme-exchange/es/Negociar/Agenda\" target=\"_self\">Agenda del Inversor</a>,\n",
       " <a class=\"\" href=\"/bme-exchange/es/Mercados-y-Cotizaciones/Acciones/Analisis-y-Herramientas/Mi-Cartera\" target=\"_self\">Mi Cartera</a>,\n",
       " <a aria-expanded=\"false\" class=\"visible-xs-block collapsed\" data-toggle=\"collapse\" href=\"#menu206\">Renta Fija</a>,\n",
       " <a class=\"\" href=\"/bme-exchange/es/Mercados-y-Cotizaciones/Renta-Fija/Precios/AIAF-SEND-Deuda-Publica\" target=\"_self\">Renta Fija</a>,\n",
       " <a class=\"\" href=\"/bme-exchange/es/Mercados-y-Cotizaciones/Renta-Fija/Precios/AIAF-SEND-Deuda-Publica\" target=\"_self\">Precios</a>,\n",
       " <a class=\"\" href=\"/bme-exchange/es/Mercados-y-Cotizaciones/Renta-Fija/Emisiones-En-Circulacion\" target=\"_self\">Emisiones en circulación</a>,\n",
       " <a class=\"\" href=\"/bme-exchange/es/Mercados-y-Cotizaciones/Renta-Fija/Listado-de-Emisores\" target=\"_self\">Emisores</a>,\n",
       " <a class=\"\" href=\"/bme-exchange/es/Mercados-y-Cotizaciones/Renta-Fija/Admision-a-Cotizar/Ultimos-Desembolsos\" target=\"_self\">Admisiones a Cotización</a>,\n",
       " <a class=\"\" href=\"/bme-exchange/es/Mercados-y-Cotizaciones/Renta-Fija/Anuncios\" target=\"_self\">Anuncios emisiones</a>,\n",
       " <a class=\"\" href=\"/bme-exchange/es/Mercados-y-Cotizaciones/Renta-Fija/Noticias\" target=\"_self\">Noticias</a>,\n",
       " <a class=\"\" href=\"/bme-exchange/es/Mercados-y-Cotizaciones/Renta-Fija/MARF-Hechos-Relevantes\" target=\"_self\">MARF Hechos Relevantes</a>,\n",
       " <a class=\"\" href=\"/bme-exchange/es/Mercados-y-Cotizaciones/Renta-Fija/MARF-Informacion-Financiera\" target=\"_self\">MARF Información Financiera</a>,\n",
       " <a aria-expanded=\"false\" class=\"visible-xs-block collapsed\" data-toggle=\"collapse\" href=\"#menu238\">ETFs</a>,\n",
       " <a class=\"\" href=\"/bme-exchange/es/Mercados-y-Cotizaciones/ETFs/Cotizaciones\" target=\"_self\">ETFs</a>,\n",
       " <a class=\"\" href=\"/bme-exchange/es/Mercados-y-Cotizaciones/ETFs/Cotizaciones\" target=\"_self\">Cotizaciones</a>,\n",
       " <a class=\"\" href=\"/bme-exchange/es/Mercados-y-Cotizaciones/ETFs/Cierre-Mercado\" target=\"_self\">Cierre de mercado</a>,\n",
       " <a class=\"\" href=\"/bme-exchange/es/Mercados-y-Cotizaciones/ETFs/Dividendos\" target=\"_self\">Dividendos</a>,\n",
       " <a class=\"\" href=\"/bme-exchange/es/Mercados-y-Cotizaciones/ETFs/Hechos-Relevantes\" target=\"_self\">Hechos Relevantes</a>,\n",
       " <a class=\"\" href=\"/bme-exchange/es/Mercados-y-Cotizaciones/ETFs/Herramientas/Mi-Cartera-de-ETFs?m=ETF\" target=\"_self\">Mi Cartera ETF</a>,\n",
       " <a aria-expanded=\"false\" class=\"visible-xs-block collapsed\" data-toggle=\"collapse\" href=\"#menu247\">Warrants</a>,\n",
       " <a class=\"\" href=\"/bme-exchange/es/Mercados-y-Cotizaciones/Warrants/Precios/Warrants\" target=\"_self\">Warrants</a>,\n",
       " <a class=\"\" href=\"/bme-exchange/es/Mercados-y-Cotizaciones/Warrants/Precios/Warrants\" target=\"_self\">Cotizaciones</a>,\n",
       " <a class=\"\" href=\"/bme-exchange/es/Mercados-y-Cotizaciones/Warrants/Informes\" target=\"_self\">Informes</a>,\n",
       " <a class=\"\" href=\"/bme-exchange/es/Mercados-y-Cotizaciones/Warrants/Listado-de-valores\" target=\"_self\">Listado de valores</a>,\n",
       " <a class=\"\" href=\"/bme-exchange/es/Mercados-y-Cotizaciones/Warrants/Ajustes-Operaciones-Financieras\" target=\"_self\">Ajustes por Operaciones Financieras</a>,\n",
       " <a class=\"\" href=\"/bme-exchange/es/Mercados-y-Cotizaciones/Warrants/Admisiones\" target=\"_self\">Admisiones</a>,\n",
       " <a class=\"\" href=\"https://www.meff.es/esp/Derivados-Financieros/Cotizaciones\" target=\"_blank\">Derivados</a>,\n",
       " <a class=\"\" href=\"/bme-exchange/es/Mercados-y-Cotizaciones/Estadisticas\" target=\"_self\">Estadísticas</a>,\n",
       " <a class=\"\" href=\"https://www.bmemarketdata.es/esp/\" target=\"_blank\">Market Data</a>,\n",
       " <a class=\"\" href=\"/bme-exchange/es/Regulacion/Buscador-Regulacion\" target=\"_self\">Regulación</a>,\n",
       " <a aria-expanded=\"false\" aria-haspopup=\"true\" class=\"dropdown-toggle\" data-toggle=\"dropdown\" href=\"/bme-exchange/es/Para-Inversores\" role=\"button\">Para inversores</a>,\n",
       " <a class=\"col-sm-12 dropdown-overview\" href=\"/bme-exchange/es/Para-Inversores\" target=\"_self\"><span class=\"menu-overview-title\">Para inversores</span><span class=\"menu-overview-btn\">Descubre más<span class=\"glyphicon glyphicon-menu-right\"></span></span><span class=\"menu-overview-claim\">Tecnología e innovación al servicio de los inversores</span></a>,\n",
       " <a class=\"\" href=\"/bme-exchange/es/Para-Inversores/Institucionales\" target=\"_self\">Institucionales</a>,\n",
       " <a class=\"\" href=\"/bme-exchange/es/Para-Inversores/Minoristas\" target=\"_self\">Minoristas</a>,\n",
       " <a class=\"\" href=\"/bme-exchange/es/Formacion\" target=\"_self\">Formación</a>,\n",
       " <a href=\"/esp/Home\" target=\"_blank\" title=\"Web Corporativa BME\">\n",
       " <img alt=\"Logo BME\" aria-hidden=\"true\" src=\"/bme-exchange/images/base/LogoBMEInv.svg\"/>\n",
       " <span class=\"corporate-web-btn\">Web Corporativa<span class=\"glyphicon glyphicon-menu-right\"></span></span>\n",
       " </a>,\n",
       " <a href=\"/bme-exchange/es/Home\" target=\"_self\">Home</a>,\n",
       " <a href=\"/bme-exchange/es/Bolsa-Madrid\" target=\"_self\">Bolsa de Madrid</a>,\n",
       " <a class=\"overview-btn\" href=\"/bme-exchange/es/Bolsa-Madrid/Sobre-Nosotros\" target=\"_self\">Leer más</a>,\n",
       " <a class=\"mover\" href=\"/bme-exchange/es/Bolsa-Madrid/Sobre-Nosotros\" target=\"_self\">Sobre nosotros<span class=\"icon mas1\"></span></a>,\n",
       " <a class=\"mover\" href=\"/bme-exchange/es/Bolsa-Madrid/Palacio-Visitas\" target=\"_self\">El Palacio de la Bolsa<span class=\"icon mas1\"></span></a>,\n",
       " <a class=\"mover\" href=\"/bme-exchange/es/Negociar/Participantes/Miembros-Renta-Variable\" target=\"_self\">Miembros<span class=\"icon mas1\"></span></a>,\n",
       " <a class=\"mover\" href=\"/bme-exchange/es/Para-Inversores/Protector-Inversor\" target=\"_self\">Protector del Inversor<span class=\"icon mas1\"></span></a>,\n",
       " <a class=\"mover\" href=\"/bme-exchange/es/Mercados-y-Cotizaciones/Estadisticas/Boletin-Cotizacion-Madrid\" target=\"_self\">Boletín diario<span class=\"icon mas1\"></span></a>,\n",
       " <a class=\"mover\" href=\"/bme-exchange/es/Regulacion/Buscador-Regulacion?fromDate=2021-08-23&amp;toDate=2022-08-23&amp;Market=&amp;Company=01&amp;Subject=&amp;Type=&amp;InForce=S&amp;Number=&amp;Title=\" target=\"_self\">Regulación<span class=\"icon mas1\"></span></a>,\n",
       " <a class=\"mover\" href=\"/bme-exchange/docs/docsSubidos/Trading/Tarifas-BME-Exchange.pdf\" target=\"_blank\">Tarifas vigentes<span class=\"icon mas1\"></span></a>,\n",
       " <a class=\"mover\" href=\"/bme-exchange/docs/docsSubidos/Trading/Tarifas-renta-variable-vigor-1-julio-2023.pdf\" target=\"_blank\">Tarifas con entrada en vigor el 1 de julio de 2023<span class=\"icon mas1\"></span></a>,\n",
       " <a class=\"section-buttons-button\" href=\"/bme-exchange/es/Mercados-y-Cotizaciones/Acciones/Mercado-Continuo/Precios/ibex-35-ES0SI0000005\" target=\"_self\"><span>IBEX 35</span><span class=\"section-buttons-icon\"><img alt=\"IBEX 35\" aria-hidden=\"true\" class=\"object-fit\" src=\"/bme-exchange/images/imgsSubidas/Iconos-BME-azul/IBEX35-BENEFITS-icon-BME.svg\"/></span></a>,\n",
       " <a class=\"section-buttons-button\" href=\"/bme-exchange/es/Mercados-y-Cotizaciones/Acciones/Mercado-Continuo/Precios/igbm-ES0SI0000609\" target=\"_self\"><span>I.G. Bolsa Madrid</span><span class=\"section-buttons-icon\"><img alt=\"I.G. Bolsa Madrid\" aria-hidden=\"true\" class=\"object-fit\" src=\"/bme-exchange/images/imgsSubidas/Iconos-BME-azul/Reference-market-BME.svg\"/></span></a>,\n",
       " <a class=\"section-buttons-button\" href=\"/bme-exchange/es/Mercados-y-Cotizaciones\" target=\"_self\"><span>Mercado y Cotizaciones</span><span class=\"section-buttons-icon\"><img alt=\"Mercado y Cotizaciones\" aria-hidden=\"true\" class=\"object-fit\" src=\"/bme-exchange/images/imgsSubidas/Iconos-BME-azul/Session-Prices-BME.svg\"/></span></a>,\n",
       " <a class=\"section-buttons-button\" href=\"/bme-exchange/es/Mercados-y-Cotizaciones/Estadisticas\" target=\"_self\"><span>Estadísticas </span><span class=\"section-buttons-icon\"><img alt=\"Estadísticas \" aria-hidden=\"true\" class=\"object-fit\" src=\"/bme-exchange/images/imgsSubidas/Iconos-BME-azul/Indices-Data-Feeds-BME.png\"/></span></a>,\n",
       " <a class=\"section-highlight-component\" href=\"https://www.bolsasymercados.es/esp/Estudios-Publicaciones/Informe-Mercado/2022\" target=\"_self\"><div class=\"section-highlight-background\"><div class=\"section-highlight-background-color\"></div></div>\n",
       " <div class=\"section-highlight-content\">\n",
       " <div class=\"section-highlight-main\"><h2 class=\"overview-title\">Informe de mercado</h2><h3 class=\"section-highlight-title\">Informe de Mercado 2022</h3><p class=\"section-highlight-text\">Principales estadísticas de los mercados de BME durante 2022.</p><div class=\"overview-btns section-highlight-btns\"><span class=\"overview-btn\">Leer informe</span></div>\n",
       " </div></div>\n",
       " </a>,\n",
       " <a href=\"/bme-exchange/es/Como-Cotizar/Toques-Campana?fromDate=2021-08-23&amp;toDate=2023-08-23&amp;selectLocation=Bolsa-Madrid&amp;EventTitle=\" target=\"_self\"><span class=\"section-banners-element\"><span class=\"section-banners-image-title\">APERTURAS DE HONOR</span><div class=\"section-banners-image\"><img alt=\"APERTURAS DE HONOR\" aria-hidden=\"true\" class=\"object-fit\" src=\"/bme-exchange/images/imgsSubidas/Webs_Bolsas/Toque-campana-Bolsa-BME.png\"/></div>\n",
       " <span class=\"section-banners-content\"><h3 class=\"section-banners-title\">Toques de Campana</h3></span><div class=\"overview-btns\"><span class=\"overview-btn\">Ver todas</span></div>\n",
       " </span></a>,\n",
       " <a href=\"https://www.bolsasymercados.es/esp/Estudios-Publicaciones/Documento/5571_Informe_sobre_la_Propiedad_de_las_Acciones_cotizadas\" target=\"_blank\"><span class=\"section-banners-element\"><span class=\"section-banners-image-title\">Informe</span><div class=\"section-banners-image\"><img alt=\"Informe\" aria-hidden=\"true\" class=\"object-fit\" src=\"/bme-exchange/images/imgsSubidas/Webs_Bolsas/Informe-sobre-propiedad-deAcciones-cotizadas-BME.png\"/></div>\n",
       " <span class=\"section-banners-content\"><h3 class=\"section-banners-title\">Informe sobre la propiedad de las acciones cotizadas</h3></span><div class=\"overview-btns\"><span class=\"overview-btn\">Leer informe</span></div>\n",
       " </span></a>,\n",
       " <a href=\"https://www.bolsasymercados.es/esp/Sostenibilidad/Personas/Dia-Educacion-Financiera\" target=\"_self\"><span class=\"section-banners-element\"><span class=\"section-banners-image-title\">EDUCACIÓN FINANCIERA</span><div class=\"section-banners-image\"><img alt=\"EDUCACIÓN FINANCIERA\" aria-hidden=\"true\" class=\"object-fit\" src=\"/bme-exchange/images/imgsSubidas/Webs_Bolsas/Financial-education.png\"/></div>\n",
       " <span class=\"section-banners-content\"><h3 class=\"section-banners-title\">Día de la Educación Financiera</h3></span><div class=\"overview-btns\"><span class=\"overview-btn\">Saber más</span></div>\n",
       " </span></a>,\n",
       " <a class=\"overview-btn\" href=\"/bme-exchange/es/Bolsa-Madrid/Palacio-Visitas\" target=\"_self\">Visitas guiadas</a>,\n",
       " <a class=\"overview-btn\" href=\"https://my.matterport.com/show/?m=7qQdPX13Pum\" target=\"_blank\">Tour virtual</a>,\n",
       " <a class=\"overview-btn\" href=\"/bme-exchange/es/Espacios-Corporativos\" target=\"_self\">Alquiler de Espacios</a>,\n",
       " <a class=\"section-highlight-component\" data-categoryga=\"Contacto\" data-labelga=\"Contacto Bolsa Madrid\" data-valuega=\"1\" href=\"/bme-exchange/es/Contacto#Bolsas-locales\" target=\"_self\"><div class=\"section-highlight-background\"><div class=\"section-highlight-background-color\"></div></div>\n",
       " <div class=\"section-highlight-content\">\n",
       " <div class=\"section-highlight-main\"><h2 class=\"overview-title\">Contacto</h2><h3 class=\"section-highlight-title\">¡Hablemos!</h3><p class=\"section-highlight-text\">Para más información o preguntas sobre nuestros servicios. No dudes en contactar con nosotros. Estamos aquí para ayudarte.</p><div class=\"overview-btns section-highlight-btns\"><span class=\"overview-btn\">Contáctanos</span></div>\n",
       " </div></div>\n",
       " </a>,\n",
       " <a class=\"icon twitter\" href=\"#share_in_twitter\" title=\"Compartir en Twitter\"></a>,\n",
       " <a class=\"icon whatsapp\" href=\"#share_in_whatsapp\" title=\"Enviar por WhatsApp\"></a>,\n",
       " <a class=\"icon linkedin\" href=\"#share_in_linkedin\" title=\"Compartir en LinkedIn\"></a>,\n",
       " <a class=\"icon facebook\" href=\"#share_in_facebook\" title=\"Compartir en Facebook\"></a>,\n",
       " <a class=\"icon email sep\" href=\"#share_in_mail\" title=\"Enviar por email\"></a>,\n",
       " <a class=\"icon print sep\" href=\"#share_in_print\" title=\"Imprimir\"></a>,\n",
       " <a class=\"tirador\" href=\"#share_in_open\">\n",
       " <span aria-hidden=\"true\" class=\"glyphicon\"></span>\n",
       " </a>,\n",
       " <a class=\"hidden-print hidden\" href=\"#top\" id=\"VolverInicio\" target=\"_self\"><span aria-hidden=\"true\" class=\"glyphicon glyphicon-chevron-up\"></span></a>,\n",
       " <a href=\"/bme-exchange/es/Negociar/Calendario-Mercado\" target=\"_self\">Calendario de Mercado</a>,\n",
       " <a href=\"/bme-exchange/es/Negociar/Horario-Mercado\" target=\"_self\">Horario de Mercado</a>,\n",
       " <a href=\"/bme-exchange/es/Market-Status\" target=\"_self\">Estado del Mercado</a>,\n",
       " <a href=\"/bme-exchange/es/Negociar/Mercados/Renta-Variable/MIFID-II/Informes-Best-Execution\" target=\"_self\">MiFID II Renta Variable</a>,\n",
       " <a href=\"/bme-exchange/es/Negociar/Mercados/Renta-Fija/MIFID-II/Informes-Best-Execution\" target=\"_self\">MiFID II Renta Fija</a>,\n",
       " <a href=\"https://www.meff.es/esp/MIFID-II\" target=\"_blank\">MiFID II Derivados</a>,\n",
       " <a href=\"/bme-exchange/es/Mercados-y-Cotizaciones/Acciones/Mercado-Continuo/Precios/ibex-35-ES0SI0000005\" target=\"_self\">IBEX 35®</a>,\n",
       " <a href=\"/bme-exchange/es/Mercados-y-Cotizaciones/Acciones/Mercado-Continuo/Operaciones-Financieras/Dividendos\" target=\"_self\">Dividendos</a>,\n",
       " <a href=\"/bme-exchange/es/Negociar/Agenda\" target=\"_self\">Agenda del Inversor</a>,\n",
       " <a href=\"/bme-exchange/es/Mercados-y-Cotizaciones/Acciones/Analisis-y-Herramientas/Mi-Cartera\" target=\"_self\">Mi Cartera</a>,\n",
       " <a href=\"/bme-exchange/es/Mercados-y-Cotizaciones/Estadisticas/Boletines-Informes\" target=\"_self\">Boletines de cotización</a>,\n",
       " <a href=\"/bme-exchange/es/Mercados-y-Cotizaciones/Estadisticas\" target=\"_self\">Estadísticas</a>,\n",
       " <a href=\"https://www.bolsasymercados.es/BME_4Companies\" target=\"_blank\">BME 4Companies</a>,\n",
       " <a href=\"https://www.bmeregulatoryservices.es\" target=\"_blank\">BME Regulatory Services</a>,\n",
       " <a href=\"/bme-exchange/es/Negociar/Participantes/Servicios-para-Participantes\" target=\"_self\">Servicios para intermediarios</a>,\n",
       " <a href=\"https://www.bmemarketdata.es\" target=\"_blank\">Market Data</a>,\n",
       " <a href=\"/bme-exchange/es/Espacios-Corporativos\" target=\"_self\">Espacios para Eventos Corporativos</a>,\n",
       " <a href=\"https://www.bolsasymercados.es/esp/Sala-Comunicacion\" target=\"_blank\">Sala de Comunicación BME</a>,\n",
       " <a class=\"icon twitter\" href=\"https://twitter.com/GrupoBME\" target=\"_blank\" title=\"Twitter\"></a>,\n",
       " <a class=\"icon flickr\" href=\"https://www.flickr.com/photos/archivobme/\" target=\"_blank\" title=\"Flickr\"></a>,\n",
       " <a class=\"icon linkedin\" href=\"https://www.linkedin.com/company/grupo-bme\" target=\"_blank\" title=\"LinkedIn\"></a>,\n",
       " <a class=\"icon youtube\" href=\"https://www.youtube.com/user/GrupoBME/\" target=\"_blank\" title=\"YouTube\"></a>,\n",
       " <a class=\"icon rss\" href=\"/bme-exchange/es/RSS\" target=\"_self\" title=\"RSS\"></a>,\n",
       " <a class=\"Contacto mover overview-btn blue\" href=\"/bme-exchange/es/Contacto#Informacion-General\">CONTACTO</a>,\n",
       " <a href=\"/esp/Home\" target=\"_blank\"><img alt=\"Logo Bolsas y Mercados Españoles\" class=\"Logo\" src=\"/bme-exchange/images/base/LogoBMEInv.svg?v=Six\"/></a>,\n",
       " <a href=\"/bme-exchange/es/Disclaimer\" target=\"_self\">Disclaimer</a>,\n",
       " <a href=\"/bme-exchange/es/privacidad/Politica-de-Privacidad\" target=\"_self\">Política de Privacidad</a>,\n",
       " <a href=\"/bme-exchange/es/Politica-de-cookies\" target=\"_self\">Política de cookies</a>,\n",
       " <a href=\"/bme-exchange/es/privacidad/Aviso-Legal\" target=\"_self\">Aviso legal</a>,\n",
       " <a href=\"/bme-exchange/es/Mapa-Web\" target=\"_self\">Mapa Web</a>]"
      ]
     },
     "execution_count": 12,
     "metadata": {},
     "output_type": "execute_result"
    }
   ],
   "source": [
    "list(soup.find_all('a'))"
   ]
  },
  {
   "cell_type": "code",
   "execution_count": 14,
   "id": "8715d826",
   "metadata": {},
   "outputs": [
    {
     "data": {
      "text/plain": [
       "[<a href=\"/bme-exchange/es/Disclaimer\" target=\"_self\">Disclaimer</a>]"
      ]
     },
     "execution_count": 14,
     "metadata": {},
     "output_type": "execute_result"
    }
   ],
   "source": [
    "list(soup.find_all('a', string = 'Disclaimer'))"
   ]
  },
  {
   "cell_type": "code",
   "execution_count": 17,
   "id": "b35c51a0",
   "metadata": {},
   "outputs": [],
   "source": [
    "# search related links \n",
    "\n",
    "links = []\n",
    "\n",
    "for link in soup.find_all('a', string= 'Disclaimer'):\n",
    "    \n",
    "    links.append(link.get('href'))"
   ]
  },
  {
   "cell_type": "code",
   "execution_count": 18,
   "id": "35b942e9",
   "metadata": {},
   "outputs": [
    {
     "data": {
      "text/plain": [
       "['/bme-exchange/es/Disclaimer']"
      ]
     },
     "execution_count": 18,
     "metadata": {},
     "output_type": "execute_result"
    }
   ],
   "source": [
    "links"
   ]
  },
  {
   "cell_type": "code",
   "execution_count": 19,
   "id": "a66860bf",
   "metadata": {},
   "outputs": [
    {
     "data": {
      "text/plain": [
       "'https://www.bolsamadrid.es/bme-exchange/es/Disclaimer'"
      ]
     },
     "execution_count": 19,
     "metadata": {},
     "output_type": "execute_result"
    }
   ],
   "source": [
    "scrap_url = url + links[0]\n",
    "\n",
    "scrap_url"
   ]
  },
  {
   "cell_type": "markdown",
   "id": "760c24c7",
   "metadata": {},
   "source": [
    "Scrap SubPage - esp/aspx/Mercados/Precios.aspx?indice=ESI100000000&punto=indice"
   ]
  },
  {
   "cell_type": "code",
   "execution_count": 23,
   "id": "9b462041",
   "metadata": {},
   "outputs": [],
   "source": [
    "soup2 = scrap_page(scrap_url)"
   ]
  },
  {
   "cell_type": "code",
   "execution_count": 24,
   "id": "d589bcbc",
   "metadata": {},
   "outputs": [
    {
     "data": {
      "text/plain": [
       "\n",
       "<!DOCTYPE html>\n",
       "\n",
       "<html lang=\"es\">\n",
       "<head data-app-path=\"/bme-exchange\" data-hora-act=\"Sat, 06 May 2023 17:01:24 GMT\" data-idioma=\"es\"><meta charset=\"utf-8\"/><meta content=\"IE=edge\" http-equiv=\"X-UA-Compatible\"/><meta content=\"width=device-width, initial-scale=1\" name=\"viewport\"/><meta content=\"text/html; charset=utf-8\" http-equiv=\"Content-Type\"/><meta content=\"La Bolsa de Madrid es una institución que canaliza el ahorro hacía la inversión productiva y facilita la movilidad de la riqueza en el desarrollo de España.\" id=\"Description\" name=\"description\"/><meta content=\"Copyright © BME 2023\" id=\"copyright\" name=\"copyright\"/><meta content=\"BME Exchange\" property=\"og:site_name\"/><meta content=\"es\" property=\"og:locale\"/><meta content=\"website\" property=\"og:type\"/><meta content=\"summary_large_image\" property=\"twitter:card\"/><meta content=\"@GrupoBME\" property=\"twitter:site\"/><meta content=\"Bolsa de Madrid | BME Exchange\" property=\"og:title\"/><meta content=\"Bolsa de Madrid | BME Exchange\" property=\"twitter:title\"/><meta content=\"La Bolsa de Madrid es una institución que canaliza el ahorro hacía la inversión productiva y facilita la movilidad de la riqueza en el desarrollo de España.\" property=\"og:description\"/><meta content=\"La Bolsa de Madrid es una institución que canaliza el ahorro hacía la inversión productiva y facilita la movilidad de la riqueza en el desarrollo de España.\" property=\"twitter:description\"/><meta content=\"https://www.bolsasymercados.es/bme-exchange/es/Bolsa-Madrid\" property=\"og:url\"/><meta content=\"https://www.bolsasymercados.es/bme-exchange/es/Bolsa-Madrid\" property=\"twitter:url\"/><meta content=\"https://www.bolsasymercados.es/bme-exchange/images/imgsSubidas/Webs_Bolsas/Bolsa-de-Madrid-BME.gif\" property=\"og:image\"/><meta content=\"https://www.bolsasymercados.es/bme-exchange/images/imgsSubidas/Webs_Bolsas/Bolsa-de-Madrid-BME.gif\" property=\"twitter:image\"/><link href=\"https://www.bolsasymercados.es/bme-exchange/es/Bolsa-Madrid\" id=\"CanonicalLink\" rel=\"canonical\"/><link href=\"https://www.bolsasymercados.es/bme-exchange/es/Bolsa-Madrid\" hreflang=\"es\" rel=\"alternate\"/><link href=\"/bme-exchange/en/Madrid-Stock-Exchange\" hreflang=\"en\" rel=\"alternate\"/><link href=\"//use.typekit.net/fag2lie.css\" rel=\"stylesheet\"/><script defer=\"\" src=\"/bme-exchange/js/Master?v=X6xj-2AlmMQtfRPQnNdB9dd66gbf1t3iVmzg-Ty14g01\"></script>\n",
       "<link href=\"/bme-exchange/css/css?v=SemdazjV3SvQk8aAWz95nsG1XFDt_x1jK3Hvk9UF7YE1\" rel=\"stylesheet\"/>\n",
       "<!-- OneTrust -->\n",
       "<script charset=\"UTF-8\" data-document-language=\"true\" data-domain-script=\"848a4ce2-ee9d-424b-8508-fbc5b12c4591\" src=\"https://cdn.cookielaw.org/scripttemplates/otSDKStub.js\" type=\"text/javascript\"></script>\n",
       "<!-- End OneTrust -->\n",
       "<!-- Google Tag Manager -->\n",
       "<script id=\"GTM\">(function(w,d,s,l,i){w[l]=[{'pageLanguage':'es','service':'bme-exchange','pagePurpose':'brand-recognition','target':'market-members,media,stake-holders,general-public-others','bussinessTopic':'listing,trading,market-prices,indices,education'}];const g=document.cookie.match(/_ga=(.+?);/);g&&w[l].push({gaClientId:g[1].split('.').slice(-2).join('.')});w[l].push({'gtm.start':new Date().getTime(),event:'gtm.js'});var f=d.getElementsByTagName(s)[0],j=d.createElement(s),dl=l!='dataLayer'?'&l='+l:'';j.async=true;j.src='https://www.googletagmanager.com/gtm.js?id='+i+dl+'';f.parentNode.insertBefore(j,f);})(window,document,'script','dataLayer','GTM-TJNWXNT');</script>\n",
       "<!-- End Google Tag Manager -->\n",
       "<title>\n",
       "\tBolsa de Madrid | BME Exchange\n",
       "</title></head>\n",
       "<body id=\"se_top\">\n",
       "<!-- Google Tag Manager (noscript) -->\n",
       "<noscript><iframe height=\"0\" src=\"https://www.googletagmanager.com/ns.html?id=GTM-TJNWXNT\" style=\"display:none;visibility:hidden\" width=\"0\"></iframe></noscript>\n",
       "<!-- End Google Tag Manager (noscript) -->\n",
       "<svg class=\"hidden\" xmlns=\"http://www.w3.org/2000/svg\"><symbol height=\"40\" id=\"cross-icon\" viewbox=\"0 0 40 40\" width=\"40\"><g transform=\"translate(11 11)\"><line class=\"a\" x1=\"18\" y2=\"18\"></line><line class=\"a\" transform=\"translate(18 0) rotate(90)\" x1=\"18\" y2=\"18\"></line></g><g><circle class=\"b\" cx=\"20\" cy=\"20\" r=\"18\"></circle></g></symbol><symbol height=\"28\" id=\"search-icon\" viewbox=\"0 0 18.2 28\" width=\"18.2\"><g transform=\"translate(0 5)\"><circle class=\"c\" cx=\"8\" cy=\"8\" r=\"7.2\"></circle><line class=\"c\" x1=\"13.8\" x2=\"16.5\" y1=\"13.8\" y2=\"16.5\"></line></g></symbol><symbol height=\"28\" id=\"private-icon\" viewbox=\"0 0 15.3 28\" width=\"15.3\"><g transform=\"translate(0 5)\"><path class=\"c\" d=\"M1.3,9.2c0-0.8,0.7-1.5,1.5-1.5h10c0.8,0,1.5,0.7,1.5,1.5v6.4c0,0.8-0.7,1.5-1.5,1.5h-10 c-0.8,0-1.5-0.7-1.5-1.5V9.2z M3.3,6.3V4.4C3.3,2,5.3,0,7.7,0c2.4,0,4.4,2,4.4,4.4v1.9\"></path><line class=\"c\" x1=\"7.7\" x2=\"7.7\" y1=\"10.2\" y2=\"15.1\"></line></g></symbol><symbol height=\"28\" id=\"mail-icon\" viewbox=\"0 0 21 28\" width=\"21\"><g transform=\"translate(0 5)\"><rect class=\"c\" height=\"13.5\" width=\"19.5\" x=\"0.8\" y=\"2.8\"></rect><path class=\"c\" d=\"M1.2,3l9.4,8.6l9.3-8.9L1.2,3z\"></path></g></symbol></svg>\n",
       "<a href=\"#main-content\" id=\"skip-nav-link\" tabindex=\"1\">Saltar Navegación</a>\n",
       "<header id=\"Cabecera\">\n",
       "<nav aria-label=\"Navegación web corporativa\" class=\"hidden-print\" role=\"navigation\">\n",
       "<div class=\"corporate-web collapse\" id=\"corporate-web-menu\"><div class=\"container\"><div class=\"row\">\n",
       "<div>\n",
       "<a class=\"bme-brand\" href=\"/esp/Home\" tabindex=\"8\" target=\"_blank\" title=\"Web Corporativa BME\">\n",
       "<img alt=\"Logo BME\" aria-hidden=\"true\" src=\"/bme-exchange/images/base/Logo.svg\"/>\n",
       "<span class=\"corporate-web-btn\">Web Corporativa<span class=\"glyphicon glyphicon-menu-right\"></span></span>\n",
       "</a>\n",
       "<ul class=\"nav navbar-nav bme-menu\">\n",
       "<li><a href=\"/esp/Sobre-BME\" tabindex=\"9\" target=\"_blank\">Sobre<br/>BME</a></li><li><a href=\"/esp/Informacion-Corporativa\" tabindex=\"10\" target=\"_blank\">Información<br/>Corporativa</a></li><li><a href=\"/esp/Sala-Comunicacion\" tabindex=\"11\" target=\"_blank\">Sala de<br/>Comunicación</a></li><li><a href=\"/esp/Estudios-Publicaciones\" tabindex=\"12\" target=\"_blank\">Publicaciones y<br/>Estadísticas</a></li><li><a href=\"/esp/Sostenibilidad\" tabindex=\"13\" target=\"_blank\">Sostenibilidad</a></li><li><a href=\"/esp/Formacion\" tabindex=\"14\" target=\"_blank\">Formación<br/>Instituto BME</a></li>\n",
       "</ul>\n",
       "<a class=\"bme-close\" data-toggle=\"collapse\" href=\"#corporate-web-menu\" role=\"button\">\n",
       "<svg height=\"40\" viewbox=\"0 0 40 40\" width=\"40\"><use href=\"#cross-icon\" xlink:href=\"cross-icon\"></use></svg>\n",
       "<span class=\"sr-only\">Cerrar</span>\n",
       "</a>\n",
       "</div>\n",
       "<div class=\"flecha-dropdown\"><div></div><div></div></div>\n",
       "</div></div></div>\n",
       "</nav>\n",
       "<nav aria-label=\"Navegación principal\" class=\"navbar\" id=\"menu-superior\" role=\"navigation\"><div class=\"container\">\n",
       "<div class=\"navbar-header\">\n",
       "<a class=\"navbar-brand\" href=\"/bme-exchange/es/Home\" tabindex=\"2\" target=\"_self\" title=\"BME Exchange\">\n",
       "<img alt=\"BME Logo\" aria-hidden=\"true\" src=\"/bme-exchange/images/base/Logo.svg\"/>\n",
       "</a>\n",
       "<strong class=\"navbar-claim\">La Bolsa es ahora BME Exchange</strong>\n",
       "<ul class=\"nav navbar-nav navbar-right icon-menu-superior hidden-print\" id=\"top-menu-movil\">\n",
       "<li class=\"btn-return\">\n",
       "<button id=\"btn-return-main\" role=\"button\" type=\"button\">Menú Principal</button>\n",
       "</li>\n",
       "<li class=\"btn-menu\">\n",
       "<button aria-expanded=\"false\" class=\"collapsed\" data-target=\"#navbar-menu\" data-toggle=\"collapse\" role=\"button\" type=\"button\">\n",
       "<span class=\"icon-bar\"></span>\n",
       "<span class=\"icon-bar\"></span>\n",
       "<span class=\"icon-bar\"></span>\n",
       "</button>\n",
       "</li>\n",
       "<li class=\"btn-icon dropdown\">\n",
       "<a data-toggle=\"dropdown\" href=\"#\" role=\"button\" tabindex=\"3\">\n",
       "<svg height=\"28\" viewbox=\"0 0 18.2 28\" width=\"18.2\"><use href=\"#search-icon\" xlink:href=\"search-icon\"></use></svg>\n",
       "<span class=\"sr-only\">Buscador</span>\n",
       "</a>\n",
       "<div class=\"header-popover\" id=\"search\">\n",
       "<div class=\"header-popover-flecha\"><div></div><div></div></div>\n",
       "<div class=\"header-popover-title\">\n",
       "<svg height=\"28\" viewbox=\"0 0 18.2 28\" width=\"18.2\"><use href=\"#search-icon\" xlink:href=\"search-icon\"></use></svg>\n",
       "<span>BUSCADOR</span>\n",
       "</div>\n",
       "<div class=\"header-popover-line\">\n",
       "<form action=\"/bme-exchange/es/Buscar\" aria-label=\"\" role=\"search\">\n",
       "<label for=\"search-text\">BUSCAR</label>\n",
       "<div class=\"form-group\">\n",
       "<input autocomplete=\"off\" class=\"form-control\" id=\"search-text\" name=\"q\" placeholder=\"Introducir texto a buscar\" type=\"text\"/>\n",
       "<button class=\"header-popover-btn\" type=\"submit\"><span>Buscar</span><span class=\"glyphicon glyphicon-menu-right\"></span></button>\n",
       "</div>\n",
       "</form>\n",
       "</div>\n",
       "<div class=\"header-popover-line\">\n",
       "<form action=\"/bme-exchange/es/Mercados-y-Cotizaciones/Acciones/Mercado-Continuo/Busqueda-Empresas\" aria-label=\"\" role=\"search\">\n",
       "<label for=\"search-company\">BUSCADOR DE EMPRESAS</label>\n",
       "<div class=\"form-group\">\n",
       "<input aria-label=\"Introducir nombre, ISIN o ticker a buscar\" autocomplete=\"off\" class=\"form-control\" data-apì=\"https://www.bolsasymercados.es/API/Market\" data-url=\"/bme-exchange/\" id=\"search-company\" name=\"q\" placeholder=\"Nombre / ISIN / Ticker\" type=\"text\"/>\n",
       "<button class=\"header-popover-btn\" type=\"submit\"><span>Buscar</span><span class=\"glyphicon glyphicon-menu-right\"></span></button>\n",
       "</div>\n",
       "</form>\n",
       "</div>\n",
       "</div>\n",
       "</li>\n",
       "<li class=\"btn-icon dropdown\">\n",
       "<a data-toggle=\"dropdown\" href=\"#\" role=\"button\" tabindex=\"4\">\n",
       "<svg height=\"28\" viewbox=\"0 0 15.3 28\" width=\"15.3\"><use href=\"#private-icon\" xlink:href=\"private-icon\"></use></svg>\n",
       "<span class=\"sr-only\">Áreas Privadas</span>\n",
       "</a>\n",
       "<div class=\"header-popover\" id=\"private\">\n",
       "<div class=\"header-popover-flecha\"><div></div><div></div></div>\n",
       "<div class=\"header-popover-title\">\n",
       "<svg height=\"28\" viewbox=\"0 0 15.3 28\" width=\"15.3\"><use href=\"#private-icon\" xlink:href=\"private-icon\"></use></svg>\n",
       "<span>ÁREAS PRIVADAS</span>\n",
       "</div>\n",
       "<div class=\"header-popover-line header-popover-login-line\"><label>MIEMBROS RENTA VARIABLE</label><a class=\"header-popover-btn\" href=\"https://privada.bmerv.es/\" target=\"_blank\">Login<span class=\"glyphicon glyphicon-menu-right\"></span></a></div><div class=\"header-popover-line header-popover-login-line\"><label>BME GROWTH</label><a class=\"header-popover-btn\" href=\"https://www.bmegrowth.es/Privado/LogIn.aspx\" target=\"_blank\">Login<span class=\"glyphicon glyphicon-menu-right\"></span></a></div><div class=\"header-popover-line header-popover-login-line\"><label>MIEMBROS RENTA FIJA</label><a class=\"header-popover-btn\" href=\"https://ww2.aiaf.es/\" target=\"_blank\">Login<span class=\"glyphicon glyphicon-menu-right\"></span></a></div>\n",
       "</div>\n",
       "</li>\n",
       "<li class=\"btn-icon\">\n",
       "<a href=\"/bme-exchange/es/Contacto#Informacion-General\" tabindex=\"5\">\n",
       "<svg height=\"28\" viewbox=\"0 0 21 28\" width=\"21\"><use href=\"#mail-icon\" xlink:href=\"mail-icon\"></use></svg>\n",
       "<span class=\"sr-only\">Contacto</span>\n",
       "</a>\n",
       "</li>\n",
       "<li class=\"btn-language\">\n",
       "<span aria-hidden=\"true\" class=\"language-anchor\"> ES </span><b class=\"language-anchor\">|</b><a class=\"language-anchor\" href=\"/bme-exchange/en/Madrid-Stock-Exchange\" hreflang=\"en\" tabindex=\"6\"><span aria-hidden=\"true\"><strong> EN </strong></span><span class=\"sr-only\">English</span></a>\n",
       "</li>\n",
       "<li class=\"hidden-xs corporate-web-btn\">\n",
       "<a class=\"collapsed\" data-toggle=\"collapse\" href=\"#corporate-web-menu\" role=\"button\" tabindex=\"8\">\n",
       "<span><img alt=\"Logo BME\" aria-hidden=\"true\" src=\"/bme-exchange/images/base/FlechaBME.svg\"/></span>\n",
       "<span>BME<br/>CORPORATE</span>\n",
       "</a>\n",
       "</li>\n",
       "<li class=\"btn-menu-close\">\n",
       "<button id=\"close-menu\" role=\"button\" type=\"button\">\n",
       "<svg height=\"40\" viewbox=\"0 0 40 40\" width=\"40\"><use href=\"#cross-icon\" xlink:href=\"cross-icon\"></use></svg>\n",
       "<span class=\"sr-only\">Cerrar</span>\n",
       "</button>\n",
       "</li>\n",
       "</ul>\n",
       "</div>\n",
       "<div class=\"navbar-header hidden-print\">\n",
       "<ul class=\"nav navbar-nav collapse navbar-collapse op-menu-superior yamm\" id=\"navbar-menu\">\n",
       "<li class=\"dropdown\"><a aria-expanded=\"false\" aria-haspopup=\"true\" class=\"dropdown-toggle\" data-toggle=\"dropdown\" href=\"/bme-exchange/es/Como-Cotizar\" role=\"button\">Cotizar</a><div class=\"flecha-dropdown\"><div></div><div></div></div><ul class=\"dropdown-menu\"><li class=\"container-fluid\"><div class=\"row\"><a class=\"col-sm-12 dropdown-overview\" href=\"/bme-exchange/es/Como-Cotizar\" target=\"_self\"><span class=\"menu-overview-title\">Cotizar</span><span class=\"menu-overview-btn\">Descubre más<span class=\"glyphicon glyphicon-menu-right\"></span></span><span class=\"menu-overview-claim\">Financia tus ambiciones de crecimiento</span></a></div><div class=\"row menu-options\"><div class=\"col-sm-2\"><ul class=\"menu-list\"><li><a aria-expanded=\"false\" class=\"visible-xs-block collapsed\" data-toggle=\"collapse\" href=\"#menu24\">Acciones</a><div class=\"collapse mobile-menu-2\" id=\"menu24\"><div class=\"btn-return-2lv\"><button data-target=\"#menu24\" data-toggle=\"collapse\" role=\"button\" type=\"button\">Cotizar</button></div><a class=\"\" href=\"/bme-exchange/es/Como-Cotizar/Cotizar-en-Bolsa\" target=\"_self\">Acciones</a><ul><li><a class=\"\" href=\"/bme-exchange/es/Como-Cotizar/Bolsa/Como-salir-a-Bolsa\" target=\"_self\">Cotizar en Bolsa</a></li><li><a class=\"\" href=\"/bme-exchange/es/Como-Cotizar/Bolsa/BME-Growth\" target=\"_self\">Cotizar en BME Growth</a></li><li><a class=\"\" href=\"/bme-exchange/es/Como-Cotizar/Bolsa/Latibex\" target=\"_self\">Cotizar en Latibex</a></li></ul></div></li></ul></div><div class=\"col-sm-2\"><ul class=\"menu-list\"><li><a aria-expanded=\"false\" class=\"visible-xs-block collapsed\" data-toggle=\"collapse\" href=\"#menu28\">Renta Fija</a><div class=\"collapse mobile-menu-2\" id=\"menu28\"><div class=\"btn-return-2lv\"><button data-target=\"#menu28\" data-toggle=\"collapse\" role=\"button\" type=\"button\">Cotizar</button></div><a class=\"\" href=\"/bme-exchange/es/Como-Cotizar/Renta-Fija\" target=\"_self\">Renta Fija</a><ul><li><a class=\"\" href=\"/bme-exchange/es/Como-Cotizar/Renta-Fija/AIAF\" target=\"_self\">Mercados Regulados - AIAF</a></li><li><a class=\"\" href=\"/bme-exchange/es/Como-Cotizar/Renta-Fija/MARF\" target=\"_self\">Mercado Alternativo - MARF</a></li></ul></div></li></ul></div><div class=\"col-sm-2\"><ul class=\"menu-list\"><li><a class=\"\" href=\"/bme-exchange/es/Como-Cotizar/ETFs\" target=\"_self\">ETFs</a></li></ul></div><div class=\"col-sm-2\"><ul class=\"menu-list\"><li><a class=\"\" href=\"/bme-exchange/es/Como-Cotizar/Warrants\" target=\"_self\">Warrants</a></li></ul></div><div class=\"col-sm-2\"><ul class=\"menu-list\"><li><a class=\"\" href=\"https://www.meff.es/esp/Sobre-Nosotros/Empresa-MEFF\" target=\"_blank\">Derivados</a></li></ul></div><div class=\"col-sm-2\"><ul class=\"menu-list\"><li><a class=\"\" href=\"https://www.bolsasymercados.es/BME_4Companies/esp/Home\" target=\"_blank\">Servicios para Emisores</a></li></ul></div></div></li></ul></li><li class=\"dropdown\"><a aria-expanded=\"false\" aria-haspopup=\"true\" class=\"dropdown-toggle\" data-toggle=\"dropdown\" href=\"/bme-exchange/es/Negociar\" role=\"button\">Negociar</a><div class=\"flecha-dropdown\"><div></div><div></div></div><ul class=\"dropdown-menu\"><li class=\"container-fluid\"><div class=\"row\"><a class=\"col-sm-12 dropdown-overview\" href=\"/bme-exchange/es/Negociar\" target=\"_self\"><span class=\"menu-overview-title\">Negociar</span><span class=\"menu-overview-btn\">Descubre más<span class=\"glyphicon glyphicon-menu-right\"></span></span><span class=\"menu-overview-claim\">Calidad de mercado en la que confiar</span></a></div><div class=\"row menu-options\"><div class=\"col-sm-2\"><ul class=\"menu-list\"><li><a aria-expanded=\"false\" class=\"visible-xs-block collapsed\" data-toggle=\"collapse\" href=\"#menu42\">Mercados</a><div class=\"collapse mobile-menu-2\" id=\"menu42\"><div class=\"btn-return-2lv\"><button data-target=\"#menu42\" data-toggle=\"collapse\" role=\"button\" type=\"button\">Negociar</button></div><a class=\"\" href=\"/bme-exchange/es/Negociar/Mercados\" target=\"_self\">Mercados</a><ul><li><a class=\"\" href=\"/bme-exchange/es/Negociar/Mercados/Renta-Variable\" target=\"_self\">Acciones</a></li><li><a class=\"\" href=\"/bme-exchange/es/Negociar/Mercados/Renta-Fija\" target=\"_self\">Renta Fija</a></li><li><a class=\"\" href=\"/bme-exchange/es/Negociar/Mercados/ETFs\" target=\"_self\">ETFs</a></li><li><a class=\"\" href=\"/bme-exchange/es/Negociar/Mercados/Warrants\" target=\"_self\">Warrants</a></li><li><a class=\"\" href=\"/bme-exchange/es/Negociar/Mercados/Derivados\" target=\"_self\">Derivados</a></li></ul></div></li></ul></div><div class=\"col-sm-2\"><ul class=\"menu-list\"><li><a aria-expanded=\"false\" class=\"visible-xs-block collapsed\" data-toggle=\"collapse\" href=\"#menu63\">Participantes de Mercado</a><div class=\"collapse mobile-menu-2\" id=\"menu63\"><div class=\"btn-return-2lv\"><button data-target=\"#menu63\" data-toggle=\"collapse\" role=\"button\" type=\"button\">Negociar</button></div><a class=\"\" href=\"/bme-exchange/es/Negociar/Participantes-y-Miembros-de-Mercado\" target=\"_self\">Participantes de Mercado</a><ul><li><a class=\"\" href=\"/bme-exchange/es/Negociar/Participantes/Listado-de-Participantes-y-Miembros-de-Mercado\" target=\"_self\">Miembros</a></li><li><a class=\"\" href=\"/bme-exchange/es/Negociar/Participantes/Servicios-para-Participantes\" target=\"_self\">Servicios para Participantes</a></li></ul></div></li></ul></div><div class=\"col-sm-2\"><ul class=\"menu-list\"><li><a aria-expanded=\"false\" class=\"visible-xs-block collapsed\" data-toggle=\"collapse\" href=\"#menu75\">Plataforma de Negociación</a><div class=\"collapse mobile-menu-2\" id=\"menu75\"><div class=\"btn-return-2lv\"><button data-target=\"#menu75\" data-toggle=\"collapse\" role=\"button\" type=\"button\">Negociar</button></div><a class=\"\" href=\"/bme-exchange/es/Negociar/Plataforma-de-Negociacion\" target=\"_self\">Plataforma de Negociación</a><ul><li><a class=\"\" href=\"/bme-exchange/es/Negociar/Plataforma-de-Negociacion/SIBE-SMART-Acciones\" target=\"_self\">SIBE SMART (Acciones - Warrants - ETFs)</a></li><li><a class=\"\" href=\"/bme-exchange/es/Negociar/Plataforma-de-Negociacion/SEND-SENAF\" target=\"_self\">SEND - SENAF (Renta Fija)</a></li><li><a class=\"\" href=\"https://www.meff.es/esp/Tecnologia/Formas-Conexion\" target=\"_blank\">MEFF-SMART (Derivados)</a></li></ul></div></li></ul></div></div></li></ul></li><li class=\"dropdown\"><a aria-expanded=\"false\" aria-haspopup=\"true\" class=\"dropdown-toggle\" data-toggle=\"dropdown\" href=\"/bme-exchange/es/Indices\" role=\"button\">Índices</a><div class=\"flecha-dropdown\"><div></div><div></div></div><ul class=\"dropdown-menu\"><li class=\"container-fluid\"><div class=\"row\"><a class=\"col-sm-12 dropdown-overview\" href=\"/bme-exchange/es/Indices\" target=\"_self\"><span class=\"menu-overview-title\">Índices</span><span class=\"menu-overview-btn\">Descubre más<span class=\"glyphicon glyphicon-menu-right\"></span></span><span class=\"menu-overview-claim\">Índices de BME. Las principales referencias de los mercados españoles</span></a></div><div class=\"row menu-options\"><div class=\"col-sm-2\"><ul class=\"menu-list\"><li><a class=\"\" href=\"/bme-exchange/es/Indices/Resumen\" target=\"_self\">Resumen de Índices</a></li></ul><ul class=\"menu-list\"><li><a class=\"\" href=\"/bme-exchange/es/Indices/Avisos\" target=\"_self\">Avisos</a></li></ul><ul class=\"menu-list\"><li><a class=\"\" href=\"/bme-exchange/es/Indices/Regulacion\" target=\"_self\">Regulación Índices</a></li></ul><ul class=\"menu-list\"><li><a class=\"\" href=\"/bme-exchange/es/Indices/Comite-Asesor-Tecnico/Comite-Asesor-Tecnico\" target=\"_self\">Comité Asesor Técnico</a></li></ul></div><div class=\"col-sm-2\"><ul class=\"menu-list\"><li><a class=\"\" href=\"/bme-exchange/es/Indices/Ibex\" target=\"_self\">Índices IBEX</a></li></ul></div><div class=\"col-sm-2\"><ul class=\"menu-list\"><li><a class=\"\" href=\"/bme-exchange/es/indices/ESG\" target=\"_self\">Índices ESG</a></li></ul></div><div class=\"col-sm-2\"><ul class=\"menu-list\"><li><a class=\"\" href=\"/bme-exchange/es/Indices/Bolsas\" target=\"_self\">Índices Bolsas</a></li></ul></div><div class=\"col-sm-2\"><ul class=\"menu-list\"><li><a class=\"\" href=\"/bme-exchange/es/Indices/Latibex\" target=\"_self\">Índices Latibex</a></li></ul></div><div class=\"col-sm-2\"><ul class=\"menu-list\"><li><a class=\"\" href=\"/bme-exchange/es/Indices/Renta-Fija\" target=\"_self\">Índices Renta Fija</a></li></ul></div></div></li></ul></li><li class=\"dropdown\"><a aria-expanded=\"false\" aria-haspopup=\"true\" class=\"dropdown-toggle\" data-toggle=\"dropdown\" href=\"/bme-exchange/es/Mercados-y-Cotizaciones\" role=\"button\">Mercados y Cotizaciones</a><div class=\"flecha-dropdown\"><div></div><div></div></div><ul class=\"dropdown-menu\"><li class=\"container-fluid\"><div class=\"row\"><a class=\"col-sm-12 dropdown-overview\" href=\"/bme-exchange/es/Mercados-y-Cotizaciones\" target=\"_self\"><span class=\"menu-overview-title\">Mercados y Cotizaciones</span><span class=\"menu-overview-btn\">Descubre más<span class=\"glyphicon glyphicon-menu-right\"></span></span><span class=\"menu-overview-claim\">La clave para el éxito de cualquier decisión de inversión</span></a></div><div class=\"row menu-options\"><div class=\"col-sm-2\"><ul class=\"menu-list\"><li><a aria-expanded=\"false\" class=\"visible-xs-block collapsed\" data-toggle=\"collapse\" href=\"#menu135\">Acciones</a><div class=\"collapse mobile-menu-2\" id=\"menu135\"><div class=\"btn-return-2lv\"><button data-target=\"#menu135\" data-toggle=\"collapse\" role=\"button\" type=\"button\">Mercados y Cotizaciones</button></div><a class=\"\" href=\"/bme-exchange/es/Mercados-y-Cotizaciones/Acciones/Mercado-Continuo/Precios/ibex-35-ES0SI0000005\" target=\"_self\">Acciones</a><ul><li><span>Mercado Principal</span><ul><li><a class=\"\" href=\"/bme-exchange/es/Mercados-y-Cotizaciones/Acciones/Mercado-Continuo/Precios/ibex-35-ES0SI0000005\" target=\"_self\">Precios</a></li><li><a class=\"\" href=\"/bme-exchange/es/Mercados-y-Cotizaciones/Acciones/Mercado-Continuo/Empresas-Cotizadas\" target=\"_self\">Empresas Cotizadas</a></li><li><a class=\"\" href=\"/bme-exchange/es/Mercados-y-Cotizaciones/Acciones/Mercado-Continuo/Ultima-Informacion-Privilegiada\" target=\"_self\">Información Privilegiada/Otra información relevante</a></li><li><a class=\"\" href=\"/bme-exchange/es/Mercados-y-Cotizaciones/Acciones/Mercado-Continuo/Operaciones-Financieras/Dividendos\" target=\"_self\">Operaciones Financieras</a></li></ul></li><li><a class=\"\" href=\"https://www.latibex.com/esp/Cotizaciones/Acciones\" target=\"_blank\">Latibex</a></li><li><a class=\"\" href=\"https://www.bmegrowth.es/esp/Precios.aspx\" target=\"_blank\">BME Growth</a></li><li><a class=\"\" href=\"https://www.bolsasymercados.es/MTF_Equity/esp/SICAV/Precios.aspx?mercado=ValorLiquidativo\" target=\"_blank\">BME MTF Equity</a></li><li><span>Herramientas</span><ul><li><a class=\"\" href=\"/bme-exchange/es/Mercados-y-Cotizaciones/Acciones/Analisis-y-Herramientas/Analisis-de-empresas/Lighthouse\" target=\"_self\">Análisis Lighthouse Acciones</a></li><li><a class=\"\" href=\"/bme-exchange/es/Mercados-y-Cotizaciones/Acciones/Analisis-y-Herramientas/Analisis-de-empresas/Morningstar/ibex-Medium\" target=\"_self\">Analisis Morningstar Acciones</a></li><li><a class=\"\" href=\"/bme-exchange/es/Negociar/Agenda\" target=\"_self\">Agenda del Inversor</a></li><li><a class=\"\" href=\"/bme-exchange/es/Mercados-y-Cotizaciones/Acciones/Analisis-y-Herramientas/Mi-Cartera\" target=\"_self\">Mi Cartera</a></li></ul></li></ul></div></li></ul></div><div class=\"col-sm-2\"><ul class=\"menu-list\"><li><a aria-expanded=\"false\" class=\"visible-xs-block collapsed\" data-toggle=\"collapse\" href=\"#menu206\">Renta Fija</a><div class=\"collapse mobile-menu-2\" id=\"menu206\"><div class=\"btn-return-2lv\"><button data-target=\"#menu206\" data-toggle=\"collapse\" role=\"button\" type=\"button\">Mercados y Cotizaciones</button></div><a class=\"\" href=\"/bme-exchange/es/Mercados-y-Cotizaciones/Renta-Fija/Precios/AIAF-SEND-Deuda-Publica\" target=\"_self\">Renta Fija</a><ul><li><a class=\"\" href=\"/bme-exchange/es/Mercados-y-Cotizaciones/Renta-Fija/Precios/AIAF-SEND-Deuda-Publica\" target=\"_self\">Precios</a></li><li><a class=\"\" href=\"/bme-exchange/es/Mercados-y-Cotizaciones/Renta-Fija/Emisiones-En-Circulacion\" target=\"_self\">Emisiones en circulación</a></li><li><a class=\"\" href=\"/bme-exchange/es/Mercados-y-Cotizaciones/Renta-Fija/Listado-de-Emisores\" target=\"_self\">Emisores</a></li><li><a class=\"\" href=\"/bme-exchange/es/Mercados-y-Cotizaciones/Renta-Fija/Admision-a-Cotizar/Ultimos-Desembolsos\" target=\"_self\">Admisiones a Cotización</a></li><li><a class=\"\" href=\"/bme-exchange/es/Mercados-y-Cotizaciones/Renta-Fija/Anuncios\" target=\"_self\">Anuncios emisiones</a></li><li><a class=\"\" href=\"/bme-exchange/es/Mercados-y-Cotizaciones/Renta-Fija/Noticias\" target=\"_self\">Noticias</a></li><li><a class=\"\" href=\"/bme-exchange/es/Mercados-y-Cotizaciones/Renta-Fija/MARF-Hechos-Relevantes\" target=\"_self\">MARF Hechos Relevantes</a></li><li><a class=\"\" href=\"/bme-exchange/es/Mercados-y-Cotizaciones/Renta-Fija/MARF-Informacion-Financiera\" target=\"_self\">MARF Información Financiera</a></li></ul></div></li></ul></div><div class=\"col-sm-2\"><ul class=\"menu-list\"><li><a aria-expanded=\"false\" class=\"visible-xs-block collapsed\" data-toggle=\"collapse\" href=\"#menu238\">ETFs</a><div class=\"collapse mobile-menu-2\" id=\"menu238\"><div class=\"btn-return-2lv\"><button data-target=\"#menu238\" data-toggle=\"collapse\" role=\"button\" type=\"button\">Mercados y Cotizaciones</button></div><a class=\"\" href=\"/bme-exchange/es/Mercados-y-Cotizaciones/ETFs/Cotizaciones\" target=\"_self\">ETFs</a><ul><li><a class=\"\" href=\"/bme-exchange/es/Mercados-y-Cotizaciones/ETFs/Cotizaciones\" target=\"_self\">Cotizaciones</a></li><li><a class=\"\" href=\"/bme-exchange/es/Mercados-y-Cotizaciones/ETFs/Cierre-Mercado\" target=\"_self\">Cierre de mercado</a></li><li><a class=\"\" href=\"/bme-exchange/es/Mercados-y-Cotizaciones/ETFs/Dividendos\" target=\"_self\">Dividendos</a></li><li><a class=\"\" href=\"/bme-exchange/es/Mercados-y-Cotizaciones/ETFs/Hechos-Relevantes\" target=\"_self\">Hechos Relevantes</a></li><li><a class=\"\" href=\"/bme-exchange/es/Mercados-y-Cotizaciones/ETFs/Herramientas/Mi-Cartera-de-ETFs?m=ETF\" target=\"_self\">Mi Cartera ETF</a></li></ul></div></li></ul></div><div class=\"col-sm-2\"><ul class=\"menu-list\"><li><a aria-expanded=\"false\" class=\"visible-xs-block collapsed\" data-toggle=\"collapse\" href=\"#menu247\">Warrants</a><div class=\"collapse mobile-menu-2\" id=\"menu247\"><div class=\"btn-return-2lv\"><button data-target=\"#menu247\" data-toggle=\"collapse\" role=\"button\" type=\"button\">Mercados y Cotizaciones</button></div><a class=\"\" href=\"/bme-exchange/es/Mercados-y-Cotizaciones/Warrants/Precios/Warrants\" target=\"_self\">Warrants</a><ul><li><a class=\"\" href=\"/bme-exchange/es/Mercados-y-Cotizaciones/Warrants/Precios/Warrants\" target=\"_self\">Cotizaciones</a></li><li><a class=\"\" href=\"/bme-exchange/es/Mercados-y-Cotizaciones/Warrants/Informes\" target=\"_self\">Informes</a></li><li><a class=\"\" href=\"/bme-exchange/es/Mercados-y-Cotizaciones/Warrants/Listado-de-valores\" target=\"_self\">Listado de valores</a></li><li><a class=\"\" href=\"/bme-exchange/es/Mercados-y-Cotizaciones/Warrants/Ajustes-Operaciones-Financieras\" target=\"_self\">Ajustes por Operaciones Financieras</a></li><li><a class=\"\" href=\"/bme-exchange/es/Mercados-y-Cotizaciones/Warrants/Admisiones\" target=\"_self\">Admisiones</a></li></ul></div></li></ul></div><div class=\"col-sm-2\"><ul class=\"menu-list\"><li><a class=\"\" href=\"https://www.meff.es/esp/Derivados-Financieros/Cotizaciones\" target=\"_blank\">Derivados</a></li></ul></div><div class=\"col-sm-2\"><ul class=\"menu-list\"><li><a class=\"\" href=\"/bme-exchange/es/Mercados-y-Cotizaciones/Estadisticas\" target=\"_self\">Estadísticas</a></li></ul><ul class=\"menu-list\"><li><a class=\"\" href=\"https://www.bmemarketdata.es/esp/\" target=\"_blank\">Market Data</a></li></ul></div></div></li></ul></li><li><a class=\"\" href=\"/bme-exchange/es/Regulacion/Buscador-Regulacion\" target=\"_self\">Regulación</a></li><li class=\"dropdown\"><a aria-expanded=\"false\" aria-haspopup=\"true\" class=\"dropdown-toggle\" data-toggle=\"dropdown\" href=\"/bme-exchange/es/Para-Inversores\" role=\"button\">Para inversores</a><div class=\"flecha-dropdown\"><div></div><div></div></div><ul class=\"dropdown-menu\"><li class=\"container-fluid\"><div class=\"row\"><a class=\"col-sm-12 dropdown-overview\" href=\"/bme-exchange/es/Para-Inversores\" target=\"_self\"><span class=\"menu-overview-title\">Para inversores</span><span class=\"menu-overview-btn\">Descubre más<span class=\"glyphicon glyphicon-menu-right\"></span></span><span class=\"menu-overview-claim\">Tecnología e innovación al servicio de los inversores</span></a></div><div class=\"row menu-options\"><div class=\"col-sm-2\"><ul class=\"menu-list\"><li><a class=\"\" href=\"/bme-exchange/es/Para-Inversores/Institucionales\" target=\"_self\">Institucionales</a></li></ul></div><div class=\"col-sm-2\"><ul class=\"menu-list\"><li><a class=\"\" href=\"/bme-exchange/es/Para-Inversores/Minoristas\" target=\"_self\">Minoristas</a></li></ul></div></div></li></ul></li><li><a class=\"\" href=\"/bme-exchange/es/Formacion\" target=\"_self\">Formación</a></li>\n",
       "<li class=\"bme-brand\">\n",
       "<a href=\"/esp/Home\" target=\"_blank\" title=\"Web Corporativa BME\">\n",
       "<img alt=\"Logo BME\" aria-hidden=\"true\" src=\"/bme-exchange/images/base/LogoBMEInv.svg\"/>\n",
       "<span class=\"corporate-web-btn\">Web Corporativa<span class=\"glyphicon glyphicon-menu-right\"></span></span>\n",
       "</a>\n",
       "</li>\n",
       "</ul>\n",
       "</div>\n",
       "</div></nav>\n",
       "</header>\n",
       "<div class=\"overview-header\"><img alt=\"Imagen de fondo\" aria-hidden=\"true\" class=\"overview-background-img\" src=\"/bme-exchange/images/imgsSubidas/Webs_Bolsas/Bolsa-de-Madrid-BME.gif\"/><div class=\"stock-exchange-logo\"><div class=\"se-logo-prev\"></div><div class=\"se-logo\"><img src=\"/bme-exchange/images/Logos/logo_BMadrid_negativo.svg\"/></div><div class=\"se-logo-next\"></div></div></div><div class=\"stock-exchange-title\"><div class=\"container\"><div class=\"row\"><div class=\"col-sm-12\"><h1>Bolsa de Madrid</h1></div></div></div></div>\n",
       "<div class=\"container\"><div class=\"row\"><div class=\"col-sm-12\">\n",
       "<ol class=\"breadcrumb hidden-print\" id=\"breadcrumbs\"><li><a href=\"/bme-exchange/es/Home\" target=\"_self\">Home</a></li><li class=\"active\"><a href=\"/bme-exchange/es/Bolsa-Madrid\" target=\"_self\">Bolsa de Madrid</a></li></ol>\n",
       "<script type=\"application/ld+json\">{\"@context\": \"http://schema.org\",\"@type\": \"BreadcrumbList\",\"itemListElement\":[{\"@type\": \"ListItem\",\"position\": 1,\"item\":{\"@id\": \"https://www.bolsasymercados.es/bme-exchange/es/Home\",\"name\": \"Home\"}},{\"@type\": \"ListItem\",\"position\": 2,\"item\":{\"@id\": \"https://www.bolsasymercados.es/bme-exchange/es/Bolsa-Madrid\",\"name\": \"Bolsa de Madrid\"}}]}</script>\n",
       "</div></div></div>\n",
       "<div class=\"container\"><div class=\"row\"><div class=\"col-sm-12\">\n",
       "</div></div></div>\n",
       "<div class=\"Contenido\">\n",
       "</div>\n",
       "<main class=\"Contenido\" id=\"main-content\">\n",
       "<section>\n",
       "<div class=\"container\"><div class=\"row\"><div class=\"col-sm-12 overview-intro\">\n",
       "<div><p style=\"text-align: justify;\">La Bolsa de Madrid fue creada en 1831, hace más de 190 años, lo que la convierte en una de las instituciones financieras más antiguas de España. A lo largo de su dilatada historia, la Bolsa de Madrid ha jugado un papel decisivo en la historia de España, sorteando largos ciclos industriales y económicos de auge con otros caracterizados por las crisis y las caídas, pero actuando siempre como un auténtico barómetro de la evolución económica de España. La Bolsa de Madrid ha jugado un rol crucial en el desarrollo de España y de su economía, ya que canaliza el ahorro hacia la inversión productiva y ayuda a la generación de riqueza. Como mercado secundario, la Bolsa ofrece a los inversores la oportunidad de convertir sus acciones en efectivo cuando lo deseen. La liquidez, como uno de los principales atributos de cualquier mercado, permite realizar cualquier operación con independencia de su carácter de corto, medio o largo plazo de la inversión y la Bolsa de Madrid sigue manteniendo una fuerte cuota de mercado para los valores españoles.</p><div class=\"overview-btns\"><a class=\"overview-btn\" href=\"/bme-exchange/es/Bolsa-Madrid/Sobre-Nosotros\" target=\"_self\">Leer más</a></div>\n",
       "</div><aside>\n",
       "<h2 class=\"overview-title\">Enlaces Rápidos</h2><ul class=\"list-unstyled overview-aside-links\"><li><a class=\"mover\" href=\"/bme-exchange/es/Bolsa-Madrid/Sobre-Nosotros\" target=\"_self\">Sobre nosotros<span class=\"icon mas1\"></span></a></li><li><a class=\"mover\" href=\"/bme-exchange/es/Bolsa-Madrid/Palacio-Visitas\" target=\"_self\">El Palacio de la Bolsa<span class=\"icon mas1\"></span></a></li><li><a class=\"mover\" href=\"/bme-exchange/es/Negociar/Participantes/Miembros-Renta-Variable\" target=\"_self\">Miembros<span class=\"icon mas1\"></span></a></li><li><a class=\"mover\" href=\"/bme-exchange/es/Para-Inversores/Protector-Inversor\" target=\"_self\">Protector del Inversor<span class=\"icon mas1\"></span></a></li><li><a class=\"mover\" href=\"/bme-exchange/es/Mercados-y-Cotizaciones/Estadisticas/Boletin-Cotizacion-Madrid\" target=\"_self\">Boletín diario<span class=\"icon mas1\"></span></a></li><li><a class=\"mover\" href=\"/bme-exchange/es/Regulacion/Buscador-Regulacion?fromDate=2021-08-23&amp;toDate=2022-08-23&amp;Market=&amp;Company=01&amp;Subject=&amp;Type=&amp;InForce=S&amp;Number=&amp;Title=\" target=\"_self\">Regulación<span class=\"icon mas1\"></span></a></li><li><a class=\"mover\" href=\"/bme-exchange/docs/docsSubidos/Trading/Tarifas-BME-Exchange.pdf\" target=\"_blank\">Tarifas vigentes<span class=\"icon mas1\"></span></a></li><li><a class=\"mover\" href=\"/bme-exchange/docs/docsSubidos/Trading/Tarifas-renta-variable-vigor-1-julio-2023.pdf\" target=\"_blank\">Tarifas con entrada en vigor el 1 de julio de 2023<span class=\"icon mas1\"></span></a></li></ul></aside>\n",
       "</div></div></div>\n",
       "</section>\n",
       "<section class=\"overview section-buttons Blanco NumCols2\">\n",
       "<div class=\"container\"><div class=\"row\"><div class=\"col-sm-12\">\n",
       "<div class=\"section-buttons-list\"><a class=\"section-buttons-button\" href=\"/bme-exchange/es/Mercados-y-Cotizaciones/Acciones/Mercado-Continuo/Precios/ibex-35-ES0SI0000005\" target=\"_self\"><span>IBEX 35</span><span class=\"section-buttons-icon\"><img alt=\"IBEX 35\" aria-hidden=\"true\" class=\"object-fit\" src=\"/bme-exchange/images/imgsSubidas/Iconos-BME-azul/IBEX35-BENEFITS-icon-BME.svg\"/></span></a>\n",
       "<a class=\"section-buttons-button\" href=\"/bme-exchange/es/Mercados-y-Cotizaciones/Acciones/Mercado-Continuo/Precios/igbm-ES0SI0000609\" target=\"_self\"><span>I.G. Bolsa Madrid</span><span class=\"section-buttons-icon\"><img alt=\"I.G. Bolsa Madrid\" aria-hidden=\"true\" class=\"object-fit\" src=\"/bme-exchange/images/imgsSubidas/Iconos-BME-azul/Reference-market-BME.svg\"/></span></a>\n",
       "<a class=\"section-buttons-button\" href=\"/bme-exchange/es/Mercados-y-Cotizaciones\" target=\"_self\"><span>Mercado y Cotizaciones</span><span class=\"section-buttons-icon\"><img alt=\"Mercado y Cotizaciones\" aria-hidden=\"true\" class=\"object-fit\" src=\"/bme-exchange/images/imgsSubidas/Iconos-BME-azul/Session-Prices-BME.svg\"/></span></a>\n",
       "<a class=\"section-buttons-button\" href=\"/bme-exchange/es/Mercados-y-Cotizaciones/Estadisticas\" target=\"_self\"><span>Estadísticas </span><span class=\"section-buttons-icon\"><img alt=\"Estadísticas \" aria-hidden=\"true\" class=\"object-fit\" src=\"/bme-exchange/images/imgsSubidas/Iconos-BME-azul/Indices-Data-Feeds-BME.png\"/></span></a>\n",
       "</div>\n",
       "</div></div></div>\n",
       "</section>\n",
       "<section class=\"overview section-highlight AzulOscuro\">\n",
       "<div class=\"container\"><div class=\"row\"><div class=\"col-sm-12\">\n",
       "<a class=\"section-highlight-component\" href=\"https://www.bolsasymercados.es/esp/Estudios-Publicaciones/Informe-Mercado/2022\" target=\"_self\"><div class=\"section-highlight-background\"><div class=\"section-highlight-background-color\"></div></div>\n",
       "<div class=\"section-highlight-content\">\n",
       "<div class=\"section-highlight-main\"><h2 class=\"overview-title\">Informe de mercado</h2><h3 class=\"section-highlight-title\">Informe de Mercado 2022</h3><p class=\"section-highlight-text\">Principales estadísticas de los mercados de BME durante 2022.</p><div class=\"overview-btns section-highlight-btns\"><span class=\"overview-btn\">Leer informe</span></div>\n",
       "</div></div>\n",
       "</a>\n",
       "</div></div></div>\n",
       "</section>\n",
       "<section class=\"overview section-banners Blanco section-banners-3banners\">\n",
       "<div class=\"container\"><div class=\"row\"><div class=\"col-sm-12\">\n",
       "<div class=\"section-banners-list\"><article><a href=\"/bme-exchange/es/Como-Cotizar/Toques-Campana?fromDate=2021-08-23&amp;toDate=2023-08-23&amp;selectLocation=Bolsa-Madrid&amp;EventTitle=\" target=\"_self\"><span class=\"section-banners-element\"><span class=\"section-banners-image-title\">APERTURAS DE HONOR</span><div class=\"section-banners-image\"><img alt=\"APERTURAS DE HONOR\" aria-hidden=\"true\" class=\"object-fit\" src=\"/bme-exchange/images/imgsSubidas/Webs_Bolsas/Toque-campana-Bolsa-BME.png\"/></div>\n",
       "<span class=\"section-banners-content\"><h3 class=\"section-banners-title\">Toques de Campana</h3></span><div class=\"overview-btns\"><span class=\"overview-btn\">Ver todas</span></div>\n",
       "</span></a></article>\n",
       "<article><a href=\"https://www.bolsasymercados.es/esp/Estudios-Publicaciones/Documento/5571_Informe_sobre_la_Propiedad_de_las_Acciones_cotizadas\" target=\"_blank\"><span class=\"section-banners-element\"><span class=\"section-banners-image-title\">Informe</span><div class=\"section-banners-image\"><img alt=\"Informe\" aria-hidden=\"true\" class=\"object-fit\" src=\"/bme-exchange/images/imgsSubidas/Webs_Bolsas/Informe-sobre-propiedad-deAcciones-cotizadas-BME.png\"/></div>\n",
       "<span class=\"section-banners-content\"><h3 class=\"section-banners-title\">Informe sobre la propiedad de las acciones cotizadas</h3></span><div class=\"overview-btns\"><span class=\"overview-btn\">Leer informe</span></div>\n",
       "</span></a></article>\n",
       "<article><a href=\"https://www.bolsasymercados.es/esp/Sostenibilidad/Personas/Dia-Educacion-Financiera\" target=\"_self\"><span class=\"section-banners-element\"><span class=\"section-banners-image-title\">EDUCACIÓN FINANCIERA</span><div class=\"section-banners-image\"><img alt=\"EDUCACIÓN FINANCIERA\" aria-hidden=\"true\" class=\"object-fit\" src=\"/bme-exchange/images/imgsSubidas/Webs_Bolsas/Financial-education.png\"/></div>\n",
       "<span class=\"section-banners-content\"><h3 class=\"section-banners-title\">Día de la Educación Financiera</h3></span><div class=\"overview-btns\"><span class=\"overview-btn\">Saber más</span></div>\n",
       "</span></a></article>\n",
       "</div>\n",
       "</div></div></div>\n",
       "</section>\n",
       "<section class=\"overview section-banner Turquesa IzquierdaPeq\">\n",
       "<div class=\"container\"><div class=\"row\"><div class=\"col-sm-12\">\n",
       "<span class=\"section-banner-content\"><div class=\"section-banner-image\"><img alt=\"PALACIO DE LA BOLSA DE MADRID\" aria-hidden=\"true\" class=\"object-fit\" src=\"/bme-exchange/images/imgsSubidas/Webs_Bolsas/BM-banner-edificio-bolsa-madrid-parquet-14.png\"/></div>\n",
       "<span class=\"section-banner-text\"><h3 class=\"\">PALACIO DE LA BOLSA DE MADRID</h3><p>Visita el Palacio y descubre su historia y sus secretos.</p></span><div class=\"overview-btns section-banner-btns\"><a class=\"overview-btn\" href=\"/bme-exchange/es/Bolsa-Madrid/Palacio-Visitas\" target=\"_self\">Visitas guiadas</a><a class=\"overview-btn\" href=\"https://my.matterport.com/show/?m=7qQdPX13Pum\" target=\"_blank\">Tour virtual</a><a class=\"overview-btn\" href=\"/bme-exchange/es/Espacios-Corporativos\" target=\"_self\">Alquiler de Espacios</a></div>\n",
       "</span>\n",
       "</div></div></div>\n",
       "</section>\n",
       "<section class=\"overview section-highlight AzulOscuro\">\n",
       "<div class=\"container\"><div class=\"row\"><div class=\"col-sm-12\">\n",
       "<a class=\"section-highlight-component\" data-categoryga=\"Contacto\" data-labelga=\"Contacto Bolsa Madrid\" data-valuega=\"1\" href=\"/bme-exchange/es/Contacto#Bolsas-locales\" target=\"_self\"><div class=\"section-highlight-background\"><div class=\"section-highlight-background-color\"></div></div>\n",
       "<div class=\"section-highlight-content\">\n",
       "<div class=\"section-highlight-main\"><h2 class=\"overview-title\">Contacto</h2><h3 class=\"section-highlight-title\">¡Hablemos!</h3><p class=\"section-highlight-text\">Para más información o preguntas sobre nuestros servicios. No dudes en contactar con nosotros. Estamos aquí para ayudarte.</p><div class=\"overview-btns section-highlight-btns\"><span class=\"overview-btn\">Contáctanos</span></div>\n",
       "</div></div>\n",
       "</a>\n",
       "</div></div></div>\n",
       "</section>\n",
       "</main>\n",
       "<div class=\"hidden-print home\" data-url=\"https://www.bolsasymercados.es/bme-exchange/es/Bolsa-Madrid\" id=\"AccionesPag\">\n",
       "<div class=\"links\">\n",
       "<a class=\"icon twitter\" href=\"#share_in_twitter\" title=\"Compartir en Twitter\"></a>\n",
       "<a class=\"icon whatsapp\" href=\"#share_in_whatsapp\" title=\"Enviar por WhatsApp\"></a>\n",
       "<a class=\"icon linkedin\" href=\"#share_in_linkedin\" title=\"Compartir en LinkedIn\"></a>\n",
       "<a class=\"icon facebook\" href=\"#share_in_facebook\" title=\"Compartir en Facebook\"></a>\n",
       "<a class=\"icon email sep\" href=\"#share_in_mail\" title=\"Enviar por email\"></a>\n",
       "<a class=\"icon print sep\" href=\"#share_in_print\" title=\"Imprimir\"></a>\n",
       "</div><a class=\"tirador\" href=\"#share_in_open\">\n",
       "<span aria-hidden=\"true\" class=\"glyphicon\"></span>\n",
       "</a>\n",
       "</div>\n",
       "<a class=\"hidden-print hidden\" href=\"#top\" id=\"VolverInicio\" target=\"_self\"><span aria-hidden=\"true\" class=\"glyphicon glyphicon-chevron-up\"></span></a>\n",
       "<footer class=\"hidden-print\" id=\"Pie\">\n",
       "<div id=\"LinksPie\">\n",
       "<div class=\"container\"><div class=\"row\">\n",
       "<div class=\"col-lg-7 col-md-12 links\">\n",
       "<div><div class=\"titulo-col-pie\"><span>MERCADO</span></div><ul><li><a href=\"/bme-exchange/es/Negociar/Calendario-Mercado\" target=\"_self\">Calendario de Mercado</a></li>\n",
       "<li><a href=\"/bme-exchange/es/Negociar/Horario-Mercado\" target=\"_self\">Horario de Mercado</a></li>\n",
       "<li><a href=\"/bme-exchange/es/Market-Status\" target=\"_self\">Estado del Mercado</a></li>\n",
       "<li><a href=\"/bme-exchange/es/Negociar/Mercados/Renta-Variable/MIFID-II/Informes-Best-Execution\" target=\"_self\">MiFID II Renta Variable</a></li>\n",
       "<li><a href=\"/bme-exchange/es/Negociar/Mercados/Renta-Fija/MIFID-II/Informes-Best-Execution\" target=\"_self\">MiFID II Renta Fija</a></li>\n",
       "<li><a href=\"https://www.meff.es/esp/MIFID-II\" target=\"_blank\">MiFID II Derivados</a></li>\n",
       "</ul></div><div><div class=\"titulo-col-pie\"><span>LINKS RÁPIDOS</span></div><ul><li><a href=\"/bme-exchange/es/Mercados-y-Cotizaciones/Acciones/Mercado-Continuo/Precios/ibex-35-ES0SI0000005\" target=\"_self\">IBEX 35®</a></li>\n",
       "<li><a href=\"/bme-exchange/es/Mercados-y-Cotizaciones/Acciones/Mercado-Continuo/Operaciones-Financieras/Dividendos\" target=\"_self\">Dividendos</a></li>\n",
       "<li><a href=\"/bme-exchange/es/Negociar/Agenda\" target=\"_self\">Agenda del Inversor</a></li>\n",
       "<li><a href=\"/bme-exchange/es/Mercados-y-Cotizaciones/Acciones/Analisis-y-Herramientas/Mi-Cartera\" target=\"_self\">Mi Cartera</a></li>\n",
       "<li><a href=\"/bme-exchange/es/Mercados-y-Cotizaciones/Estadisticas/Boletines-Informes\" target=\"_self\">Boletines de cotización</a></li>\n",
       "<li><a href=\"/bme-exchange/es/Mercados-y-Cotizaciones/Estadisticas\" target=\"_self\">Estadísticas</a></li>\n",
       "</ul></div><div><div class=\"titulo-col-pie\"><span>SERVICIOS</span></div><ul><li><a href=\"https://www.bolsasymercados.es/BME_4Companies\" target=\"_blank\">BME 4Companies</a></li>\n",
       "<li><a href=\"https://www.bmeregulatoryservices.es\" target=\"_blank\">BME Regulatory Services</a></li>\n",
       "<li><a href=\"/bme-exchange/es/Negociar/Participantes/Servicios-para-Participantes\" target=\"_self\">Servicios para intermediarios</a></li>\n",
       "<li><a href=\"https://www.bmemarketdata.es\" target=\"_blank\">Market Data</a></li>\n",
       "<li><a href=\"/bme-exchange/es/Espacios-Corporativos\" target=\"_self\">Espacios para Eventos Corporativos</a></li>\n",
       "<li><a href=\"https://www.bolsasymercados.es/esp/Sala-Comunicacion\" target=\"_blank\">Sala de Comunicación BME</a></li>\n",
       "</ul></div>\n",
       "</div><div class=\"col-lg-5 col-md-12 siguenos\">\n",
       "<div>\n",
       "<div class=\"titulo-col-pie\"><span>SÍGUENOS:</span></div>\n",
       "<div class=\"RRSS\">\n",
       "<a class=\"icon twitter\" href=\"https://twitter.com/GrupoBME\" target=\"_blank\" title=\"Twitter\"></a>\n",
       "<a class=\"icon flickr\" href=\"https://www.flickr.com/photos/archivobme/\" target=\"_blank\" title=\"Flickr\"></a>\n",
       "<a class=\"icon linkedin\" href=\"https://www.linkedin.com/company/grupo-bme\" target=\"_blank\" title=\"LinkedIn\"></a>\n",
       "<a class=\"icon youtube\" href=\"https://www.youtube.com/user/GrupoBME/\" target=\"_blank\" title=\"YouTube\"></a>\n",
       "<a class=\"icon rss\" href=\"/bme-exchange/es/RSS\" target=\"_self\" title=\"RSS\"></a>\n",
       "</div>\n",
       "</div><div>\n",
       "<a class=\"Contacto mover overview-btn blue\" href=\"/bme-exchange/es/Contacto#Informacion-General\">CONTACTO</a>\n",
       "</div><div>\n",
       "<a href=\"/esp/Home\" target=\"_blank\"><img alt=\"Logo Bolsas y Mercados Españoles\" class=\"Logo\" src=\"/bme-exchange/images/base/LogoBMEInv.svg?v=Six\"/></a>\n",
       "</div>\n",
       "</div>\n",
       "</div></div>\n",
       "</div>\n",
       "<div id=\"FranjaPie\">\n",
       "<ul class=\"list-inline\">\n",
       "<li>Copyright® BME 2023</li>\n",
       "<li><a href=\"/bme-exchange/es/Disclaimer\" target=\"_self\">Disclaimer</a></li>\n",
       "<li><a href=\"/bme-exchange/es/privacidad/Politica-de-Privacidad\" target=\"_self\">Política de Privacidad</a></li>\n",
       "<li><a href=\"/bme-exchange/es/Politica-de-cookies\" target=\"_self\">Política de cookies</a></li>\n",
       "<li><a href=\"/bme-exchange/es/privacidad/Aviso-Legal\" target=\"_self\">Aviso legal</a></li>\n",
       "<li><a href=\"/bme-exchange/es/Mapa-Web\" target=\"_self\">Mapa Web</a></li>\n",
       "</ul>\n",
       "</div>\n",
       "<div class=\"visible-xs-block\" id=\"testXS\"></div>\n",
       "</footer>\n",
       "<footer class=\"visible-print-block\" id=\"UrlPrint\">\n",
       "<div class=\"container\"><div class=\"row\">\n",
       "<div class=\"col-xs-6\">Copyright® BME 2023</div>\n",
       "<div class=\"col-xs-6 text-right\">[ https://www.bolsasymercados.es/bme-exchange/ ]</div>\n",
       "</div></div>\n",
       "</footer>\n",
       "</body>\n",
       "</html>"
      ]
     },
     "execution_count": 24,
     "metadata": {},
     "output_type": "execute_result"
    }
   ],
   "source": [
    "soup2"
   ]
  },
  {
   "cell_type": "code",
   "execution_count": 27,
   "id": "62f0446c",
   "metadata": {},
   "outputs": [
    {
     "data": {
      "text/plain": [
       "[]"
      ]
     },
     "execution_count": 27,
     "metadata": {},
     "output_type": "execute_result"
    }
   ],
   "source": [
    "list(soup2.find_all('table', id= 'ctl00$Contenido$SelIndice'))"
   ]
  },
  {
   "cell_type": "code",
   "execution_count": 28,
   "id": "926c38d3",
   "metadata": {},
   "outputs": [],
   "source": [
    "## Function to scrape the page table extract cells and retorn a DF, Handling HTTP exceptions\n",
    "\n",
    "def get_table(round, url=url):\n",
    "    \n",
    "    round_url = f'{url}/{round}'\n",
    "    \n",
    "    # Call function to scrap page\n",
    "    soup = scrap_page(round_url)\n",
    "        \n",
    "    # Extract cells for the table\n",
    "    rows = []\n",
    "    \n",
    "    for child in soup.find_all('table')[4].children:\n",
    "        element = []\n",
    "        \n",
    "        for td in child:\n",
    "            \n",
    "            try:\n",
    "                element.append(td.text.replace('\\n', ''))\n",
    "                \n",
    "            except:\n",
    "                continue\n",
    "                \n",
    "        if len(element) > 0:\n",
    "            \n",
    "            rows.append(element)\n",
    "                \n",
    "    #create FataFrame from the rows\n",
    "    df = pd.DataFrame(rows[1:], columns=rows[0])\n",
    "\n",
    "    return df"
   ]
  },
  {
   "cell_type": "code",
   "execution_count": 29,
   "id": "6f3f898b",
   "metadata": {},
   "outputs": [
    {
     "ename": "IndexError",
     "evalue": "list index out of range",
     "output_type": "error",
     "traceback": [
      "\u001b[1;31m---------------------------------------------------------------------------\u001b[0m",
      "\u001b[1;31mIndexError\u001b[0m                                Traceback (most recent call last)",
      "Input \u001b[1;32mIn [29]\u001b[0m, in \u001b[0;36m<cell line: 1>\u001b[1;34m()\u001b[0m\n\u001b[1;32m----> 1\u001b[0m df \u001b[38;5;241m=\u001b[39m \u001b[43mget_table\u001b[49m\u001b[43m(\u001b[49m\u001b[38;5;241;43m1\u001b[39;49m\u001b[43m,\u001b[49m\u001b[43m \u001b[49m\u001b[43mscrap_url\u001b[49m\u001b[43m)\u001b[49m\n",
      "Input \u001b[1;32mIn [28]\u001b[0m, in \u001b[0;36mget_table\u001b[1;34m(round, url)\u001b[0m\n\u001b[0;32m     10\u001b[0m \u001b[38;5;66;03m# Extract cells for the table\u001b[39;00m\n\u001b[0;32m     11\u001b[0m rows \u001b[38;5;241m=\u001b[39m []\n\u001b[1;32m---> 13\u001b[0m \u001b[38;5;28;01mfor\u001b[39;00m child \u001b[38;5;129;01min\u001b[39;00m \u001b[43msoup\u001b[49m\u001b[38;5;241;43m.\u001b[39;49m\u001b[43mfind_all\u001b[49m\u001b[43m(\u001b[49m\u001b[38;5;124;43m'\u001b[39;49m\u001b[38;5;124;43mtable\u001b[39;49m\u001b[38;5;124;43m'\u001b[39;49m\u001b[43m)\u001b[49m\u001b[43m[\u001b[49m\u001b[38;5;241;43m4\u001b[39;49m\u001b[43m]\u001b[49m\u001b[38;5;241m.\u001b[39mchildren:\n\u001b[0;32m     14\u001b[0m     element \u001b[38;5;241m=\u001b[39m []\n\u001b[0;32m     16\u001b[0m     \u001b[38;5;28;01mfor\u001b[39;00m td \u001b[38;5;129;01min\u001b[39;00m child:\n",
      "\u001b[1;31mIndexError\u001b[0m: list index out of range"
     ]
    }
   ],
   "source": [
    "df = get_table(1, scrap_url)"
   ]
  },
  {
   "cell_type": "code",
   "execution_count": 30,
   "id": "80f15ef7",
   "metadata": {},
   "outputs": [
    {
     "ename": "NameError",
     "evalue": "name 'df' is not defined",
     "output_type": "error",
     "traceback": [
      "\u001b[1;31m---------------------------------------------------------------------------\u001b[0m",
      "\u001b[1;31mNameError\u001b[0m                                 Traceback (most recent call last)",
      "Input \u001b[1;32mIn [30]\u001b[0m, in \u001b[0;36m<cell line: 1>\u001b[1;34m()\u001b[0m\n\u001b[1;32m----> 1\u001b[0m \u001b[43mdf\u001b[49m\n",
      "\u001b[1;31mNameError\u001b[0m: name 'df' is not defined"
     ]
    }
   ],
   "source": [
    "df"
   ]
  },
  {
   "cell_type": "code",
   "execution_count": null,
   "id": "50d12e97",
   "metadata": {},
   "outputs": [],
   "source": []
  },
  {
   "cell_type": "code",
   "execution_count": null,
   "id": "d7ccb583",
   "metadata": {},
   "outputs": [],
   "source": []
  },
  {
   "cell_type": "code",
   "execution_count": null,
   "id": "4543b6e0",
   "metadata": {},
   "outputs": [],
   "source": []
  },
  {
   "cell_type": "code",
   "execution_count": null,
   "id": "d692d9ec",
   "metadata": {},
   "outputs": [],
   "source": []
  },
  {
   "cell_type": "code",
   "execution_count": null,
   "id": "a0ad99c1",
   "metadata": {},
   "outputs": [],
   "source": []
  },
  {
   "cell_type": "code",
   "execution_count": null,
   "id": "582708da",
   "metadata": {},
   "outputs": [],
   "source": []
  },
  {
   "cell_type": "code",
   "execution_count": null,
   "id": "0e25a16b",
   "metadata": {},
   "outputs": [],
   "source": []
  },
  {
   "cell_type": "code",
   "execution_count": null,
   "id": "326315dc",
   "metadata": {},
   "outputs": [],
   "source": []
  }
 ],
 "metadata": {
  "kernelspec": {
   "display_name": "Python 3 (ipykernel)",
   "language": "python",
   "name": "python3"
  },
  "language_info": {
   "codemirror_mode": {
    "name": "ipython",
    "version": 3
   },
   "file_extension": ".py",
   "mimetype": "text/x-python",
   "name": "python",
   "nbconvert_exporter": "python",
   "pygments_lexer": "ipython3",
   "version": "3.9.12"
  }
 },
 "nbformat": 4,
 "nbformat_minor": 5
}
