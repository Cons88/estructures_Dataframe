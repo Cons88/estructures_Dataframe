{
 "cells": [
  {
   "cell_type": "markdown",
   "id": "9ccaf133",
   "metadata": {},
   "source": [
    "Tasca M05 T02\n",
    "- Exercici 1\n",
    "Parteix el conjunt de dades adjunt en train i test. Estudia els dos conjunts per separat, a nivell descriptiu.\n",
    "També adjunt trobaràs una descripció de les diferents variables del dataset.\n"
   ]
  },
  {
   "cell_type": "code",
   "execution_count": 7,
   "id": "8493c61a",
   "metadata": {},
   "outputs": [],
   "source": [
    "import pandas as pd\n",
    "import numpy as np\n",
    "import matplotlib.pyplot as plt\n",
    "import seaborn as sns\n",
    "import scipy as scipy\n",
    "from scipy import stats\n",
    "from scipy.stats import ttest_ind"
   ]
  },
  {
   "cell_type": "code",
   "execution_count": 8,
   "id": "0d5e484f",
   "metadata": {},
   "outputs": [
    {
     "ename": "ImportError",
     "evalue": "cannot import name 'datsets' from 'sklearn' (C:\\Users\\flore\\anaconda3\\lib\\site-packages\\sklearn\\__init__.py)",
     "output_type": "error",
     "traceback": [
      "\u001b[1;31m---------------------------------------------------------------------------\u001b[0m",
      "\u001b[1;31mImportError\u001b[0m                               Traceback (most recent call last)",
      "Input \u001b[1;32mIn [8]\u001b[0m, in \u001b[0;36m<cell line: 1>\u001b[1;34m()\u001b[0m\n\u001b[1;32m----> 1\u001b[0m \u001b[38;5;28;01mfrom\u001b[39;00m \u001b[38;5;21;01msklearn\u001b[39;00m \u001b[38;5;28;01mimport\u001b[39;00m datsets, linear_model\n\u001b[0;32m      2\u001b[0m \u001b[38;5;28;01mfrom\u001b[39;00m \u001b[38;5;21;01msklearn\u001b[39;00m\u001b[38;5;21;01m.\u001b[39;00m\u001b[38;5;21;01mmodel_selection\u001b[39;00m \u001b[38;5;28;01mimport\u001b[39;00m train_test_split\n",
      "\u001b[1;31mImportError\u001b[0m: cannot import name 'datsets' from 'sklearn' (C:\\Users\\flore\\anaconda3\\lib\\site-packages\\sklearn\\__init__.py)"
     ]
    }
   ],
   "source": [
    "from sklearn import datsets, linear_model\n",
    "from sklearn.model_selection import train_test_split "
   ]
  },
  {
   "cell_type": "code",
   "execution_count": 9,
   "id": "081f3134",
   "metadata": {},
   "outputs": [
    {
     "data": {
      "text/html": [
       "<div>\n",
       "<style scoped>\n",
       "    .dataframe tbody tr th:only-of-type {\n",
       "        vertical-align: middle;\n",
       "    }\n",
       "\n",
       "    .dataframe tbody tr th {\n",
       "        vertical-align: top;\n",
       "    }\n",
       "\n",
       "    .dataframe thead th {\n",
       "        text-align: right;\n",
       "    }\n",
       "</style>\n",
       "<table border=\"1\" class=\"dataframe\">\n",
       "  <thead>\n",
       "    <tr style=\"text-align: right;\">\n",
       "      <th></th>\n",
       "      <th>CRIM</th>\n",
       "      <th>ZN</th>\n",
       "      <th>INDUS</th>\n",
       "      <th>CHAS</th>\n",
       "      <th>NOX</th>\n",
       "      <th>RM</th>\n",
       "      <th>AGE</th>\n",
       "      <th>DIS</th>\n",
       "      <th>RAD</th>\n",
       "      <th>TAX</th>\n",
       "      <th>PTRATIO</th>\n",
       "      <th>B</th>\n",
       "      <th>LSTAT</th>\n",
       "      <th>MEDV</th>\n",
       "    </tr>\n",
       "  </thead>\n",
       "  <tbody>\n",
       "    <tr>\n",
       "      <th>0</th>\n",
       "      <td>632</td>\n",
       "      <td>1800</td>\n",
       "      <td>2310</td>\n",
       "      <td>0</td>\n",
       "      <td>5380</td>\n",
       "      <td>65750</td>\n",
       "      <td>6520</td>\n",
       "      <td>40900</td>\n",
       "      <td>1</td>\n",
       "      <td>2960</td>\n",
       "      <td>1530</td>\n",
       "      <td>39690</td>\n",
       "      <td>498</td>\n",
       "      <td>2400</td>\n",
       "    </tr>\n",
       "    <tr>\n",
       "      <th>1</th>\n",
       "      <td>2731</td>\n",
       "      <td>0</td>\n",
       "      <td>7070</td>\n",
       "      <td>0</td>\n",
       "      <td>4690</td>\n",
       "      <td>64210</td>\n",
       "      <td>7890</td>\n",
       "      <td>49671</td>\n",
       "      <td>2</td>\n",
       "      <td>2420</td>\n",
       "      <td>1780</td>\n",
       "      <td>39690</td>\n",
       "      <td>914</td>\n",
       "      <td>2160</td>\n",
       "    </tr>\n",
       "    <tr>\n",
       "      <th>2</th>\n",
       "      <td>2729</td>\n",
       "      <td>0</td>\n",
       "      <td>7070</td>\n",
       "      <td>0</td>\n",
       "      <td>4690</td>\n",
       "      <td>71850</td>\n",
       "      <td>6110</td>\n",
       "      <td>49671</td>\n",
       "      <td>2</td>\n",
       "      <td>2420</td>\n",
       "      <td>1780</td>\n",
       "      <td>39283</td>\n",
       "      <td>403</td>\n",
       "      <td>3470</td>\n",
       "    </tr>\n",
       "    <tr>\n",
       "      <th>3</th>\n",
       "      <td>3237</td>\n",
       "      <td>0</td>\n",
       "      <td>2180</td>\n",
       "      <td>0</td>\n",
       "      <td>4580</td>\n",
       "      <td>69980</td>\n",
       "      <td>4580</td>\n",
       "      <td>60622</td>\n",
       "      <td>3</td>\n",
       "      <td>2220</td>\n",
       "      <td>1870</td>\n",
       "      <td>39463</td>\n",
       "      <td>294</td>\n",
       "      <td>3340</td>\n",
       "    </tr>\n",
       "    <tr>\n",
       "      <th>4</th>\n",
       "      <td>6905</td>\n",
       "      <td>0</td>\n",
       "      <td>2180</td>\n",
       "      <td>0</td>\n",
       "      <td>4580</td>\n",
       "      <td>71470</td>\n",
       "      <td>5420</td>\n",
       "      <td>60622</td>\n",
       "      <td>3</td>\n",
       "      <td>2220</td>\n",
       "      <td>1870</td>\n",
       "      <td>39690</td>\n",
       "      <td>533</td>\n",
       "      <td>3620</td>\n",
       "    </tr>\n",
       "    <tr>\n",
       "      <th>...</th>\n",
       "      <td>...</td>\n",
       "      <td>...</td>\n",
       "      <td>...</td>\n",
       "      <td>...</td>\n",
       "      <td>...</td>\n",
       "      <td>...</td>\n",
       "      <td>...</td>\n",
       "      <td>...</td>\n",
       "      <td>...</td>\n",
       "      <td>...</td>\n",
       "      <td>...</td>\n",
       "      <td>...</td>\n",
       "      <td>...</td>\n",
       "      <td>...</td>\n",
       "    </tr>\n",
       "    <tr>\n",
       "      <th>501</th>\n",
       "      <td>6263</td>\n",
       "      <td>0</td>\n",
       "      <td>11930</td>\n",
       "      <td>0</td>\n",
       "      <td>5730</td>\n",
       "      <td>65930</td>\n",
       "      <td>6910</td>\n",
       "      <td>24786</td>\n",
       "      <td>1</td>\n",
       "      <td>2730</td>\n",
       "      <td>2100</td>\n",
       "      <td>39199</td>\n",
       "      <td>967</td>\n",
       "      <td>2240</td>\n",
       "    </tr>\n",
       "    <tr>\n",
       "      <th>502</th>\n",
       "      <td>4527</td>\n",
       "      <td>0</td>\n",
       "      <td>11930</td>\n",
       "      <td>0</td>\n",
       "      <td>5730</td>\n",
       "      <td>61200</td>\n",
       "      <td>7670</td>\n",
       "      <td>22875</td>\n",
       "      <td>1</td>\n",
       "      <td>2730</td>\n",
       "      <td>2100</td>\n",
       "      <td>39690</td>\n",
       "      <td>908</td>\n",
       "      <td>2060</td>\n",
       "    </tr>\n",
       "    <tr>\n",
       "      <th>503</th>\n",
       "      <td>6076</td>\n",
       "      <td>0</td>\n",
       "      <td>11930</td>\n",
       "      <td>0</td>\n",
       "      <td>5730</td>\n",
       "      <td>69760</td>\n",
       "      <td>9100</td>\n",
       "      <td>21675</td>\n",
       "      <td>1</td>\n",
       "      <td>2730</td>\n",
       "      <td>2100</td>\n",
       "      <td>39690</td>\n",
       "      <td>564</td>\n",
       "      <td>2390</td>\n",
       "    </tr>\n",
       "    <tr>\n",
       "      <th>504</th>\n",
       "      <td>10959</td>\n",
       "      <td>0</td>\n",
       "      <td>11930</td>\n",
       "      <td>0</td>\n",
       "      <td>5730</td>\n",
       "      <td>67940</td>\n",
       "      <td>8930</td>\n",
       "      <td>23889</td>\n",
       "      <td>1</td>\n",
       "      <td>2730</td>\n",
       "      <td>2100</td>\n",
       "      <td>39345</td>\n",
       "      <td>648</td>\n",
       "      <td>2200</td>\n",
       "    </tr>\n",
       "    <tr>\n",
       "      <th>505</th>\n",
       "      <td>4741</td>\n",
       "      <td>0</td>\n",
       "      <td>11930</td>\n",
       "      <td>0</td>\n",
       "      <td>5730</td>\n",
       "      <td>60300</td>\n",
       "      <td>8080</td>\n",
       "      <td>25050</td>\n",
       "      <td>1</td>\n",
       "      <td>2730</td>\n",
       "      <td>2100</td>\n",
       "      <td>39690</td>\n",
       "      <td>788</td>\n",
       "      <td>1190</td>\n",
       "    </tr>\n",
       "  </tbody>\n",
       "</table>\n",
       "<p>506 rows × 14 columns</p>\n",
       "</div>"
      ],
      "text/plain": [
       "      CRIM    ZN  INDUS  CHAS   NOX     RM   AGE    DIS  RAD   TAX  PTRATIO  \\\n",
       "0      632  1800   2310     0  5380  65750  6520  40900    1  2960     1530   \n",
       "1     2731     0   7070     0  4690  64210  7890  49671    2  2420     1780   \n",
       "2     2729     0   7070     0  4690  71850  6110  49671    2  2420     1780   \n",
       "3     3237     0   2180     0  4580  69980  4580  60622    3  2220     1870   \n",
       "4     6905     0   2180     0  4580  71470  5420  60622    3  2220     1870   \n",
       "..     ...   ...    ...   ...   ...    ...   ...    ...  ...   ...      ...   \n",
       "501   6263     0  11930     0  5730  65930  6910  24786    1  2730     2100   \n",
       "502   4527     0  11930     0  5730  61200  7670  22875    1  2730     2100   \n",
       "503   6076     0  11930     0  5730  69760  9100  21675    1  2730     2100   \n",
       "504  10959     0  11930     0  5730  67940  8930  23889    1  2730     2100   \n",
       "505   4741     0  11930     0  5730  60300  8080  25050    1  2730     2100   \n",
       "\n",
       "         B  LSTAT  MEDV  \n",
       "0    39690    498  2400  \n",
       "1    39690    914  2160  \n",
       "2    39283    403  3470  \n",
       "3    39463    294  3340  \n",
       "4    39690    533  3620  \n",
       "..     ...    ...   ...  \n",
       "501  39199    967  2240  \n",
       "502  39690    908  2060  \n",
       "503  39690    564  2390  \n",
       "504  39345    648  2200  \n",
       "505  39690    788  1190  \n",
       "\n",
       "[506 rows x 14 columns]"
      ]
     },
     "execution_count": 9,
     "metadata": {},
     "output_type": "execute_result"
    }
   ],
   "source": [
    "df = pd.read_excel('Housing_data.xlsx')\n",
    "df"
   ]
  },
  {
   "cell_type": "code",
   "execution_count": 10,
   "id": "0eccf47d",
   "metadata": {},
   "outputs": [
    {
     "data": {
      "text/plain": [
       "(506, 14)"
      ]
     },
     "execution_count": 10,
     "metadata": {},
     "output_type": "execute_result"
    }
   ],
   "source": [
    "df.shape"
   ]
  },
  {
   "cell_type": "code",
   "execution_count": 11,
   "id": "3d0c6197",
   "metadata": {},
   "outputs": [
    {
     "data": {
      "text/plain": [
       "Index(['CRIM', 'ZN', 'INDUS', 'CHAS', 'NOX', 'RM', 'AGE', 'DIS', 'RAD', 'TAX',\n",
       "       'PTRATIO', 'B', 'LSTAT', 'MEDV'],\n",
       "      dtype='object')"
      ]
     },
     "execution_count": 11,
     "metadata": {},
     "output_type": "execute_result"
    }
   ],
   "source": [
    "df.columns"
   ]
  },
  {
   "cell_type": "code",
   "execution_count": 12,
   "id": "84ddb476",
   "metadata": {},
   "outputs": [
    {
     "ename": "SyntaxError",
     "evalue": "invalid syntax (1270765433.py, line 3)",
     "output_type": "error",
     "traceback": [
      "\u001b[1;36m  Input \u001b[1;32mIn [12]\u001b[1;36m\u001b[0m\n\u001b[1;33m    train = df[:int((len(df))p_train)]\u001b[0m\n\u001b[1;37m                             ^\u001b[0m\n\u001b[1;31mSyntaxError\u001b[0m\u001b[1;31m:\u001b[0m invalid syntax\n"
     ]
    }
   ],
   "source": [
    "p_train = 0.80 # Porcentaje de train.\n",
    "\n",
    "train = df[:int((len(df))p_train)] \n",
    "test = df[int((len(df))p_train):]\n",
    "\n",
    "print(\"Ejemplos usados para entrenar: \", len(train))\n",
    "print(\"Ejemplos usados para test: \", len(test))"
   ]
  },
  {
   "cell_type": "code",
   "execution_count": 13,
   "id": "5192caf4",
   "metadata": {},
   "outputs": [
    {
     "name": "stdout",
     "output_type": "stream",
     "text": [
      "Ejemplos usados para entrenar:  363\n",
      "Ejemplos usados para test:  143\n"
     ]
    },
    {
     "name": "stderr",
     "output_type": "stream",
     "text": [
      "C:\\Users\\flore\\AppData\\Local\\Temp\\ipykernel_68156\\1683354457.py:7: FutureWarning: In a future version of pandas all arguments of DataFrame.drop except for the argument 'labels' will be keyword-only.\n",
      "  df = df.drop('is_train', 1)\n"
     ]
    }
   ],
   "source": [
    "import numpy as np\n",
    "\n",
    "p_train = 0.70 # Porcentaje de train.\n",
    "\n",
    "df['is_train'] = np.random.uniform(0, 1, len(df)) <= p_train\n",
    "train, test = df[df['is_train']==True], df[df['is_train']==False]\n",
    "df = df.drop('is_train', 1)\n",
    "\n",
    "print(\"Ejemplos usados para entrenar: \", len(train))\n",
    "print(\"Ejemplos usados para test: \", len(test))"
   ]
  },
  {
   "cell_type": "code",
   "execution_count": 14,
   "id": "14048b1f",
   "metadata": {},
   "outputs": [
    {
     "name": "stdout",
     "output_type": "stream",
     "text": [
      "      CRIM    ZN  INDUS  CHAS   NOX     RM    AGE    DIS  RAD   TAX  PTRATIO  \\\n",
      "0      632  1800   2310     0  5380  65750   6520  40900    1  2960     1530   \n",
      "3     3237     0   2180     0  4580  69980   4580  60622    3  2220     1870   \n",
      "4     6905     0   2180     0  4580  71470   5420  60622    3  2220     1870   \n",
      "6     8829  1250   7870     0  5240  60120   6660  55605    5  3110     1520   \n",
      "8    21124  1250   7870     0  5240  56310  10000  60821    5  3110     1520   \n",
      "..     ...   ...    ...   ...   ...    ...    ...    ...  ...   ...      ...   \n",
      "499  17783     0   9690     0  5850  55690   7350  23999    6  3910     1920   \n",
      "500  22438     0   9690     0  5850  60270   7970  24982    6  3910     1920   \n",
      "501   6263     0  11930     0  5730  65930   6910  24786    1  2730     2100   \n",
      "503   6076     0  11930     0  5730  69760   9100  21675    1  2730     2100   \n",
      "504  10959     0  11930     0  5730  67940   8930  23889    1  2730     2100   \n",
      "\n",
      "         B  LSTAT  MEDV  is_train  \n",
      "0    39690    498  2400      True  \n",
      "3    39463    294  3340      True  \n",
      "4    39690    533  3620      True  \n",
      "6    39560   1243  2290      True  \n",
      "8    38663   2993  1650      True  \n",
      "..     ...    ...   ...       ...  \n",
      "499  39577   1510  1750      True  \n",
      "500  39690   1433  1680      True  \n",
      "501  39199    967  2240      True  \n",
      "503  39690    564  2390      True  \n",
      "504  39345    648  2200      True  \n",
      "\n",
      "[363 rows x 15 columns]\n"
     ]
    }
   ],
   "source": [
    "print(train)"
   ]
  },
  {
   "cell_type": "code",
   "execution_count": 15,
   "id": "b404c314",
   "metadata": {},
   "outputs": [
    {
     "name": "stdout",
     "output_type": "stream",
     "text": [
      "      CRIM    ZN  INDUS  CHAS   NOX     RM   AGE    DIS  RAD   TAX  PTRATIO  \\\n",
      "1     2731     0   7070     0  4690  64210  7890  49671    2  2420     1780   \n",
      "2     2729     0   7070     0  4690  71850  6110  49671    2  2420     1780   \n",
      "5     2985     0   2180     0  4580  64300  5870  60622    3  2220     1870   \n",
      "7    14455  1250   7870     0  5240  61720  9610  59505    5  3110     1520   \n",
      "9    17004  1250   7870     0  5240  60040  8590  65921    5  3110     1520   \n",
      "..     ...   ...    ...   ...   ...    ...   ...    ...  ...   ...      ...   \n",
      "488  15086     0  27740     0  6090  54540  9270  18209    4  7110     2010   \n",
      "489  18337     0  27740     0  6090  54140  9830  17554    4  7110     2010   \n",
      "497  26838     0   9690     0  5850  57940  7060  28927    6  3910     1920   \n",
      "502   4527     0  11930     0  5730  61200  7670  22875    1  2730     2100   \n",
      "505   4741     0  11930     0  5730  60300  8080  25050    1  2730     2100   \n",
      "\n",
      "         B  LSTAT  MEDV  is_train  \n",
      "1    39690    914  2160     False  \n",
      "2    39283    403  3470     False  \n",
      "5    39412    521  2870     False  \n",
      "7    39690   1915  2710     False  \n",
      "9    38671   1710  1890     False  \n",
      "..     ...    ...   ...       ...  \n",
      "488  39509   1806  1520     False  \n",
      "489  34405   2397   700     False  \n",
      "497  39690   1410  1830     False  \n",
      "502  39690    908  2060     False  \n",
      "505  39690    788  1190     False  \n",
      "\n",
      "[143 rows x 15 columns]\n"
     ]
    }
   ],
   "source": [
    "print(test)"
   ]
  },
  {
   "cell_type": "code",
   "execution_count": 16,
   "id": "acba4a19",
   "metadata": {},
   "outputs": [
    {
     "name": "stdout",
     "output_type": "stream",
     "text": [
      "      CRIM    ZN  INDUS  CHAS   NOX     RM   AGE    DIS  RAD   TAX  PTRATIO  \\\n",
      "0      632  1800   2310     0  5380  65750  6520  40900    1  2960     1530   \n",
      "1     2731     0   7070     0  4690  64210  7890  49671    2  2420     1780   \n",
      "2     2729     0   7070     0  4690  71850  6110  49671    2  2420     1780   \n",
      "3     3237     0   2180     0  4580  69980  4580  60622    3  2220     1870   \n",
      "4     6905     0   2180     0  4580  71470  5420  60622    3  2220     1870   \n",
      "..     ...   ...    ...   ...   ...    ...   ...    ...  ...   ...      ...   \n",
      "501   6263     0  11930     0  5730  65930  6910  24786    1  2730     2100   \n",
      "502   4527     0  11930     0  5730  61200  7670  22875    1  2730     2100   \n",
      "503   6076     0  11930     0  5730  69760  9100  21675    1  2730     2100   \n",
      "504  10959     0  11930     0  5730  67940  8930  23889    1  2730     2100   \n",
      "505   4741     0  11930     0  5730  60300  8080  25050    1  2730     2100   \n",
      "\n",
      "         B  LSTAT  MEDV  \n",
      "0    39690    498  2400  \n",
      "1    39690    914  2160  \n",
      "2    39283    403  3470  \n",
      "3    39463    294  3340  \n",
      "4    39690    533  3620  \n",
      "..     ...    ...   ...  \n",
      "501  39199    967  2240  \n",
      "502  39690    908  2060  \n",
      "503  39690    564  2390  \n",
      "504  39345    648  2200  \n",
      "505  39690    788  1190  \n",
      "\n",
      "[506 rows x 14 columns]\n"
     ]
    }
   ],
   "source": [
    "print(df)"
   ]
  },
  {
   "cell_type": "markdown",
   "id": "f961a5ae",
   "metadata": {},
   "source": [
    "3. División aleatoria con train_test_split()\n",
    "Hasta ahora hemos realizado las divisiones de nuestro conjunto de datos de forma “manual”. Ahora utilizaremos una útil herramienta que nos proporciona la librería Model Selection de scikit-learn: train_test_split()."
   ]
  },
  {
   "cell_type": "code",
   "execution_count": 18,
   "id": "96994be2",
   "metadata": {},
   "outputs": [],
   "source": [
    "from sklearn.model_selection import train_test_split "
   ]
  },
  {
   "cell_type": "code",
   "execution_count": 19,
   "id": "fb5078f4",
   "metadata": {},
   "outputs": [
    {
     "name": "stdout",
     "output_type": "stream",
     "text": [
      "Ejemplos usados para entrenar:  354\n",
      "Ejemplos usados para test:  152\n"
     ]
    }
   ],
   "source": [
    "train, test = train_test_split(df, test_size = 0.30)\n",
    "\n",
    "print(\"Ejemplos usados para entrenar: \", len(train))\n",
    "print(\"Ejemplos usados para test: \", len(test))"
   ]
  },
  {
   "cell_type": "markdown",
   "id": "606c6875",
   "metadata": {},
   "source": [
    "Analizaré los datos de la división correspondiente al TRAIN "
   ]
  },
  {
   "cell_type": "code",
   "execution_count": 20,
   "id": "a69d9b7f",
   "metadata": {},
   "outputs": [
    {
     "name": "stdout",
     "output_type": "stream",
     "text": [
      "        CRIM    ZN  INDUS  CHAS   NOX     RM    AGE    DIS  RAD   TAX  \\\n",
      "386  2439380     0  18100     0  7000  46520  10000  14672   24  6660   \n",
      "436  1442080     0  18100     0  7400  64610   9330  20026   24  6660   \n",
      "89      5302     0   3410     0  4890  70790   6310  34145    2  2700   \n",
      "361   383684     0  18100     0  7700  62510   9110  22955   24  6660   \n",
      "11     11747  1250   7870     0  5240  60090   8290  62267    5  3110   \n",
      "..       ...   ...    ...   ...   ...    ...    ...    ...  ...   ...   \n",
      "233    33147     0   6200     0  5070  82470   7040  36519    8  3070   \n",
      "463   582115     0  18100     0  7130  65130   8990  28016   24  6660   \n",
      "32    138799     0   8140     0  5380  59500   8200  39900    4  3070   \n",
      "42     14150     0   6910     0  4480  61690    660  57209    3  2330   \n",
      "175     6664     0   4050     0  5100  65460   3310  31323    5  2960   \n",
      "\n",
      "     PTRATIO      B  LSTAT  MEDV  \n",
      "386     2020  39690   2828  1050  \n",
      "436     2020   2749   1805   960  \n",
      "89      1780  39606    570  2870  \n",
      "361     2020  35065   1419  1990  \n",
      "11      1520  39690   1327  1890  \n",
      "..       ...    ...    ...   ...  \n",
      "233     1740  37895    395  4830  \n",
      "463     2020  39382   1029  2020  \n",
      "32      2100  23260   2771  1320  \n",
      "42      1790  38337    581  2530  \n",
      "175     1660  39096    533  2940  \n",
      "\n",
      "[354 rows x 14 columns]\n"
     ]
    }
   ],
   "source": [
    "print(train)"
   ]
  },
  {
   "cell_type": "code",
   "execution_count": 22,
   "id": "b09dcd5f",
   "metadata": {},
   "outputs": [
    {
     "data": {
      "text/plain": [
       "(354, 14)"
      ]
     },
     "execution_count": 22,
     "metadata": {},
     "output_type": "execute_result"
    }
   ],
   "source": [
    "train.shape"
   ]
  },
  {
   "cell_type": "code",
   "execution_count": 23,
   "id": "9d287e34",
   "metadata": {},
   "outputs": [
    {
     "data": {
      "text/html": [
       "<div>\n",
       "<style scoped>\n",
       "    .dataframe tbody tr th:only-of-type {\n",
       "        vertical-align: middle;\n",
       "    }\n",
       "\n",
       "    .dataframe tbody tr th {\n",
       "        vertical-align: top;\n",
       "    }\n",
       "\n",
       "    .dataframe thead th {\n",
       "        text-align: right;\n",
       "    }\n",
       "</style>\n",
       "<table border=\"1\" class=\"dataframe\">\n",
       "  <thead>\n",
       "    <tr style=\"text-align: right;\">\n",
       "      <th></th>\n",
       "      <th>CRIM</th>\n",
       "      <th>ZN</th>\n",
       "      <th>INDUS</th>\n",
       "      <th>CHAS</th>\n",
       "      <th>NOX</th>\n",
       "      <th>RM</th>\n",
       "      <th>AGE</th>\n",
       "      <th>DIS</th>\n",
       "      <th>RAD</th>\n",
       "      <th>TAX</th>\n",
       "      <th>PTRATIO</th>\n",
       "      <th>B</th>\n",
       "      <th>LSTAT</th>\n",
       "      <th>MEDV</th>\n",
       "    </tr>\n",
       "  </thead>\n",
       "  <tbody>\n",
       "    <tr>\n",
       "      <th>count</th>\n",
       "      <td>3.540000e+02</td>\n",
       "      <td>354.000000</td>\n",
       "      <td>354.000000</td>\n",
       "      <td>354.000000</td>\n",
       "      <td>354.000000</td>\n",
       "      <td>354.000000</td>\n",
       "      <td>354.000000</td>\n",
       "      <td>354.000000</td>\n",
       "      <td>354.000000</td>\n",
       "      <td>354.000000</td>\n",
       "      <td>354.000000</td>\n",
       "      <td>354.000000</td>\n",
       "      <td>354.000000</td>\n",
       "      <td>354.000000</td>\n",
       "    </tr>\n",
       "    <tr>\n",
       "      <th>mean</th>\n",
       "      <td>3.956222e+05</td>\n",
       "      <td>1116.666667</td>\n",
       "      <td>11072.316384</td>\n",
       "      <td>0.070621</td>\n",
       "      <td>5535.022599</td>\n",
       "      <td>62693.559322</td>\n",
       "      <td>6837.909605</td>\n",
       "      <td>37877.830508</td>\n",
       "      <td>9.672316</td>\n",
       "      <td>4087.401130</td>\n",
       "      <td>1845.847458</td>\n",
       "      <td>35319.576271</td>\n",
       "      <td>1287.081921</td>\n",
       "      <td>2225.621469</td>\n",
       "    </tr>\n",
       "    <tr>\n",
       "      <th>std</th>\n",
       "      <td>9.613056e+05</td>\n",
       "      <td>2327.025400</td>\n",
       "      <td>6911.314511</td>\n",
       "      <td>0.256554</td>\n",
       "      <td>1120.502083</td>\n",
       "      <td>7084.420027</td>\n",
       "      <td>2865.555260</td>\n",
       "      <td>20983.773401</td>\n",
       "      <td>8.800269</td>\n",
       "      <td>1715.391752</td>\n",
       "      <td>217.757017</td>\n",
       "      <td>9480.505600</td>\n",
       "      <td>735.264079</td>\n",
       "      <td>882.107496</td>\n",
       "    </tr>\n",
       "    <tr>\n",
       "      <th>min</th>\n",
       "      <td>6.320000e+02</td>\n",
       "      <td>0.000000</td>\n",
       "      <td>740.000000</td>\n",
       "      <td>0.000000</td>\n",
       "      <td>3850.000000</td>\n",
       "      <td>35610.000000</td>\n",
       "      <td>290.000000</td>\n",
       "      <td>11370.000000</td>\n",
       "      <td>1.000000</td>\n",
       "      <td>1880.000000</td>\n",
       "      <td>1260.000000</td>\n",
       "      <td>252.000000</td>\n",
       "      <td>198.000000</td>\n",
       "      <td>500.000000</td>\n",
       "    </tr>\n",
       "    <tr>\n",
       "      <th>25%</th>\n",
       "      <td>8.030250e+03</td>\n",
       "      <td>0.000000</td>\n",
       "      <td>5130.000000</td>\n",
       "      <td>0.000000</td>\n",
       "      <td>4530.000000</td>\n",
       "      <td>58817.500000</td>\n",
       "      <td>4265.000000</td>\n",
       "      <td>20808.250000</td>\n",
       "      <td>4.000000</td>\n",
       "      <td>2790.000000</td>\n",
       "      <td>1740.000000</td>\n",
       "      <td>37283.000000</td>\n",
       "      <td>680.000000</td>\n",
       "      <td>1702.500000</td>\n",
       "    </tr>\n",
       "    <tr>\n",
       "      <th>50%</th>\n",
       "      <td>2.739750e+04</td>\n",
       "      <td>0.000000</td>\n",
       "      <td>9690.000000</td>\n",
       "      <td>0.000000</td>\n",
       "      <td>5380.000000</td>\n",
       "      <td>61985.000000</td>\n",
       "      <td>7880.000000</td>\n",
       "      <td>31222.000000</td>\n",
       "      <td>5.000000</td>\n",
       "      <td>3300.000000</td>\n",
       "      <td>1910.000000</td>\n",
       "      <td>39098.000000</td>\n",
       "      <td>1157.000000</td>\n",
       "      <td>2140.000000</td>\n",
       "    </tr>\n",
       "    <tr>\n",
       "      <th>75%</th>\n",
       "      <td>3.692268e+05</td>\n",
       "      <td>1250.000000</td>\n",
       "      <td>18100.000000</td>\n",
       "      <td>0.000000</td>\n",
       "      <td>6240.000000</td>\n",
       "      <td>66235.000000</td>\n",
       "      <td>9405.000000</td>\n",
       "      <td>52269.750000</td>\n",
       "      <td>24.000000</td>\n",
       "      <td>6660.000000</td>\n",
       "      <td>2020.000000</td>\n",
       "      <td>39621.000000</td>\n",
       "      <td>1709.750000</td>\n",
       "      <td>2500.000000</td>\n",
       "    </tr>\n",
       "    <tr>\n",
       "      <th>max</th>\n",
       "      <td>8.897620e+06</td>\n",
       "      <td>10000.000000</td>\n",
       "      <td>27740.000000</td>\n",
       "      <td>1.000000</td>\n",
       "      <td>8710.000000</td>\n",
       "      <td>87800.000000</td>\n",
       "      <td>10000.000000</td>\n",
       "      <td>107103.000000</td>\n",
       "      <td>24.000000</td>\n",
       "      <td>7110.000000</td>\n",
       "      <td>2200.000000</td>\n",
       "      <td>39690.000000</td>\n",
       "      <td>3797.000000</td>\n",
       "      <td>5000.000000</td>\n",
       "    </tr>\n",
       "  </tbody>\n",
       "</table>\n",
       "</div>"
      ],
      "text/plain": [
       "               CRIM            ZN         INDUS        CHAS          NOX  \\\n",
       "count  3.540000e+02    354.000000    354.000000  354.000000   354.000000   \n",
       "mean   3.956222e+05   1116.666667  11072.316384    0.070621  5535.022599   \n",
       "std    9.613056e+05   2327.025400   6911.314511    0.256554  1120.502083   \n",
       "min    6.320000e+02      0.000000    740.000000    0.000000  3850.000000   \n",
       "25%    8.030250e+03      0.000000   5130.000000    0.000000  4530.000000   \n",
       "50%    2.739750e+04      0.000000   9690.000000    0.000000  5380.000000   \n",
       "75%    3.692268e+05   1250.000000  18100.000000    0.000000  6240.000000   \n",
       "max    8.897620e+06  10000.000000  27740.000000    1.000000  8710.000000   \n",
       "\n",
       "                 RM           AGE            DIS         RAD          TAX  \\\n",
       "count    354.000000    354.000000     354.000000  354.000000   354.000000   \n",
       "mean   62693.559322   6837.909605   37877.830508    9.672316  4087.401130   \n",
       "std     7084.420027   2865.555260   20983.773401    8.800269  1715.391752   \n",
       "min    35610.000000    290.000000   11370.000000    1.000000  1880.000000   \n",
       "25%    58817.500000   4265.000000   20808.250000    4.000000  2790.000000   \n",
       "50%    61985.000000   7880.000000   31222.000000    5.000000  3300.000000   \n",
       "75%    66235.000000   9405.000000   52269.750000   24.000000  6660.000000   \n",
       "max    87800.000000  10000.000000  107103.000000   24.000000  7110.000000   \n",
       "\n",
       "           PTRATIO             B        LSTAT         MEDV  \n",
       "count   354.000000    354.000000   354.000000   354.000000  \n",
       "mean   1845.847458  35319.576271  1287.081921  2225.621469  \n",
       "std     217.757017   9480.505600   735.264079   882.107496  \n",
       "min    1260.000000    252.000000   198.000000   500.000000  \n",
       "25%    1740.000000  37283.000000   680.000000  1702.500000  \n",
       "50%    1910.000000  39098.000000  1157.000000  2140.000000  \n",
       "75%    2020.000000  39621.000000  1709.750000  2500.000000  \n",
       "max    2200.000000  39690.000000  3797.000000  5000.000000  "
      ]
     },
     "execution_count": 23,
     "metadata": {},
     "output_type": "execute_result"
    }
   ],
   "source": [
    "train.describe()"
   ]
  },
  {
   "cell_type": "code",
   "execution_count": 33,
   "id": "f65d0c78",
   "metadata": {},
   "outputs": [
    {
     "data": {
      "text/plain": [
       "386    2439380\n",
       "436    1442080\n",
       "89        5302\n",
       "361     383684\n",
       "11       11747\n",
       "        ...   \n",
       "233      33147\n",
       "463     582115\n",
       "32      138799\n",
       "42       14150\n",
       "175       6664\n",
       "Name: CRIM, Length: 354, dtype: int64"
      ]
     },
     "execution_count": 33,
     "metadata": {},
     "output_type": "execute_result"
    }
   ],
   "source": [
    "train_crimenes = train['CRIM']\n",
    "train_crimenes"
   ]
  },
  {
   "cell_type": "code",
   "execution_count": 31,
   "id": "48bceb4f",
   "metadata": {},
   "outputs": [
    {
     "data": {
      "text/plain": [
       "<bound method NDFrame._add_numeric_operations.<locals>.mean of 386    2439380\n",
       "436    1442080\n",
       "89        5302\n",
       "361     383684\n",
       "11       11747\n",
       "        ...   \n",
       "233      33147\n",
       "463     582115\n",
       "32      138799\n",
       "42       14150\n",
       "175       6664\n",
       "Name: CRIM, Length: 354, dtype: int64>"
      ]
     },
     "execution_count": 31,
     "metadata": {},
     "output_type": "execute_result"
    }
   ],
   "source": [
    "train_grafico = train['CRIM'].mean\n",
    "train_grafico\n",
    "\n"
   ]
  },
  {
   "cell_type": "code",
   "execution_count": 34,
   "id": "aa8aec07",
   "metadata": {},
   "outputs": [
    {
     "data": {
      "text/plain": [
       "<AxesSubplot:>"
      ]
     },
     "execution_count": 34,
     "metadata": {},
     "output_type": "execute_result"
    },
    {
     "data": {
      "image/png": "[encoded data removed]",
      "text/plain": [
       "<Figure size 432x288 with 1 Axes>"
      ]
     },
     "metadata": {
      "needs_background": "light"
     },
     "output_type": "display_data"
    }
   ],
   "source": [
    "train_crimenes.plot(kind='box')"
   ]
  },
  {
   "cell_type": "markdown",
   "id": "02eb43f5",
   "metadata": {},
   "source": [
    "Analizaré los datos de la división correspondiente al TEST"
   ]
  },
  {
   "cell_type": "code",
   "execution_count": 37,
   "id": "d4f84acb",
   "metadata": {},
   "outputs": [
    {
     "name": "stdout",
     "output_type": "stream",
     "text": [
      "       CRIM    ZN  INDUS  CHAS   NOX     RM   AGE    DIS  RAD   TAX  PTRATIO  \\\n",
      "46    18836     0   6910     0  4480  57860  3330  51004    3  2330     1790   \n",
      "127   25915     0  21890     0  6240  56930  9600  17883    4  4370     2120   \n",
      "79     8387     0  12830     0  4370  58740  3660  45026    5  3980     1870   \n",
      "317   24522     0   9900     0  5440  57820  7170  40317    4  3040     1840   \n",
      "97    12083     0   2890     0  4450  80690  7600  34952    2  2760     1800   \n",
      "..      ...   ...    ...   ...   ...    ...   ...    ...  ...   ...      ...   \n",
      "2      2729     0   7070     0  4690  71850  6110  49671    2  2420     1780   \n",
      "372  826725     0  18100     1  6680  58750  8960  11296   24  6660     2020   \n",
      "313   26938     0   9900     0  5440  62660  8280  32628    4  3040     1840   \n",
      "213   14052     0  10590     0  4890  63750  3230  39454    4  2770     1860   \n",
      "269    9065  2000   6960     1  4640  59200  6150  39175    3  2230     1860   \n",
      "\n",
      "         B  LSTAT  MEDV  \n",
      "46   39690   1415  2000  \n",
      "127  39211   1719  1620  \n",
      "79   39606    910  2030  \n",
      "317  39690   1594  1980  \n",
      "97   39690    421  3870  \n",
      "..     ...    ...   ...  \n",
      "2    39283    403  3470  \n",
      "372  34788    888  5000  \n",
      "313  39339    790  2160  \n",
      "213  38581    938  2810  \n",
      "269  39134   1365  2070  \n",
      "\n",
      "[152 rows x 14 columns]\n"
     ]
    }
   ],
   "source": [
    "print(test)"
   ]
  },
  {
   "cell_type": "code",
   "execution_count": 39,
   "id": "8d4dcea4",
   "metadata": {},
   "outputs": [
    {
     "data": {
      "text/plain": [
       "(152, 14)"
      ]
     },
     "execution_count": 39,
     "metadata": {},
     "output_type": "execute_result"
    }
   ],
   "source": [
    "test.shape"
   ]
  },
  {
   "cell_type": "code",
   "execution_count": 38,
   "id": "04e7f4e4",
   "metadata": {},
   "outputs": [
    {
     "data": {
      "text/plain": [
       "<bound method NDFrame.describe of        CRIM    ZN  INDUS  CHAS   NOX     RM   AGE    DIS  RAD   TAX  PTRATIO  \\\n",
       "46    18836     0   6910     0  4480  57860  3330  51004    3  2330     1790   \n",
       "127   25915     0  21890     0  6240  56930  9600  17883    4  4370     2120   \n",
       "79     8387     0  12830     0  4370  58740  3660  45026    5  3980     1870   \n",
       "317   24522     0   9900     0  5440  57820  7170  40317    4  3040     1840   \n",
       "97    12083     0   2890     0  4450  80690  7600  34952    2  2760     1800   \n",
       "..      ...   ...    ...   ...   ...    ...   ...    ...  ...   ...      ...   \n",
       "2      2729     0   7070     0  4690  71850  6110  49671    2  2420     1780   \n",
       "372  826725     0  18100     1  6680  58750  8960  11296   24  6660     2020   \n",
       "313   26938     0   9900     0  5440  62660  8280  32628    4  3040     1840   \n",
       "213   14052     0  10590     0  4890  63750  3230  39454    4  2770     1860   \n",
       "269    9065  2000   6960     1  4640  59200  6150  39175    3  2230     1860   \n",
       "\n",
       "         B  LSTAT  MEDV  \n",
       "46   39690   1415  2000  \n",
       "127  39211   1719  1620  \n",
       "79   39606    910  2030  \n",
       "317  39690   1594  1980  \n",
       "97   39690    421  3870  \n",
       "..     ...    ...   ...  \n",
       "2    39283    403  3470  \n",
       "372  34788    888  5000  \n",
       "313  39339    790  2160  \n",
       "213  38581    938  2810  \n",
       "269  39134   1365  2070  \n",
       "\n",
       "[152 rows x 14 columns]>"
      ]
     },
     "execution_count": 38,
     "metadata": {},
     "output_type": "execute_result"
    }
   ],
   "source": [
    "test.describe"
   ]
  },
  {
   "cell_type": "code",
   "execution_count": 40,
   "id": "fa3bbd8f",
   "metadata": {},
   "outputs": [
    {
     "data": {
      "text/plain": [
       "386    2439380\n",
       "436    1442080\n",
       "89        5302\n",
       "361     383684\n",
       "11       11747\n",
       "        ...   \n",
       "233      33147\n",
       "463     582115\n",
       "32      138799\n",
       "42       14150\n",
       "175       6664\n",
       "Name: CRIM, Length: 354, dtype: int64"
      ]
     },
     "execution_count": 40,
     "metadata": {},
     "output_type": "execute_result"
    }
   ],
   "source": [
    "test_crimenes = train['CRIM']\n",
    "test_crimenes"
   ]
  },
  {
   "cell_type": "code",
   "execution_count": 41,
   "id": "b030e3e6",
   "metadata": {},
   "outputs": [
    {
     "data": {
      "text/plain": [
       "<bound method NDFrame._add_numeric_operations.<locals>.mean of 386    2439380\n",
       "436    1442080\n",
       "89        5302\n",
       "361     383684\n",
       "11       11747\n",
       "        ...   \n",
       "233      33147\n",
       "463     582115\n",
       "32      138799\n",
       "42       14150\n",
       "175       6664\n",
       "Name: CRIM, Length: 354, dtype: int64>"
      ]
     },
     "execution_count": 41,
     "metadata": {},
     "output_type": "execute_result"
    }
   ],
   "source": [
    "test_grafico = train['CRIM'].mean\n",
    "test_grafico"
   ]
  },
  {
   "cell_type": "code",
   "execution_count": 43,
   "id": "1a90e12a",
   "metadata": {},
   "outputs": [
    {
     "data": {
      "text/plain": [
       "<AxesSubplot:>"
      ]
     },
     "execution_count": 43,
     "metadata": {},
     "output_type": "execute_result"
    },
    {
     "data": {
      "image/png": "[encoded data removed]",
      "text/plain": [
       "<Figure size 432x288 with 1 Axes>"
      ]
     },
     "metadata": {
      "needs_background": "light"
     },
     "output_type": "display_data"
    }
   ],
   "source": [
    "test_crimenes.plot(kind = 'box')"
   ]
  },
  {
   "cell_type": "code",
   "execution_count": 1,
   "id": "253d5a80",
   "metadata": {},
   "outputs": [
    {
     "data": {
      "image/png": "[encoded data removed]",
      "text/plain": [
       "<Figure size 432x288 with 1 Axes>"
      ]
     },
     "metadata": {
      "needs_background": "light"
     },
     "output_type": "display_data"
    }
   ],
   "source": [
    "import numpy\n",
    "import matplotlib.pyplot as plt\n",
    "numpy.random.seed(2)\n",
    "\n",
    "x = numpy.random.normal(3, 1, 100)\n",
    "y = numpy.random.normal(150, 40, 100) / x\n",
    "\n",
    "plt.scatter(x, y)\n",
    "plt.show()"
   ]
  },
  {
   "cell_type": "code",
   "execution_count": 2,
   "id": "23ff3758",
   "metadata": {},
   "outputs": [
    {
     "name": "stdout",
     "output_type": "stream",
     "text": [
      "(670, 2) (330, 2) (670,) (330,)\n"
     ]
    }
   ],
   "source": [
    "from sklearn.datasets import make_blobs\n",
    "from sklearn.model_selection import train_test_split\n",
    "# create dataset\n",
    "X, y = make_blobs(n_samples=1000)\n",
    "# split into train test sets\n",
    "X_train, X_test, y_train, y_test = train_test_split(X, y, test_size=0.33)\n",
    "print(X_train.shape, X_test.shape, y_train.shape, y_test.shape)"
   ]
  },
  {
   "cell_type": "code",
   "execution_count": null,
   "id": "c65e464e",
   "metadata": {},
   "outputs": [],
   "source": []
  }
 ],
 "metadata": {
  "kernelspec": {
   "display_name": "Python 3 (ipykernel)",
   "language": "python",
   "name": "python3"
  },
  "language_info": {
   "codemirror_mode": {
    "name": "ipython",
    "version": 3
   },
   "file_extension": ".py",
   "mimetype": "text/x-python",
   "name": "python",
   "nbconvert_exporter": "python",
   "pygments_lexer": "ipython3",
   "version": "3.9.12"
  }
 },
 "nbformat": 4,
 "nbformat_minor": 5
}
